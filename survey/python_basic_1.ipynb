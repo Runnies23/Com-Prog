{
 "cells": [
  {
   "cell_type": "markdown",
   "id": "c6deebbf",
   "metadata": {},
   "source": [
    "### Init valuable\n",
    "1. ต้องขึ้นต้นด้วยตัวอักษร A-Z, a-z หรือเครื่องหมาย _ (Underscore) เท่านั้น \n",
    "2. ภายในชื่อตัวแปรสามารถใช้ตัวอักษร A-Z, a-z, 0-9 หรือเครื่องหมาย  _ (Underscore)\n",
    "3. ภายในชื่อห้ามเว้นช่องว่างหรืออักษรพิเศษ \n",
    "4. Case Sensititive – ตัวอักษรพิมพ์ใหญ่และพิมพ์เล็กจะมีความหมายต่างกัน \n",
    "Ex. HEllO != HELLO\n",
    "5. คำที่เป็น command ของ python : if else False True or while for with class list"
   ]
  },
  {
   "cell_type": "code",
   "execution_count": 55,
   "id": "4ea229f1",
   "metadata": {},
   "outputs": [
    {
     "data": {
      "text/plain": [
       "(123, 3)"
      ]
     },
     "execution_count": 55,
     "metadata": {},
     "output_type": "execute_result"
    }
   ],
   "source": [
    "A = 123\n",
    "a = 3\n",
    "A, a  # 4 case sensitive"
   ]
  },
  {
   "cell_type": "code",
   "execution_count": 56,
   "id": "1618452d",
   "metadata": {},
   "outputs": [
    {
     "ename": "SyntaxError",
     "evalue": "invalid decimal literal (3273700543.py, line 1)",
     "output_type": "error",
     "traceback": [
      "\u001b[0;36m  Cell \u001b[0;32mIn[56], line 1\u001b[0;36m\u001b[0m\n\u001b[0;31m    1B = 5 #valuable ขึ้นต้นด้วยตัวเลขไม่ได้\u001b[0m\n\u001b[0m    ^\u001b[0m\n\u001b[0;31mSyntaxError\u001b[0m\u001b[0;31m:\u001b[0m invalid decimal literal\n"
     ]
    }
   ],
   "source": [
    "1B = 5 #valuable ขึ้นต้นด้วยตัวเลขไม่ได้\n",
    "hello world = \"dsad\"\n",
    "Hello()wor = 123\n",
    "if = 5 #value เป็น command python mai dai"
   ]
  },
  {
   "cell_type": "markdown",
   "id": "2ca492d6",
   "metadata": {},
   "source": [
    "### Data Type "
   ]
  },
  {
   "cell_type": "code",
   "execution_count": 58,
   "id": "8d6a54e7",
   "metadata": {},
   "outputs": [
    {
     "data": {
      "text/plain": [
       "int"
      ]
     },
     "execution_count": 58,
     "metadata": {},
     "output_type": "execute_result"
    }
   ],
   "source": [
    "int_type = 34 #ตัวเลขนจำนวนเต็ม\n",
    "type(int_type)"
   ]
  },
  {
   "cell_type": "code",
   "execution_count": 8,
   "id": "055de8ae",
   "metadata": {},
   "outputs": [
    {
     "data": {
      "text/plain": [
       "float"
      ]
     },
     "execution_count": 8,
     "metadata": {},
     "output_type": "execute_result"
    }
   ],
   "source": [
    "float_type = 3.13\n",
    "type(float_type)"
   ]
  },
  {
   "cell_type": "code",
   "execution_count": null,
   "id": "09fca510",
   "metadata": {},
   "outputs": [
    {
     "data": {
      "text/plain": [
       "3"
      ]
     },
     "execution_count": 9,
     "metadata": {},
     "output_type": "execute_result"
    }
   ],
   "source": [
    "# float -> int  \n",
    "int(3.14) # จะตัดทศนิยมทิ้ง ไม่ได้ปัด"
   ]
  },
  {
   "cell_type": "code",
   "execution_count": 60,
   "id": "b67dc94b",
   "metadata": {},
   "outputs": [
    {
     "ename": "SyntaxError",
     "evalue": "unterminated string literal (detected at line 5) (522661550.py, line 5)",
     "output_type": "error",
     "traceback": [
      "\u001b[0;36m  Cell \u001b[0;32mIn[60], line 5\u001b[0;36m\u001b[0m\n\u001b[0;31m    string = \"he #จะ init value ไม่ได้\u001b[0m\n\u001b[0m             ^\u001b[0m\n\u001b[0;31mSyntaxError\u001b[0m\u001b[0;31m:\u001b[0m unterminated string literal (detected at line 5)\n"
     ]
    }
   ],
   "source": [
    "# String จะใช้ double quotes  && single quotes ครุมตัวอักษร But จะคุมเเค่บรรทัดเดียว only\n",
    "string = \"Hello\"\n",
    "string = 'Hello' \n",
    "\n",
    "string = \"he #จะ init value ไม่ได้ \n",
    "llo\"\n",
    "\n",
    "# case sensitive \n",
    "string = \"Hello \" world \" #string เป็นอันเดียวกันเเล้วไม่ครบจะไม่ได้\n",
    "string = \"Hello\"\" \"\n",
    "\n",
    "#use triple double string to turn text \n",
    "string = \"\"\"Helloworld\n",
    "what is \n",
    "this\"\"\""
   ]
  },
  {
   "cell_type": "code",
   "execution_count": 36,
   "id": "64db4b18",
   "metadata": {},
   "outputs": [],
   "source": [
    "#Join - concat string\n",
    "text = \"\""
   ]
  },
  {
   "cell_type": "code",
   "execution_count": 37,
   "id": "0a1bced7",
   "metadata": {},
   "outputs": [
    {
     "data": {
      "text/plain": [
       "'Hello'"
      ]
     },
     "execution_count": 37,
     "metadata": {},
     "output_type": "execute_result"
    }
   ],
   "source": [
    "text += \"Hello\"\n",
    "# text = text + \"Hello\"\n",
    "text"
   ]
  },
  {
   "cell_type": "code",
   "execution_count": 38,
   "id": "df6a2112",
   "metadata": {},
   "outputs": [
    {
     "data": {
      "text/plain": [
       "'123Hello'"
      ]
     },
     "execution_count": 38,
     "metadata": {},
     "output_type": "execute_result"
    }
   ],
   "source": [
    "text = \"123\" + text\n",
    "text"
   ]
  },
  {
   "cell_type": "code",
   "execution_count": 39,
   "id": "869117ca",
   "metadata": {},
   "outputs": [
    {
     "data": {
      "text/plain": [
       "8"
      ]
     },
     "execution_count": 39,
     "metadata": {},
     "output_type": "execute_result"
    }
   ],
   "source": [
    "len(text)"
   ]
  },
  {
   "cell_type": "code",
   "execution_count": 11,
   "id": "29689693",
   "metadata": {},
   "outputs": [
    {
     "name": "stdout",
     "output_type": "stream",
     "text": [
      "1.first 2.Second 3.Third\n"
     ]
    }
   ],
   "source": [
    "#Join string\n",
    "lst_str = [\"1.first\", \"2.Second\",\"3.Third\"] #init list of string"
   ]
  },
  {
   "cell_type": "code",
   "execution_count": 13,
   "id": "d0bd7af4",
   "metadata": {},
   "outputs": [
    {
     "name": "stdout",
     "output_type": "stream",
     "text": [
      "1.first 2.Second 3.Third\n"
     ]
    }
   ],
   "source": [
    "# print all the string in the list\n",
    "print(\" \".join(lst_str))"
   ]
  },
  {
   "cell_type": "code",
   "execution_count": 14,
   "id": "6fb81839",
   "metadata": {},
   "outputs": [
    {
     "name": "stdout",
     "output_type": "stream",
     "text": [
      "1.first\n",
      "2.Second\n",
      "3.Third\n"
     ]
    }
   ],
   "source": [
    "print(\"\\n\".join(lst_str))"
   ]
  },
  {
   "cell_type": "code",
   "execution_count": 16,
   "id": "11740fde",
   "metadata": {},
   "outputs": [
    {
     "name": "stdout",
     "output_type": "stream",
     "text": [
      "1.first, 2.Second, 3.Third\n"
     ]
    }
   ],
   "source": [
    "print(\", \".join(lst_str))"
   ]
  },
  {
   "cell_type": "code",
   "execution_count": 17,
   "id": "d3d6c918",
   "metadata": {},
   "outputs": [
    {
     "name": "stdout",
     "output_type": "stream",
     "text": [
      "Print : ['1.first', '2.Second', '3.Third']\n"
     ]
    }
   ],
   "source": [
    "#print format string\n",
    "print(f\"Print : {lst_str}\")"
   ]
  },
  {
   "cell_type": "code",
   "execution_count": 61,
   "id": "b6695363",
   "metadata": {},
   "outputs": [
    {
     "name": "stdout",
     "output_type": "stream",
     "text": [
      "Print : 3.14\n",
      "Print : 3.1425               Smth\n",
      "Print :        3.1425        Smth\n",
      "Print :               3.1425 Smth\n",
      "Print :                  3.1 Smth\n"
     ]
    }
   ],
   "source": [
    "print(f\"Print : {3.1425:.2f}\")\n",
    "print(f\"Print : {3.1425:<20} Smth\")\n",
    "print(f\"Print : {3.1425:^20} Smth\")\n",
    "print(f\"Print : {3.1425:>20} Smth\")\n",
    "print(f\"Print : {3.1425:>20.1f} Smth\")"
   ]
  },
  {
   "cell_type": "code",
   "execution_count": 26,
   "id": "e41fdfe6",
   "metadata": {},
   "outputs": [
    {
     "name": "stdout",
     "output_type": "stream",
     "text": [
      "0 : M\n",
      "1 : y\n",
      "2 : N\n",
      "3 : a\n",
      "4 : m\n",
      "5 : e\n",
      "6 : I\n",
      "7 : s\n",
      "8 : R\n",
      "9 : u\n",
      "10 : n\n"
     ]
    }
   ],
   "source": [
    "String_idx = \"MyNameIsRun\"\n",
    "for index in range(len(String_idx)):\n",
    "    print(f\"{index} : {String_idx[index]}\")"
   ]
  },
  {
   "cell_type": "code",
   "execution_count": 30,
   "id": "11feb866",
   "metadata": {},
   "outputs": [
    {
     "data": {
      "text/plain": [
       "'Run'"
      ]
     },
     "execution_count": 30,
     "metadata": {},
     "output_type": "execute_result"
    }
   ],
   "source": [
    "String_idx[8:]"
   ]
  },
  {
   "cell_type": "code",
   "execution_count": 31,
   "id": "ae07743d",
   "metadata": {},
   "outputs": [
    {
     "data": {
      "text/plain": [
       "'Run'"
      ]
     },
     "execution_count": 31,
     "metadata": {},
     "output_type": "execute_result"
    }
   ],
   "source": [
    "String_idx[-3:]"
   ]
  },
  {
   "cell_type": "code",
   "execution_count": 40,
   "id": "f96affb6",
   "metadata": {},
   "outputs": [
    {
     "data": {
      "text/plain": [
       "'NameIs'"
      ]
     },
     "execution_count": 40,
     "metadata": {},
     "output_type": "execute_result"
    }
   ],
   "source": [
    "# start -> start + 1\n",
    "String_idx[2:8]"
   ]
  },
  {
   "cell_type": "code",
   "execution_count": 42,
   "id": "f0d946b4",
   "metadata": {},
   "outputs": [
    {
     "data": {
      "text/plain": [
       "'nuRsIemaNyM'"
      ]
     },
     "execution_count": 42,
     "metadata": {},
     "output_type": "execute_result"
    }
   ],
   "source": [
    "reversed_string = String_idx[::-1]\n",
    "reversed_string"
   ]
  },
  {
   "cell_type": "code",
   "execution_count": 44,
   "id": "132b2fb4",
   "metadata": {},
   "outputs": [
    {
     "name": "stdout",
     "output_type": "stream",
     "text": [
      "MyNameIsRun\n",
      "MyNameIsFrank\n",
      "MyNameIsRun\n"
     ]
    }
   ],
   "source": [
    "print(String_idx)\n",
    "print(String_idx.replace(\"Run\",\"Frank\"))\n",
    "print(String_idx.replace(\"Run.\",\"Frank\"))"
   ]
  },
  {
   "cell_type": "code",
   "execution_count": 62,
   "id": "cd352594",
   "metadata": {},
   "outputs": [
    {
     "name": "stdout",
     "output_type": "stream",
     "text": [
      "dsaddsadasdddsda\n"
     ]
    }
   ],
   "source": [
    "print(\"dsad dsadasdd dsda\".replace(\" \",\"\"))"
   ]
  },
  {
   "cell_type": "code",
   "execution_count": 45,
   "id": "c4826f5b",
   "metadata": {},
   "outputs": [
    {
     "data": {
      "text/plain": [
       "'e'"
      ]
     },
     "execution_count": 45,
     "metadata": {},
     "output_type": "execute_result"
    }
   ],
   "source": [
    "Charactor_operation = String_idx[5]\n",
    "Charactor_operation"
   ]
  },
  {
   "cell_type": "code",
   "execution_count": 49,
   "id": "975f0404",
   "metadata": {},
   "outputs": [
    {
     "name": "stdout",
     "output_type": "stream",
     "text": [
      "True\n",
      "True\n",
      "False\n",
      "False\n",
      "True\n",
      "False\n",
      "False\n",
      "False\n",
      "False\n",
      "True\n",
      "True\n"
     ]
    }
   ],
   "source": [
    "print(Charactor_operation.isalpha()) #\talphanumeric\n",
    "print(Charactor_operation.isalnum()) #alphabet\n",
    "print(Charactor_operation.isdecimal()) #decimals\n",
    "print(Charactor_operation.isdigit()) #is number\n",
    "print(Charactor_operation.islower()) #lower case \n",
    "print(Charactor_operation.isupper()) #upper case\n",
    "print(Charactor_operation.isnumeric()) #numeric\n",
    "print(Charactor_operation.isspace()) #space \n",
    "print(Charactor_operation.istitle()) \n",
    "print(Charactor_operation.isascii())#characters\n",
    "print(Charactor_operation.isidentifier())"
   ]
  },
  {
   "cell_type": "code",
   "execution_count": 54,
   "id": "9539aa07",
   "metadata": {},
   "outputs": [
    {
     "data": {
      "text/plain": [
       "True"
      ]
     },
     "execution_count": 54,
     "metadata": {},
     "output_type": "execute_result"
    }
   ],
   "source": [
    "Charactor_operation.upper()\n",
    "Charactor_operation.lower()\n",
    "\n",
    "Charactor_operation.startswith(\"2\")\n",
    "Charactor_operation.endswith(\"e\")"
   ]
  },
  {
   "cell_type": "code",
   "execution_count": 50,
   "id": "eea4fb0a",
   "metadata": {},
   "outputs": [
    {
     "data": {
      "text/plain": [
       "['Im Frank', ' Run', ' P', ' J']"
      ]
     },
     "execution_count": 50,
     "metadata": {},
     "output_type": "execute_result"
    }
   ],
   "source": [
    "text = 'Im Frank, Run, P, J'\n",
    "text.split(\",\")"
   ]
  },
  {
   "cell_type": "markdown",
   "id": "b9edcd1e",
   "metadata": {},
   "source": [
    "### List "
   ]
  },
  {
   "cell_type": "code",
   "execution_count": null,
   "id": "4b268041",
   "metadata": {},
   "outputs": [],
   "source": [
    "# list\n",
    "list_01 = [] #create empty list\n",
    "list_01 "
   ]
  },
  {
   "cell_type": "code",
   "execution_count": 63,
   "id": "62d21f47",
   "metadata": {},
   "outputs": [
    {
     "data": {
      "text/plain": [
       "[]"
      ]
     },
     "execution_count": 63,
     "metadata": {},
     "output_type": "execute_result"
    }
   ],
   "source": [
    "list_01 = list()\n",
    "list_01"
   ]
  },
  {
   "cell_type": "code",
   "execution_count": 64,
   "id": "4790615c",
   "metadata": {},
   "outputs": [
    {
     "data": {
      "text/plain": [
       "[1, 2, 3, 4]"
      ]
     },
     "execution_count": 64,
     "metadata": {},
     "output_type": "execute_result"
    }
   ],
   "source": [
    "# list\n",
    "list_02 = [1,2,3,4] #create list with value inside\n",
    "list_02 "
   ]
  },
  {
   "cell_type": "code",
   "execution_count": 10,
   "id": "eda0f648",
   "metadata": {},
   "outputs": [
    {
     "name": "stdout",
     "output_type": "stream",
     "text": [
      "[]\n"
     ]
    },
    {
     "data": {
      "text/plain": [
       "['Hello']"
      ]
     },
     "execution_count": 10,
     "metadata": {},
     "output_type": "execute_result"
    }
   ],
   "source": [
    "list_01 = [] #create empty list\n",
    "print(list_01 )\n",
    "list_01.append(\"Hello\")\n",
    "list_01"
   ]
  },
  {
   "cell_type": "code",
   "execution_count": 11,
   "id": "da7cb0dd",
   "metadata": {},
   "outputs": [
    {
     "data": {
      "text/plain": [
       "['Hello', 'World']"
      ]
     },
     "execution_count": 11,
     "metadata": {},
     "output_type": "execute_result"
    }
   ],
   "source": [
    "list_01.append(\"World\")\n",
    "list_01"
   ]
  },
  {
   "cell_type": "code",
   "execution_count": 12,
   "id": "26228200",
   "metadata": {},
   "outputs": [
    {
     "data": {
      "text/plain": [
       "'World'"
      ]
     },
     "execution_count": 12,
     "metadata": {},
     "output_type": "execute_result"
    }
   ],
   "source": [
    "list_01.pop()"
   ]
  },
  {
   "cell_type": "code",
   "execution_count": 13,
   "id": "cc7b23ac",
   "metadata": {},
   "outputs": [
    {
     "data": {
      "text/plain": [
       "['Hello']"
      ]
     },
     "execution_count": 13,
     "metadata": {},
     "output_type": "execute_result"
    }
   ],
   "source": [
    "list_01"
   ]
  },
  {
   "cell_type": "code",
   "execution_count": 14,
   "id": "3df9afd5",
   "metadata": {},
   "outputs": [],
   "source": [
    "list_01.remove(\"Hello\")"
   ]
  },
  {
   "cell_type": "code",
   "execution_count": 15,
   "id": "27798322",
   "metadata": {},
   "outputs": [
    {
     "data": {
      "text/plain": [
       "[]"
      ]
     },
     "execution_count": 15,
     "metadata": {},
     "output_type": "execute_result"
    }
   ],
   "source": [
    "list_01"
   ]
  },
  {
   "cell_type": "code",
   "execution_count": 17,
   "id": "8ba2b8ea",
   "metadata": {},
   "outputs": [
    {
     "data": {
      "text/plain": [
       "[6, 6, 8, 1, 5]"
      ]
     },
     "execution_count": 17,
     "metadata": {},
     "output_type": "execute_result"
    }
   ],
   "source": [
    "#list index\n",
    "list_02 = [6,6,8,1,5]\n",
    "list_02"
   ]
  },
  {
   "cell_type": "code",
   "execution_count": 18,
   "id": "2b0d2052",
   "metadata": {},
   "outputs": [
    {
     "data": {
      "text/plain": [
       "8"
      ]
     },
     "execution_count": 18,
     "metadata": {},
     "output_type": "execute_result"
    }
   ],
   "source": [
    "list_02[2]"
   ]
  },
  {
   "cell_type": "code",
   "execution_count": 19,
   "id": "ed6cef2d",
   "metadata": {},
   "outputs": [
    {
     "data": {
      "text/plain": [
       "5"
      ]
     },
     "execution_count": 19,
     "metadata": {},
     "output_type": "execute_result"
    }
   ],
   "source": [
    "len(list_02)"
   ]
  },
  {
   "cell_type": "code",
   "execution_count": 21,
   "id": "c9a42b15",
   "metadata": {},
   "outputs": [
    {
     "ename": "IndexError",
     "evalue": "list index out of range",
     "output_type": "error",
     "traceback": [
      "\u001b[0;31m---------------------------------------------------------------------------\u001b[0m",
      "\u001b[0;31mIndexError\u001b[0m                                Traceback (most recent call last)",
      "Cell \u001b[0;32mIn[21], line 2\u001b[0m\n\u001b[1;32m      1\u001b[0m \u001b[38;5;66;03m# if call the index that is 5\u001b[39;00m\n\u001b[0;32m----> 2\u001b[0m \u001b[43mlist_02\u001b[49m\u001b[43m[\u001b[49m\u001b[38;5;241;43m5\u001b[39;49m\u001b[43m]\u001b[49m \u001b[38;5;66;03m#out of range\u001b[39;00m\n",
      "\u001b[0;31mIndexError\u001b[0m: list index out of range"
     ]
    }
   ],
   "source": [
    "# if call the index that is 5\n",
    "list_02[5] #out of range"
   ]
  },
  {
   "cell_type": "code",
   "execution_count": null,
   "id": "4e322fe5",
   "metadata": {},
   "outputs": [
    {
     "data": {
      "text/plain": [
       "5"
      ]
     },
     "execution_count": 22,
     "metadata": {},
     "output_type": "execute_result"
    }
   ],
   "source": [
    "list_02.append(10)\n",
    "list_02[5] "
   ]
  },
  {
   "cell_type": "code",
   "execution_count": null,
   "id": "a02b31c6",
   "metadata": {},
   "outputs": [],
   "source": [
    "## Dict & set"
   ]
  },
  {
   "cell_type": "markdown",
   "id": "4bf56089",
   "metadata": {},
   "source": [
    "### Dict"
   ]
  },
  {
   "cell_type": "code",
   "execution_count": 36,
   "id": "d107e318",
   "metadata": {},
   "outputs": [],
   "source": [
    "Dict_ = {}\n",
    "Set_ = {}\n",
    "\n",
    "\n",
    "Dict_ = {\n",
    "    \"Key1\" : 123,\n",
    "    \"Key2\" : 321,\n",
    "    \"Run\" : 1,\n",
    "    \"Frank\" : 3,\n",
    "    \"Pee\" : 5,\n",
    "    \"J\" : 7\n",
    "}\n",
    "\n",
    "Set_ = {1,2,3,4}"
   ]
  },
  {
   "cell_type": "code",
   "execution_count": 37,
   "id": "1a33cc29",
   "metadata": {},
   "outputs": [
    {
     "data": {
      "text/plain": [
       "{'Key1': 123, 'Key2': 321, 'Run': 1, 'Frank': 3, 'Pee': 5, 'J': 7}"
      ]
     },
     "execution_count": 37,
     "metadata": {},
     "output_type": "execute_result"
    }
   ],
   "source": [
    "Dict_"
   ]
  },
  {
   "cell_type": "code",
   "execution_count": 38,
   "id": "44bf814c",
   "metadata": {},
   "outputs": [
    {
     "data": {
      "text/plain": [
       "3"
      ]
     },
     "execution_count": 38,
     "metadata": {},
     "output_type": "execute_result"
    }
   ],
   "source": [
    "Dict_['Frank']"
   ]
  },
  {
   "cell_type": "code",
   "execution_count": 39,
   "id": "32f48717",
   "metadata": {},
   "outputs": [
    {
     "ename": "KeyError",
     "evalue": "'Brook'",
     "output_type": "error",
     "traceback": [
      "\u001b[0;31m---------------------------------------------------------------------------\u001b[0m",
      "\u001b[0;31mKeyError\u001b[0m                                  Traceback (most recent call last)",
      "Cell \u001b[0;32mIn[39], line 1\u001b[0m\n\u001b[0;32m----> 1\u001b[0m \u001b[43mDict_\u001b[49m\u001b[43m[\u001b[49m\u001b[38;5;124;43m'\u001b[39;49m\u001b[38;5;124;43mBrook\u001b[39;49m\u001b[38;5;124;43m'\u001b[39;49m\u001b[43m]\u001b[49m\n",
      "\u001b[0;31mKeyError\u001b[0m: 'Brook'"
     ]
    }
   ],
   "source": [
    "Dict_['Brook']"
   ]
  },
  {
   "cell_type": "code",
   "execution_count": 40,
   "id": "e81b0240",
   "metadata": {},
   "outputs": [
    {
     "data": {
      "text/plain": [
       "10"
      ]
     },
     "execution_count": 40,
     "metadata": {},
     "output_type": "execute_result"
    }
   ],
   "source": [
    "Dict_['Brook'] = 10\n",
    "Dict_['Brook']"
   ]
  },
  {
   "cell_type": "code",
   "execution_count": 42,
   "id": "b51b46a8",
   "metadata": {},
   "outputs": [
    {
     "data": {
      "text/plain": [
       "dict_keys(['Key1', 'Key2', 'Run', 'Frank', 'Pee', 'J', 'Brook'])"
      ]
     },
     "execution_count": 42,
     "metadata": {},
     "output_type": "execute_result"
    }
   ],
   "source": [
    "Dict_.keys()"
   ]
  },
  {
   "cell_type": "code",
   "execution_count": 43,
   "id": "afb9dca9",
   "metadata": {},
   "outputs": [
    {
     "data": {
      "text/plain": [
       "dict_values([123, 321, 1, 3, 5, 7, 10])"
      ]
     },
     "execution_count": 43,
     "metadata": {},
     "output_type": "execute_result"
    }
   ],
   "source": [
    "Dict_.values()"
   ]
  },
  {
   "cell_type": "code",
   "execution_count": 45,
   "id": "cab2d018",
   "metadata": {},
   "outputs": [
    {
     "name": "stdout",
     "output_type": "stream",
     "text": [
      "dict_items([('Key1', 123), ('Key2', 321), ('Run', 1), ('Frank', 3), ('Pee', 5), ('J', 7), ('Brook', 10)])\n",
      "Key1\n",
      "Key2\n",
      "Run\n",
      "Frank\n",
      "Pee\n",
      "J\n",
      "Brook\n"
     ]
    }
   ],
   "source": [
    "print(Dict_.items())### often use in for loop - another operation\n",
    "\n",
    "for key, value in Dict_.items():\n",
    "    print(key)"
   ]
  },
  {
   "cell_type": "code",
   "execution_count": 46,
   "id": "a7c11e5d",
   "metadata": {},
   "outputs": [
    {
     "data": {
      "text/plain": [
       "{'Key2': 321, 'Run': 1, 'Frank': 3, 'Pee': 5, 'J': 7, 'Brook': 10}"
      ]
     },
     "execution_count": 46,
     "metadata": {},
     "output_type": "execute_result"
    }
   ],
   "source": [
    "Dict_.pop(\"Key1\")\n",
    "Dict_"
   ]
  },
  {
   "cell_type": "code",
   "execution_count": null,
   "id": "90648d80",
   "metadata": {},
   "outputs": [
    {
     "data": {
      "text/plain": [
       "{'Run': 1, 'Frank': 3, 'Pee': 5, 'J': 7, 'Brook': 10}"
      ]
     },
     "execution_count": 47,
     "metadata": {},
     "output_type": "execute_result"
    }
   ],
   "source": [
    "Dict_.pop(\"Key2\")\n",
    "Dict_"
   ]
  },
  {
   "cell_type": "code",
   "execution_count": 48,
   "id": "1802f171",
   "metadata": {},
   "outputs": [
    {
     "data": {
      "text/plain": [
       "0"
      ]
     },
     "execution_count": 48,
     "metadata": {},
     "output_type": "execute_result"
    }
   ],
   "source": [
    "Dict_.get(\"Best\",0)"
   ]
  },
  {
   "cell_type": "code",
   "execution_count": 50,
   "id": "18bf25ec",
   "metadata": {},
   "outputs": [
    {
     "data": {
      "text/plain": [
       "3"
      ]
     },
     "execution_count": 50,
     "metadata": {},
     "output_type": "execute_result"
    }
   ],
   "source": [
    "Dict_.get(\"Frank\",0)"
   ]
  },
  {
   "cell_type": "code",
   "execution_count": null,
   "id": "e2974432",
   "metadata": {},
   "outputs": [],
   "source": [
    "Dict_.update({\"J\" : 4})"
   ]
  },
  {
   "cell_type": "code",
   "execution_count": 53,
   "id": "a32fcc3e",
   "metadata": {},
   "outputs": [
    {
     "data": {
      "text/plain": [
       "({'Run': 1, 'Frank': 3, 'Pee': 5, 'J': 4, 'Brook': 10}, 4)"
      ]
     },
     "execution_count": 53,
     "metadata": {},
     "output_type": "execute_result"
    }
   ],
   "source": [
    "Dict_, Dict_[\"J\"]"
   ]
  },
  {
   "cell_type": "markdown",
   "id": "a8d37823",
   "metadata": {},
   "source": [
    "### Set"
   ]
  },
  {
   "cell_type": "code",
   "execution_count": 54,
   "id": "be1ebb53",
   "metadata": {},
   "outputs": [
    {
     "data": {
      "text/plain": [
       "{1, 2, 3, 4, 6}"
      ]
     },
     "execution_count": 54,
     "metadata": {},
     "output_type": "execute_result"
    }
   ],
   "source": [
    "Set = set([1,2,3,4,6])\n",
    "Set"
   ]
  },
  {
   "cell_type": "code",
   "execution_count": 57,
   "id": "dd4857a9",
   "metadata": {},
   "outputs": [
    {
     "data": {
      "text/plain": [
       "{1, 2, 3, 4, 6, 10}"
      ]
     },
     "execution_count": 57,
     "metadata": {},
     "output_type": "execute_result"
    }
   ],
   "source": [
    "Set.add(10)\n",
    "Set.add(10)\n",
    "Set"
   ]
  },
  {
   "cell_type": "code",
   "execution_count": 58,
   "id": "f4688a34",
   "metadata": {},
   "outputs": [
    {
     "data": {
      "text/plain": [
       "1"
      ]
     },
     "execution_count": 58,
     "metadata": {},
     "output_type": "execute_result"
    }
   ],
   "source": [
    "Set.pop()"
   ]
  },
  {
   "cell_type": "code",
   "execution_count": 59,
   "id": "695411bd",
   "metadata": {},
   "outputs": [
    {
     "data": {
      "text/plain": [
       "{2, 3, 6, 10}"
      ]
     },
     "execution_count": 59,
     "metadata": {},
     "output_type": "execute_result"
    }
   ],
   "source": [
    "Set.remove(4)\n",
    "Set"
   ]
  },
  {
   "cell_type": "markdown",
   "id": "9f6a2098",
   "metadata": {},
   "source": [
    "### OOP \n",
    "allowing you to structure your code using classes and objects for better organization and reusability."
   ]
  },
  {
   "cell_type": "code",
   "execution_count": null,
   "id": "782c198c",
   "metadata": {},
   "outputs": [],
   "source": [
    "class Person():\n",
    "    def __init__(self): #init the value inside the class\n",
    "        self.Name = \"Run\"\n",
    "\n",
    "    def print_name(self): #init the function \n",
    "        print(self.Name)"
   ]
  },
  {
   "cell_type": "code",
   "execution_count": 67,
   "id": "2ca6b27d",
   "metadata": {},
   "outputs": [],
   "source": [
    "person = Person()"
   ]
  },
  {
   "cell_type": "code",
   "execution_count": 68,
   "id": "44ec301f",
   "metadata": {},
   "outputs": [
    {
     "name": "stdout",
     "output_type": "stream",
     "text": [
      "Run\n"
     ]
    }
   ],
   "source": [
    "person.print_name()"
   ]
  },
  {
   "cell_type": "code",
   "execution_count": 69,
   "id": "15a21153",
   "metadata": {},
   "outputs": [
    {
     "data": {
      "text/plain": [
       "'Run'"
      ]
     },
     "execution_count": 69,
     "metadata": {},
     "output_type": "execute_result"
    }
   ],
   "source": [
    "person.Name"
   ]
  },
  {
   "cell_type": "code",
   "execution_count": null,
   "id": "7adabd62",
   "metadata": {},
   "outputs": [],
   "source": []
  },
  {
   "cell_type": "code",
   "execution_count": null,
   "id": "5bd757bf",
   "metadata": {},
   "outputs": [],
   "source": []
  },
  {
   "cell_type": "code",
   "execution_count": null,
   "id": "d0da24f7",
   "metadata": {},
   "outputs": [
    {
     "name": "stdout",
     "output_type": "stream",
     "text": [
      "index : 6 -> value : 13\n"
     ]
    }
   ],
   "source": [
    "array = [1,3,5,7,9,11,13,15,17]\n",
    "target = 13\n",
    "answer = 0\n",
    "\n",
    "for index, value in enumerate(array):\n",
    "    if value == target:\n",
    "        answer = index\n",
    "        break\n",
    "\n",
    "print(f\"index : {answer} -> value : {array[answer]}\")"
   ]
  },
  {
   "cell_type": "code",
   "execution_count": null,
   "id": "a70f33c3",
   "metadata": {},
   "outputs": [],
   "source": []
  }
 ],
 "metadata": {
  "kernelspec": {
   "display_name": "base3.10",
   "language": "python",
   "name": "python3"
  },
  "language_info": {
   "codemirror_mode": {
    "name": "ipython",
    "version": 3
   },
   "file_extension": ".py",
   "mimetype": "text/x-python",
   "name": "python",
   "nbconvert_exporter": "python",
   "pygments_lexer": "ipython3",
   "version": "3.10.16"
  }
 },
 "nbformat": 4,
 "nbformat_minor": 5
}
