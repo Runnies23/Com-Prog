{
 "cells": [
  {
   "cell_type": "markdown",
   "id": "f126529c",
   "metadata": {},
   "source": [
    "### If Else stagement"
   ]
  },
  {
   "cell_type": "code",
   "execution_count": null,
   "id": "7fe1705b",
   "metadata": {},
   "outputs": [],
   "source": [
    "#introduct to If else elif "
   ]
  },
  {
   "cell_type": "code",
   "execution_count": null,
   "id": "1f60a3a6",
   "metadata": {},
   "outputs": [],
   "source": [
    "if (condition): # if with condition which is True of False \n",
    "    pass #the operation after if condition"
   ]
  },
  {
   "cell_type": "code",
   "execution_count": null,
   "id": "15bebd20",
   "metadata": {},
   "outputs": [],
   "source": [
    "x = 10\n",
    "if x == 1: #condition is x = 1 \n",
    "    print(\"This value is 1\")\n",
    "else:\n",
    "    print(\"This value is not 1\")"
   ]
  },
  {
   "cell_type": "markdown",
   "id": "ff76e9bc",
   "metadata": {},
   "source": [
    "##### But how to write a condition on python "
   ]
  },
  {
   "cell_type": "code",
   "execution_count": null,
   "id": "cffcacfa",
   "metadata": {},
   "outputs": [],
   "source": [
    "#we all know about ตรรกศาสตร์ for a basic like ex. x and y || a or b"
   ]
  },
  {
   "cell_type": "code",
   "execution_count": null,
   "id": "43aadb2c",
   "metadata": {},
   "outputs": [],
   "source": [
    "# Equal \n",
    "10 == 10"
   ]
  },
  {
   "cell_type": "code",
   "execution_count": null,
   "id": "a34bef45",
   "metadata": {},
   "outputs": [],
   "source": [
    "# not Equal \n",
    "1 != 1"
   ]
  },
  {
   "cell_type": "code",
   "execution_count": null,
   "id": "a41edf02",
   "metadata": {},
   "outputs": [],
   "source": [
    "# Less than\n",
    "10 < 20 "
   ]
  },
  {
   "cell_type": "code",
   "execution_count": null,
   "id": "c83968eb",
   "metadata": {},
   "outputs": [],
   "source": [
    "# Less than to Equal \n",
    "10 <= 10 "
   ]
  },
  {
   "cell_type": "code",
   "execution_count": null,
   "id": "e7735ac1",
   "metadata": {},
   "outputs": [],
   "source": [
    "# Greater than\n",
    "20 > 10"
   ]
  },
  {
   "cell_type": "code",
   "execution_count": null,
   "id": "08e96173",
   "metadata": {},
   "outputs": [],
   "source": [
    "# Greater than to Equal \n",
    "10 >= 11"
   ]
  },
  {
   "cell_type": "code",
   "execution_count": null,
   "id": "ac1638a0",
   "metadata": {},
   "outputs": [],
   "source": [
    "# But logic gonna have a and or or and xor as we know right ? \n",
    "# Ok here it's is \n",
    "\n",
    "# and or both use for concat between 2 condition"
   ]
  },
  {
   "cell_type": "code",
   "execution_count": null,
   "id": "55e5eaf4",
   "metadata": {},
   "outputs": [],
   "source": [
    "10 > 6 and 10 != 2 "
   ]
  },
  {
   "cell_type": "code",
   "execution_count": null,
   "id": "ce6a49ff",
   "metadata": {},
   "outputs": [],
   "source": [
    "10 > 6 and 10 != 2 "
   ]
  },
  {
   "cell_type": "code",
   "execution_count": null,
   "id": "19f0ae7f",
   "metadata": {},
   "outputs": [],
   "source": [
    "#We gonna use this condition into if else \n",
    "\n",
    "#example odd or even \n",
    "# Q: how to know number is even or odd ? \n",
    "# A: Divide by 2 -> if result = 0 is even and result = 1 is odd\n",
    "\n",
    "# then write the code "
   ]
  },
  {
   "cell_type": "code",
   "execution_count": null,
   "id": "5fe5e589",
   "metadata": {},
   "outputs": [],
   "source": [
    "number = 10\n",
    "if number % 2 == 0:\n",
    "    print(\"This number is even\")\n",
    "else:\n",
    "    print(\"This number is odd\")"
   ]
  },
  {
   "cell_type": "code",
   "execution_count": null,
   "id": "288c132b",
   "metadata": {},
   "outputs": [],
   "source": [
    "# For this didn't know the condition can use as True or False that mean if use function with return True or False it's work\n",
    "def check_is_even(nums):\n",
    "    if nums % 2 == 0:\n",
    "        return True\n",
    "    else:\n",
    "        return False\n",
    "    \n",
    "if check_is_even(11):\n",
    "    print(\"this is even\")\n",
    "else:\n",
    "    print(\"this is odd\")"
   ]
  },
  {
   "cell_type": "markdown",
   "id": "bd0efd0d",
   "metadata": {},
   "source": [
    "##### Elif"
   ]
  },
  {
   "cell_type": "code",
   "execution_count": null,
   "id": "5afc54c7",
   "metadata": {},
   "outputs": [],
   "source": [
    "# what is elif ????\n",
    "N = 10\n",
    "if N > 10:\n",
    "    print(\"more than 10\")\n",
    "elif N < 5:\n",
    "    print(\"less than 5\")\n",
    "else:\n",
    "    print(\"Unknow\")\n",
    "    "
   ]
  },
  {
   "cell_type": "code",
   "execution_count": null,
   "id": "2c5f42d3",
   "metadata": {},
   "outputs": [],
   "source": [
    "# what not use if \n",
    "N = 10\n",
    "if N > 10:\n",
    "    print(\"more than 10\")\n",
    "if N < 5:\n",
    "    print(\"less than 5\")\n",
    "else:\n",
    "    print(\"Unknow\")\n",
    "    "
   ]
  },
  {
   "cell_type": "code",
   "execution_count": null,
   "id": "7a154b98",
   "metadata": {},
   "outputs": [],
   "source": [
    "### Run style \n",
    "## use match instead of if else on multiple condition\n",
    "operation = \"+\" # + - * / \n",
    "match operation:\n",
    "    case \"+\":\n",
    "        print(\"++\")\n",
    "    case \"-\":\n",
    "        print(\"--\")\n",
    "    case \"*\":\n",
    "        print(\"**\")\n",
    "    case \"/\":\n",
    "        print(\"//\")\n",
    "    case _ :\n",
    "        print(\"Unknow operation\")"
   ]
  },
  {
   "cell_type": "markdown",
   "id": "a31a0121",
   "metadata": {},
   "source": [
    "#### For loop While Loop\n"
   ]
  },
  {
   "cell_type": "code",
   "execution_count": null,
   "id": "705bb1f6",
   "metadata": {},
   "outputs": [],
   "source": [
    "For While Continue Break pass\n",
    "# write for loop in short form [i for i in split]"
   ]
  },
  {
   "cell_type": "code",
   "execution_count": null,
   "id": "b62022e1",
   "metadata": {},
   "outputs": [],
   "source": [
    "Nested Loop "
   ]
  }
 ],
 "metadata": {
  "language_info": {
   "name": "python"
  }
 },
 "nbformat": 4,
 "nbformat_minor": 5
}
