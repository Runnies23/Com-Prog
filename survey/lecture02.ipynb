{
 "cells": [
  {
   "cell_type": "markdown",
   "id": "f126529c",
   "metadata": {},
   "source": [
    "### If Else stagement"
   ]
  },
  {
   "cell_type": "code",
   "execution_count": null,
   "id": "7fe1705b",
   "metadata": {},
   "outputs": [],
   "source": [
    "#introduct to If else elif "
   ]
  },
  {
   "cell_type": "code",
   "execution_count": null,
   "id": "1f60a3a6",
   "metadata": {},
   "outputs": [],
   "source": [
    "if (condition): # if with condition which is True of False \n",
    "    pass #the operation after if condition"
   ]
  },
  {
   "cell_type": "code",
   "execution_count": null,
   "id": "15bebd20",
   "metadata": {},
   "outputs": [],
   "source": [
    "x = 10\n",
    "if x == 1: #condition is x = 1 \n",
    "    print(\"This value is 1\")\n",
    "else:\n",
    "    print(\"This value is not 1\")"
   ]
  },
  {
   "cell_type": "markdown",
   "id": "ff76e9bc",
   "metadata": {},
   "source": [
    "##### But how to write a condition on python "
   ]
  },
  {
   "cell_type": "code",
   "execution_count": null,
   "id": "cffcacfa",
   "metadata": {},
   "outputs": [],
   "source": [
    "#we all know about ตรรกศาสตร์ for a basic like ex. x and y || a or b"
   ]
  },
  {
   "cell_type": "code",
   "execution_count": null,
   "id": "43aadb2c",
   "metadata": {},
   "outputs": [],
   "source": [
    "# Equal \n",
    "10 == 10"
   ]
  },
  {
   "cell_type": "code",
   "execution_count": null,
   "id": "a34bef45",
   "metadata": {},
   "outputs": [],
   "source": [
    "# not Equal \n",
    "1 != 1"
   ]
  },
  {
   "cell_type": "code",
   "execution_count": null,
   "id": "a41edf02",
   "metadata": {},
   "outputs": [],
   "source": [
    "# Less than\n",
    "10 < 20 "
   ]
  },
  {
   "cell_type": "code",
   "execution_count": null,
   "id": "c83968eb",
   "metadata": {},
   "outputs": [],
   "source": [
    "# Less than to Equal \n",
    "10 <= 10 "
   ]
  },
  {
   "cell_type": "code",
   "execution_count": null,
   "id": "e7735ac1",
   "metadata": {},
   "outputs": [],
   "source": [
    "# Greater than\n",
    "20 > 10"
   ]
  },
  {
   "cell_type": "code",
   "execution_count": null,
   "id": "08e96173",
   "metadata": {},
   "outputs": [],
   "source": [
    "# Greater than to Equal \n",
    "10 >= 11"
   ]
  },
  {
   "cell_type": "code",
   "execution_count": null,
   "id": "ac1638a0",
   "metadata": {},
   "outputs": [],
   "source": [
    "# But logic gonna have a and or or and xor as we know right ? \n",
    "# Ok here it's is \n",
    "\n",
    "# and or both use for concat between 2 condition"
   ]
  },
  {
   "cell_type": "code",
   "execution_count": null,
   "id": "55e5eaf4",
   "metadata": {},
   "outputs": [],
   "source": [
    "10 > 6 and 10 != 2 "
   ]
  },
  {
   "cell_type": "code",
   "execution_count": null,
   "id": "ce6a49ff",
   "metadata": {},
   "outputs": [],
   "source": [
    "10 > 6 or 10 != 2 "
   ]
  },
  {
   "cell_type": "code",
   "execution_count": null,
   "id": "19f0ae7f",
   "metadata": {},
   "outputs": [],
   "source": [
    "#We gonna use this condition into if else \n",
    "\n",
    "#example odd or even \n",
    "# Q: how to know number is even or odd ? \n",
    "# A: Divide by 2 -> if result = 0 is even and result = 1 is odd\n",
    "\n",
    "# then write the code "
   ]
  },
  {
   "cell_type": "markdown",
   "id": "7bce4708",
   "metadata": {},
   "source": [
    "### Boolean Order\n",
    "\n",
    "| Precedence | Operator | Description |\n",
    "| --- | --- | --- |\n",
    "| 1 | `not` | Logical NOT (unary) |\n",
    "| 2 | `and` | Logical AND |\n",
    "| 3 | `or` | Logical OR |"
   ]
  },
  {
   "cell_type": "code",
   "execution_count": null,
   "id": "928894c6",
   "metadata": {},
   "outputs": [],
   "source": [
    "not True and False or True"
   ]
  },
  {
   "cell_type": "code",
   "execution_count": 1,
   "id": "21a4230d",
   "metadata": {},
   "outputs": [
    {
     "data": {
      "text/plain": [
       "True"
      ]
     },
     "execution_count": 1,
     "metadata": {},
     "output_type": "execute_result"
    }
   ],
   "source": [
    "x = 10\n",
    "not x < 10 or x != 10 and x % 2 == 0"
   ]
  },
  {
   "cell_type": "markdown",
   "id": "af8ab0d3",
   "metadata": {},
   "source": [
    "#### IF"
   ]
  },
  {
   "cell_type": "code",
   "execution_count": null,
   "id": "5fe5e589",
   "metadata": {},
   "outputs": [],
   "source": [
    "#basic program with odd and even\n",
    "number = 10\n",
    "if number % 2 == 0:\n",
    "    print(\"This number is even\")\n",
    "else:\n",
    "    print(\"This number is odd\")"
   ]
  },
  {
   "cell_type": "code",
   "execution_count": 1,
   "id": "288c132b",
   "metadata": {},
   "outputs": [
    {
     "name": "stdout",
     "output_type": "stream",
     "text": [
      "this is odd\n"
     ]
    }
   ],
   "source": [
    "# For this didn't know the condition can use as True or False that mean if use function with return True or False it's work\n",
    "def check_is_even(nums):\n",
    "    if nums % 2 == 0:\n",
    "        return True\n",
    "    else:\n",
    "        return False\n",
    "    \n",
    "if check_is_even(11):\n",
    "    print(\"this is even\")\n",
    "else:\n",
    "    print(\"this is odd\")"
   ]
  },
  {
   "cell_type": "markdown",
   "id": "bd0efd0d",
   "metadata": {},
   "source": [
    "##### Elif"
   ]
  },
  {
   "cell_type": "code",
   "execution_count": 2,
   "id": "5afc54c7",
   "metadata": {},
   "outputs": [
    {
     "name": "stdout",
     "output_type": "stream",
     "text": [
      "more than 10\n"
     ]
    }
   ],
   "source": [
    "N = 10\n",
    "if N >= 10:\n",
    "    print(\"more than 10\")\n",
    "elif N > 5:\n",
    "    print(\"less than 5\")\n",
    "else:\n",
    "    print(\"Unknow\")"
   ]
  },
  {
   "cell_type": "code",
   "execution_count": null,
   "id": "2c5f42d3",
   "metadata": {},
   "outputs": [
    {
     "name": "stdout",
     "output_type": "stream",
     "text": [
      "more than 10\n",
      "less than 5\n"
     ]
    }
   ],
   "source": [
    "# what not use if \n",
    "N = 10\n",
    "if N >= 10:\n",
    "    print(\"more than 10\")\n",
    "else: \n",
    "    pass\n",
    "\n",
    "if N > 5:\n",
    "    print(\"less than 5\")\n",
    "else:\n",
    "    print(\"Unknow\")\n",
    "    "
   ]
  },
  {
   "cell_type": "code",
   "execution_count": null,
   "id": "7a154b98",
   "metadata": {},
   "outputs": [],
   "source": [
    "### Run style \n",
    "## use match instead of if else on multiple condition\n",
    "operation = \"+\" # + - * / \n",
    "match operation:\n",
    "    case \"+\":\n",
    "        print(\"++\")\n",
    "    case \"-\":\n",
    "        print(\"--\")\n",
    "    case \"*\":\n",
    "        print(\"**\")\n",
    "    case \"/\":\n",
    "        print(\"//\")\n",
    "    case _ :\n",
    "        print(\"Unknow operation\")"
   ]
  },
  {
   "cell_type": "code",
   "execution_count": null,
   "id": "04c61ab9",
   "metadata": {},
   "outputs": [],
   "source": [
    "operation = \"+\"\n",
    "if operation == \"+\":\n",
    "    print(\"++\")\n",
    "if operation == \"-\":\n",
    "    print(\"--\")\n",
    "if operation == \"*\":\n",
    "    print(\"**\")\n",
    "if operation == \"/\":\n",
    "    print(\"//\")"
   ]
  },
  {
   "cell_type": "markdown",
   "id": "a31a0121",
   "metadata": {},
   "source": [
    "#### For loop While Loop\n"
   ]
  },
  {
   "cell_type": "code",
   "execution_count": 16,
   "id": "56b674ca",
   "metadata": {},
   "outputs": [
    {
     "name": "stdout",
     "output_type": "stream",
     "text": [
      "0\n",
      "5\n",
      "10\n",
      "15\n",
      "20\n",
      "25\n"
     ]
    }
   ],
   "source": [
    "for i in range(0,30,5):\n",
    "    print(i)"
   ]
  },
  {
   "cell_type": "code",
   "execution_count": 18,
   "id": "4da33ec5",
   "metadata": {},
   "outputs": [
    {
     "data": {
      "text/plain": [
       "[0, 1, 2, 3]"
      ]
     },
     "execution_count": 18,
     "metadata": {},
     "output_type": "execute_result"
    }
   ],
   "source": [
    "[i for i in range(4)]"
   ]
  },
  {
   "cell_type": "code",
   "execution_count": null,
   "id": "276fd07b",
   "metadata": {},
   "outputs": [
    {
     "name": "stdout",
     "output_type": "stream",
     "text": [
      "0\n",
      "1\n",
      "2\n",
      "3\n",
      "4\n",
      "5\n",
      "6\n",
      "7\n",
      "8\n",
      "9\n"
     ]
    }
   ],
   "source": [
    "number = 0\n",
    "while number < 10:\n",
    "    print(number)\n",
    "    number += 1"
   ]
  },
  {
   "cell_type": "code",
   "execution_count": 19,
   "id": "998f5e3b",
   "metadata": {},
   "outputs": [
    {
     "name": "stdout",
     "output_type": "stream",
     "text": [
      "6\n",
      "7\n",
      "8\n",
      "9\n",
      "10\n"
     ]
    }
   ],
   "source": [
    "lst = [6,7,8,9,10]\n",
    "for value in lst:\n",
    "    print(value)"
   ]
  },
  {
   "cell_type": "code",
   "execution_count": null,
   "id": "705bb1f6",
   "metadata": {},
   "outputs": [],
   "source": [
    "# For While Continue Break pass\n",
    "# write for loop in short form [i for i in split if i == 0] "
   ]
  },
  {
   "cell_type": "code",
   "execution_count": 25,
   "id": "181ed686",
   "metadata": {},
   "outputs": [
    {
     "name": "stdout",
     "output_type": "stream",
     "text": [
      "0\n",
      "1\n",
      "2\n",
      "3\n",
      "4\n"
     ]
    }
   ],
   "source": [
    "for i in range(10):\n",
    "    if i == 5:\n",
    "        break\n",
    "    print(i)"
   ]
  },
  {
   "cell_type": "code",
   "execution_count": null,
   "id": "07274275",
   "metadata": {},
   "outputs": [
    {
     "name": "stdout",
     "output_type": "stream",
     "text": [
      "0\n",
      "1\n",
      "2\n",
      "3\n",
      "4\n",
      "6\n",
      "7\n",
      "8\n",
      "9\n"
     ]
    }
   ],
   "source": [
    "for i in range(10):\n",
    "    if i == 5:\n",
    "        continue\n",
    "\n",
    "    dsadasdas\n",
    "    print(i)\n"
   ]
  },
  {
   "cell_type": "markdown",
   "id": "04e0bb9e",
   "metadata": {},
   "source": [
    "##### Short form loop"
   ]
  },
  {
   "cell_type": "code",
   "execution_count": null,
   "id": "ab5ce1e4",
   "metadata": {},
   "outputs": [
    {
     "data": {
      "text/plain": [
       "[1, 3, 5, 7, 9, 11, 13, 15, 17, 19, 21, 23]"
      ]
     },
     "execution_count": 27,
     "metadata": {},
     "output_type": "execute_result"
    }
   ],
   "source": [
    "rst = []\n",
    "\n",
    "for i in range(25): #0 -> 24\n",
    "    if i % 2 == 1:\n",
    "        rst.append(float(i))\n",
    "rst      "
   ]
  },
  {
   "cell_type": "code",
   "execution_count": null,
   "id": "57f0ddf5",
   "metadata": {},
   "outputs": [
    {
     "data": {
      "text/plain": [
       "[0, 2, 4, 6, 8, 10, 12, 14, 16, 18, 20, 22, 24]"
      ]
     },
     "execution_count": 29,
     "metadata": {},
     "output_type": "execute_result"
    }
   ],
   "source": [
    "rst = [float(i) for i in range(25) if i % 2 == 0]\n",
    "rst"
   ]
  },
  {
   "cell_type": "code",
   "execution_count": null,
   "id": "89aa01f6",
   "metadata": {},
   "outputs": [],
   "source": [
    "total = 0 \n",
    "for i in range(1,3):\n",
    "    total += i\n",
    "\n",
    "sum([i for i in range(1,10)  if i % 2 == 1])"
   ]
  },
  {
   "cell_type": "code",
   "execution_count": null,
   "id": "b62022e1",
   "metadata": {},
   "outputs": [],
   "source": [
    "# Nested Loop is loop inside a loop aka. double loop \n",
    "## Often saw on problem solving with loop - array"
   ]
  },
  {
   "cell_type": "code",
   "execution_count": null,
   "id": "242e73aa",
   "metadata": {},
   "outputs": [],
   "source": []
  }
 ],
 "metadata": {
  "kernelspec": {
   "display_name": "base3.10",
   "language": "python",
   "name": "python3"
  },
  "language_info": {
   "codemirror_mode": {
    "name": "ipython",
    "version": 3
   },
   "file_extension": ".py",
   "mimetype": "text/x-python",
   "name": "python",
   "nbconvert_exporter": "python",
   "pygments_lexer": "ipython3",
   "version": "3.10.16"
  }
 },
 "nbformat": 4,
 "nbformat_minor": 5
}
