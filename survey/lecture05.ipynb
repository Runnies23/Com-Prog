{
 "cells": [
  {
   "cell_type": "markdown",
   "id": "ef881e33",
   "metadata": {},
   "source": [
    "set\n",
    "\n",
    "Creating a set\n",
    "empty set\n",
    "Duplicate item in set   \n",
    "add item \n",
    "update \n",
    "remove \n",
    "iteration\n",
    "\n",
    "union intersection difference symmetric difference"
   ]
  },
  {
   "cell_type": "markdown",
   "id": "86986293",
   "metadata": {},
   "source": [
    "Dictionary\n",
    "key is immutable \n",
    "Dictionary length\n",
    "Access Change Add Remove\n",
    "\n",
    "Iterating"
   ]
  },
  {
   "cell_type": "markdown",
   "id": "df8d6b8d",
   "metadata": {},
   "source": [
    "#### Dict \n",
    "\n",
    "represent key and value like locker - ลิ้นชัก"
   ]
  },
  {
   "cell_type": "code",
   "execution_count": null,
   "id": "59012344",
   "metadata": {},
   "outputs": [],
   "source": [
    "Dict_ = dict()"
   ]
  },
  {
   "cell_type": "code",
   "execution_count": null,
   "id": "c92e1bb8",
   "metadata": {},
   "outputs": [],
   "source": [
    "set()\n",
    "list()\n",
    "float()\n",
    "int()"
   ]
  },
  {
   "cell_type": "code",
   "execution_count": 1,
   "id": "1d11c6ca",
   "metadata": {},
   "outputs": [],
   "source": [
    "Dict_ = {}\n",
    "Set_ = {}\n",
    "\n",
    "\n",
    "Dict_ = {\n",
    "    \"Key1\" : 123,\n",
    "    \"Key2\" : 321,\n",
    "    \"Run\" : 1,\n",
    "    \"Frank\" : 3,\n",
    "    \"Pee\" : 5,\n",
    "    \"J\" : 7\n",
    "}\n",
    "\n",
    "Set_ = {1,2,3,4}"
   ]
  },
  {
   "cell_type": "code",
   "execution_count": 2,
   "id": "53d2997f",
   "metadata": {},
   "outputs": [
    {
     "data": {
      "text/plain": [
       "{'Key1': 123, 'Key2': 321, 'Run': 1, 'Frank': 3, 'Pee': 5, 'J': 7}"
      ]
     },
     "execution_count": 2,
     "metadata": {},
     "output_type": "execute_result"
    }
   ],
   "source": [
    "Dict_"
   ]
  },
  {
   "cell_type": "code",
   "execution_count": 3,
   "id": "45a15f3c",
   "metadata": {},
   "outputs": [
    {
     "data": {
      "text/plain": [
       "3"
      ]
     },
     "execution_count": 3,
     "metadata": {},
     "output_type": "execute_result"
    }
   ],
   "source": [
    "Dict_['Frank']"
   ]
  },
  {
   "cell_type": "code",
   "execution_count": 4,
   "id": "2a5de384",
   "metadata": {},
   "outputs": [
    {
     "ename": "KeyError",
     "evalue": "'Brook'",
     "output_type": "error",
     "traceback": [
      "\u001b[0;31m---------------------------------------------------------------------------\u001b[0m",
      "\u001b[0;31mKeyError\u001b[0m                                  Traceback (most recent call last)",
      "Cell \u001b[0;32mIn[4], line 1\u001b[0m\n\u001b[0;32m----> 1\u001b[0m \u001b[43mDict_\u001b[49m\u001b[43m[\u001b[49m\u001b[38;5;124;43m'\u001b[39;49m\u001b[38;5;124;43mBrook\u001b[39;49m\u001b[38;5;124;43m'\u001b[39;49m\u001b[43m]\u001b[49m\n",
      "\u001b[0;31mKeyError\u001b[0m: 'Brook'"
     ]
    }
   ],
   "source": [
    "Dict_['Brook']"
   ]
  },
  {
   "cell_type": "code",
   "execution_count": 5,
   "id": "d4f9d611",
   "metadata": {},
   "outputs": [
    {
     "data": {
      "text/plain": [
       "10"
      ]
     },
     "execution_count": 5,
     "metadata": {},
     "output_type": "execute_result"
    }
   ],
   "source": [
    "Dict_['Brook'] = 10\n",
    "Dict_['Brook']"
   ]
  },
  {
   "cell_type": "code",
   "execution_count": 6,
   "id": "1498cd80",
   "metadata": {},
   "outputs": [
    {
     "data": {
      "text/plain": [
       "dict_keys(['Key1', 'Key2', 'Run', 'Frank', 'Pee', 'J', 'Brook'])"
      ]
     },
     "execution_count": 6,
     "metadata": {},
     "output_type": "execute_result"
    }
   ],
   "source": [
    "Dict_.keys()"
   ]
  },
  {
   "cell_type": "code",
   "execution_count": 7,
   "id": "354170ce",
   "metadata": {},
   "outputs": [
    {
     "data": {
      "text/plain": [
       "dict_values([123, 321, 1, 3, 5, 7, 10])"
      ]
     },
     "execution_count": 7,
     "metadata": {},
     "output_type": "execute_result"
    }
   ],
   "source": [
    "Dict_.values()"
   ]
  },
  {
   "cell_type": "code",
   "execution_count": 9,
   "id": "b15005f8",
   "metadata": {},
   "outputs": [
    {
     "name": "stdout",
     "output_type": "stream",
     "text": [
      "dict_items([('Key1', 123), ('Key2', 321), ('Run', 1), ('Frank', 3), ('Pee', 5), ('J', 7), ('Brook', 10)])\n",
      "Key1 123\n",
      "Key2 321\n",
      "Run 1\n",
      "Frank 3\n",
      "Pee 5\n",
      "J 7\n",
      "Brook 10\n"
     ]
    }
   ],
   "source": [
    "print(Dict_.items())### often use in for loop - another operation\n",
    "\n",
    "for key, value in Dict_.items():\n",
    "    print(key, value)"
   ]
  },
  {
   "cell_type": "code",
   "execution_count": 11,
   "id": "6ca63f6c",
   "metadata": {},
   "outputs": [
    {
     "data": {
      "text/plain": [
       "{'Key2': 321, 'Run': 1, 'Frank': 3, 'Pee': 5, 'J': 7, 'Brook': 10}"
      ]
     },
     "execution_count": 11,
     "metadata": {},
     "output_type": "execute_result"
    }
   ],
   "source": [
    "Dict_.pop(\"Key1\")\n",
    "Dict_"
   ]
  },
  {
   "cell_type": "code",
   "execution_count": 12,
   "id": "0192c751",
   "metadata": {},
   "outputs": [
    {
     "data": {
      "text/plain": [
       "{'Run': 1, 'Frank': 3, 'Pee': 5, 'J': 7, 'Brook': 10}"
      ]
     },
     "execution_count": 12,
     "metadata": {},
     "output_type": "execute_result"
    }
   ],
   "source": [
    "Dict_.pop(\"Key2\")\n",
    "Dict_"
   ]
  },
  {
   "cell_type": "code",
   "execution_count": null,
   "id": "41641454",
   "metadata": {},
   "outputs": [
    {
     "data": {
      "text/plain": [
       "'D'"
      ]
     },
     "execution_count": 15,
     "metadata": {},
     "output_type": "execute_result"
    }
   ],
   "source": [
    "Dict_.get(\"Best\",0)"
   ]
  },
  {
   "cell_type": "code",
   "execution_count": 14,
   "id": "a67abb0b",
   "metadata": {},
   "outputs": [
    {
     "data": {
      "text/plain": [
       "3"
      ]
     },
     "execution_count": 14,
     "metadata": {},
     "output_type": "execute_result"
    }
   ],
   "source": [
    "Dict_.get(\"Frank\",0)"
   ]
  },
  {
   "cell_type": "code",
   "execution_count": 16,
   "id": "73c9212e",
   "metadata": {},
   "outputs": [],
   "source": [
    "Dict_.update({\"J\" : 4})"
   ]
  },
  {
   "cell_type": "code",
   "execution_count": 17,
   "id": "9600bf4a",
   "metadata": {},
   "outputs": [
    {
     "data": {
      "text/plain": [
       "({'Run': 1, 'Frank': 3, 'Pee': 5, 'J': 4, 'Brook': 10}, 4)"
      ]
     },
     "execution_count": 17,
     "metadata": {},
     "output_type": "execute_result"
    }
   ],
   "source": [
    "Dict_, Dict_[\"J\"]"
   ]
  },
  {
   "cell_type": "markdown",
   "id": "65e235f3",
   "metadata": {},
   "source": [
    "#### Sets"
   ]
  },
  {
   "cell_type": "code",
   "execution_count": 18,
   "id": "b3f29aeb",
   "metadata": {},
   "outputs": [],
   "source": [
    "Set = {1,2,3,4}"
   ]
  },
  {
   "cell_type": "code",
   "execution_count": 22,
   "id": "b08d8332",
   "metadata": {},
   "outputs": [
    {
     "data": {
      "text/plain": [
       "{1, 2, 3, 4, 5, 6}"
      ]
     },
     "execution_count": 22,
     "metadata": {},
     "output_type": "execute_result"
    }
   ],
   "source": [
    "Set = set([1,2,5,3,4,6])\n",
    "Set"
   ]
  },
  {
   "cell_type": "code",
   "execution_count": 23,
   "id": "685780d5",
   "metadata": {},
   "outputs": [
    {
     "data": {
      "text/plain": [
       "{1, 2, 3, 4, 5, 6, 10}"
      ]
     },
     "execution_count": 23,
     "metadata": {},
     "output_type": "execute_result"
    }
   ],
   "source": [
    "Set.add(10)\n",
    "Set.add(10)\n",
    "Set"
   ]
  },
  {
   "cell_type": "code",
   "execution_count": 24,
   "id": "fe04a453",
   "metadata": {},
   "outputs": [
    {
     "data": {
      "text/plain": [
       "{-1, 1, 2, 3, 4, 5, 6, 10}"
      ]
     },
     "execution_count": 24,
     "metadata": {},
     "output_type": "execute_result"
    }
   ],
   "source": [
    "Set.add(-1)\n",
    "Set"
   ]
  },
  {
   "cell_type": "code",
   "execution_count": 25,
   "id": "a0f346bb",
   "metadata": {},
   "outputs": [
    {
     "data": {
      "text/plain": [
       "1"
      ]
     },
     "execution_count": 25,
     "metadata": {},
     "output_type": "execute_result"
    }
   ],
   "source": [
    "Set.pop()"
   ]
  },
  {
   "cell_type": "code",
   "execution_count": null,
   "id": "2c0d5c37",
   "metadata": {},
   "outputs": [],
   "source": []
  },
  {
   "cell_type": "code",
   "execution_count": 26,
   "id": "788a17ee",
   "metadata": {},
   "outputs": [
    {
     "data": {
      "text/plain": [
       "{-1, 2, 3, 5, 6, 10}"
      ]
     },
     "execution_count": 26,
     "metadata": {},
     "output_type": "execute_result"
    }
   ],
   "source": [
    "Set.remove(4)\n",
    "Set"
   ]
  },
  {
   "cell_type": "code",
   "execution_count": null,
   "id": "3e420546",
   "metadata": {},
   "outputs": [],
   "source": []
  },
  {
   "cell_type": "code",
   "execution_count": null,
   "id": "c35018c8",
   "metadata": {},
   "outputs": [],
   "source": []
  }
 ],
 "metadata": {
  "kernelspec": {
   "display_name": "base3.10",
   "language": "python",
   "name": "python3"
  },
  "language_info": {
   "codemirror_mode": {
    "name": "ipython",
    "version": 3
   },
   "file_extension": ".py",
   "mimetype": "text/x-python",
   "name": "python",
   "nbconvert_exporter": "python",
   "pygments_lexer": "ipython3",
   "version": "3.10.16"
  }
 },
 "nbformat": 4,
 "nbformat_minor": 5
}
