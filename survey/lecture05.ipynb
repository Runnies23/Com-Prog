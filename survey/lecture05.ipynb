{
 "cells": [
  {
   "cell_type": "markdown",
   "id": "ef881e33",
   "metadata": {},
   "source": [
    "set\n",
    "\n",
    "Creating a set\n",
    "empty set\n",
    "Duplicate item in set   \n",
    "add item \n",
    "update \n",
    "remove \n",
    "iteration\n",
    "\n",
    "union intersection difference symmetric difference"
   ]
  },
  {
   "cell_type": "markdown",
   "id": "86986293",
   "metadata": {},
   "source": [
    "Dictionary\n",
    "key is immutable \n",
    "Dictionary length\n",
    "Access Change Add Remove\n",
    "\n",
    "Iterating"
   ]
  },
  {
   "cell_type": "markdown",
   "id": "df8d6b8d",
   "metadata": {},
   "source": [
    "#### Dict \n",
    "\n",
    "represent key and value like locker - ลิ้นชัก"
   ]
  },
  {
   "cell_type": "code",
   "execution_count": null,
   "id": "1d11c6ca",
   "metadata": {
    "vscode": {
     "languageId": "plaintext"
    }
   },
   "outputs": [],
   "source": [
    "Dict_ = {}\n",
    "Set_ = {}\n",
    "\n",
    "\n",
    "Dict_ = {\n",
    "    \"Key1\" : 123,\n",
    "    \"Key2\" : 321,\n",
    "    \"Run\" : 1,\n",
    "    \"Frank\" : 3,\n",
    "    \"Pee\" : 5,\n",
    "    \"J\" : 7\n",
    "}\n",
    "\n",
    "Set_ = {1,2,3,4}"
   ]
  },
  {
   "cell_type": "code",
   "execution_count": null,
   "id": "53d2997f",
   "metadata": {
    "vscode": {
     "languageId": "plaintext"
    }
   },
   "outputs": [],
   "source": [
    "Dict_"
   ]
  },
  {
   "cell_type": "code",
   "execution_count": null,
   "id": "45a15f3c",
   "metadata": {
    "vscode": {
     "languageId": "plaintext"
    }
   },
   "outputs": [],
   "source": [
    "Dict_['Frank']"
   ]
  },
  {
   "cell_type": "code",
   "execution_count": null,
   "id": "2a5de384",
   "metadata": {
    "vscode": {
     "languageId": "plaintext"
    }
   },
   "outputs": [],
   "source": [
    "Dict_['Brook']"
   ]
  },
  {
   "cell_type": "code",
   "execution_count": null,
   "id": "d4f9d611",
   "metadata": {
    "vscode": {
     "languageId": "plaintext"
    }
   },
   "outputs": [],
   "source": [
    "Dict_['Brook'] = 10\n",
    "Dict_['Brook']"
   ]
  },
  {
   "cell_type": "code",
   "execution_count": null,
   "id": "1498cd80",
   "metadata": {
    "vscode": {
     "languageId": "plaintext"
    }
   },
   "outputs": [],
   "source": [
    "Dict_.keys()"
   ]
  },
  {
   "cell_type": "code",
   "execution_count": null,
   "id": "354170ce",
   "metadata": {
    "vscode": {
     "languageId": "plaintext"
    }
   },
   "outputs": [],
   "source": [
    "Dict_.values()"
   ]
  },
  {
   "cell_type": "code",
   "execution_count": null,
   "id": "b15005f8",
   "metadata": {
    "vscode": {
     "languageId": "plaintext"
    }
   },
   "outputs": [],
   "source": [
    "print(Dict_.items())### often use in for loop - another operation\n",
    "\n",
    "for key, value in Dict_.items():\n",
    "    print(key)"
   ]
  },
  {
   "cell_type": "code",
   "execution_count": null,
   "id": "6ca63f6c",
   "metadata": {
    "vscode": {
     "languageId": "plaintext"
    }
   },
   "outputs": [],
   "source": [
    "Dict_.pop(\"Key1\")\n",
    "Dict_"
   ]
  },
  {
   "cell_type": "code",
   "execution_count": null,
   "id": "0192c751",
   "metadata": {
    "vscode": {
     "languageId": "plaintext"
    }
   },
   "outputs": [],
   "source": [
    "Dict_.pop(\"Key2\")\n",
    "Dict_"
   ]
  },
  {
   "cell_type": "code",
   "execution_count": null,
   "id": "41641454",
   "metadata": {
    "vscode": {
     "languageId": "plaintext"
    }
   },
   "outputs": [],
   "source": [
    "Dict_.get(\"Best\",0)"
   ]
  },
  {
   "cell_type": "code",
   "execution_count": null,
   "id": "a67abb0b",
   "metadata": {
    "vscode": {
     "languageId": "plaintext"
    }
   },
   "outputs": [],
   "source": [
    "Dict_.get(\"Frank\",0)"
   ]
  },
  {
   "cell_type": "code",
   "execution_count": null,
   "id": "73c9212e",
   "metadata": {
    "vscode": {
     "languageId": "plaintext"
    }
   },
   "outputs": [],
   "source": [
    "Dict_.update({\"J\" : 4})"
   ]
  },
  {
   "cell_type": "code",
   "execution_count": null,
   "id": "9600bf4a",
   "metadata": {
    "vscode": {
     "languageId": "plaintext"
    }
   },
   "outputs": [],
   "source": [
    "Dict_, Dict_[\"J\"]"
   ]
  },
  {
   "cell_type": "markdown",
   "id": "65e235f3",
   "metadata": {},
   "source": [
    "#### Sets"
   ]
  },
  {
   "cell_type": "code",
   "execution_count": null,
   "id": "b08d8332",
   "metadata": {
    "vscode": {
     "languageId": "plaintext"
    }
   },
   "outputs": [],
   "source": [
    "Set = set([1,2,3,4,6])\n",
    "Set"
   ]
  },
  {
   "cell_type": "code",
   "execution_count": null,
   "id": "685780d5",
   "metadata": {
    "vscode": {
     "languageId": "plaintext"
    }
   },
   "outputs": [],
   "source": [
    "Set.add(10)\n",
    "Set.add(10)\n",
    "Set"
   ]
  },
  {
   "cell_type": "code",
   "execution_count": null,
   "id": "a0f346bb",
   "metadata": {
    "vscode": {
     "languageId": "plaintext"
    }
   },
   "outputs": [],
   "source": [
    "Set.pop()"
   ]
  },
  {
   "cell_type": "code",
   "execution_count": null,
   "id": "788a17ee",
   "metadata": {
    "vscode": {
     "languageId": "plaintext"
    }
   },
   "outputs": [],
   "source": [
    "Set.remove(4)\n",
    "Set"
   ]
  },
  {
   "cell_type": "code",
   "execution_count": null,
   "id": "3e420546",
   "metadata": {
    "vscode": {
     "languageId": "plaintext"
    }
   },
   "outputs": [],
   "source": []
  },
  {
   "cell_type": "code",
   "execution_count": null,
   "id": "c35018c8",
   "metadata": {
    "vscode": {
     "languageId": "plaintext"
    }
   },
   "outputs": [],
   "source": []
  }
 ],
 "metadata": {
  "language_info": {
   "name": "python"
  }
 },
 "nbformat": 4,
 "nbformat_minor": 5
}
