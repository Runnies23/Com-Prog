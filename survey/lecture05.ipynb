{
 "cells": [
  {
   "cell_type": "markdown",
   "id": "ef881e33",
   "metadata": {},
   "source": [
    "set\n",
    "\n",
    "Creating a set\n",
    "empty set\n",
    "Duplicate item in set   \n",
    "add item \n",
    "update \n",
    "remove \n",
    "iteration\n",
    "\n",
    "union intersection difference symmetric difference"
   ]
  },
  {
   "cell_type": "markdown",
   "id": "86986293",
   "metadata": {},
   "source": [
    "Dictionary\n",
    "key is immutable \n",
    "Dictionary length\n",
    "Access Change Add Remove\n",
    "\n",
    "Iterating"
   ]
  },
  {
   "cell_type": "markdown",
   "id": "1cff37e4",
   "metadata": {},
   "source": []
  },
  {
   "cell_type": "markdown",
   "id": "029fee7d",
   "metadata": {},
   "source": []
  },
  {
   "cell_type": "markdown",
   "id": "b667f9c5",
   "metadata": {},
   "source": []
  }
 ],
 "metadata": {
  "language_info": {
   "name": "python"
  }
 },
 "nbformat": 4,
 "nbformat_minor": 5
}
