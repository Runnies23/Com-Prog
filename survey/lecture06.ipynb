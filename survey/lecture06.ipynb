{
 "cells": [
  {
   "cell_type": "code",
   "execution_count": null,
   "id": "51b746f6",
   "metadata": {},
   "outputs": [
    {
     "name": "stdout",
     "output_type": "stream",
     "text": [
      "Import Error\n",
      "2.3.0\n"
     ]
    }
   ],
   "source": [
    "# try except explain each error and all the case that appear on the mid term \n",
    "try: \n",
    "    # import pandas as pd\n",
    "    import main \n",
    "# except: \n",
    "#     !pip install pandas \n",
    "#     import pandas as pd \n",
    "\n",
    "except Exception as ImportError:\n",
    "    print(\"Import Error\")\n",
    "except Exception as IndexError:\n",
    "    print(\"\")\n",
    "\n",
    "finally:\n",
    "    print(pd.__version__)\n"
   ]
  },
  {
   "cell_type": "code",
   "execution_count": 31,
   "id": "0be7338a",
   "metadata": {},
   "outputs": [],
   "source": [
    "class Mouse():\n",
    "    def __init__(self):\n",
    "\n",
    "        self.lst = []\n",
    "\n",
    "    def left_click(self):\n",
    "        return 1\n",
    "    \n",
    "    def right_click(self):\n",
    "        return 2\n",
    "    \n",
    "    def middle_click(self):\n",
    "        return 3\n",
    "    \n",
    "    def macro(self):\n",
    "        self.lst.append(self.left_click())\n",
    "        self.lst.append(self.right_click())\n",
    "        self.lst.append(self.middle_click())\n",
    "    \n",
    "    def print_lst(self):\n",
    "        return self.lst"
   ]
  },
  {
   "cell_type": "code",
   "execution_count": 32,
   "id": "6a3083cd",
   "metadata": {},
   "outputs": [],
   "source": [
    "startlight = Mouse()"
   ]
  },
  {
   "cell_type": "code",
   "execution_count": 41,
   "id": "0ca8689d",
   "metadata": {},
   "outputs": [
    {
     "name": "stdout",
     "output_type": "stream",
     "text": [
      "123\n"
     ]
    }
   ],
   "source": [
    "startlight.left_click()\n",
    "print(123)"
   ]
  },
  {
   "cell_type": "code",
   "execution_count": 34,
   "id": "af6c3460",
   "metadata": {},
   "outputs": [
    {
     "data": {
      "text/plain": [
       "2"
      ]
     },
     "execution_count": 34,
     "metadata": {},
     "output_type": "execute_result"
    }
   ],
   "source": [
    "startlight.right_click()"
   ]
  },
  {
   "cell_type": "code",
   "execution_count": 35,
   "id": "49a4697b",
   "metadata": {},
   "outputs": [
    {
     "data": {
      "text/plain": [
       "3"
      ]
     },
     "execution_count": 35,
     "metadata": {},
     "output_type": "execute_result"
    }
   ],
   "source": [
    "startlight.middle_click()"
   ]
  },
  {
   "cell_type": "code",
   "execution_count": 36,
   "id": "019c50cc",
   "metadata": {},
   "outputs": [],
   "source": [
    "startlight.macro()"
   ]
  },
  {
   "cell_type": "code",
   "execution_count": 37,
   "id": "d293933b",
   "metadata": {},
   "outputs": [
    {
     "data": {
      "text/plain": [
       "[1, 2, 3]"
      ]
     },
     "execution_count": 37,
     "metadata": {},
     "output_type": "execute_result"
    }
   ],
   "source": [
    "startlight.print_lst()"
   ]
  },
  {
   "cell_type": "code",
   "execution_count": 39,
   "id": "88a80e20",
   "metadata": {},
   "outputs": [],
   "source": [
    "startlight.macro()"
   ]
  },
  {
   "cell_type": "code",
   "execution_count": 40,
   "id": "f7cc7ceb",
   "metadata": {},
   "outputs": [
    {
     "data": {
      "text/plain": [
       "[1, 2, 3, 1, 2, 3]"
      ]
     },
     "execution_count": 40,
     "metadata": {},
     "output_type": "execute_result"
    }
   ],
   "source": [
    "startlight.lst"
   ]
  },
  {
   "cell_type": "code",
   "execution_count": null,
   "id": "1ff5a613",
   "metadata": {},
   "outputs": [],
   "source": []
  }
 ],
 "metadata": {
  "kernelspec": {
   "display_name": "base3.10",
   "language": "python",
   "name": "python3"
  },
  "language_info": {
   "codemirror_mode": {
    "name": "ipython",
    "version": 3
   },
   "file_extension": ".py",
   "mimetype": "text/x-python",
   "name": "python",
   "nbconvert_exporter": "python",
   "pygments_lexer": "ipython3",
   "version": "3.10.16"
  }
 },
 "nbformat": 4,
 "nbformat_minor": 5
}
