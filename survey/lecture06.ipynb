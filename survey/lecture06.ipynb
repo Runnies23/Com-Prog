{
 "cells": [
  {
   "cell_type": "code",
   "execution_count": 3,
   "id": "51b746f6",
   "metadata": {},
   "outputs": [
    {
     "name": "stdout",
     "output_type": "stream",
     "text": [
      "Import Error\n",
      "Do something\n"
     ]
    }
   ],
   "source": [
    "# try except explain each error and all the case that appear on the mid term \n",
    "try: \n",
    "    # import pandas as pd\n",
    "    import main \n",
    "# except: \n",
    "#     !pip install pandas \n",
    "#     import pandas as pd \n",
    "\n",
    "except Exception as ImportError:\n",
    "    print(\"Import Error\")\n",
    "except Exception as IndexError:\n",
    "    print(\"\")\n",
    "except Exception as E:\n",
    "    print(E)\n",
    "else:\n",
    "    print(\"Helloworld\")\n",
    "\n",
    "finally:\n",
    "    print(\"Do something\")\n",
    "    # print(pd.__version__)\n"
   ]
  },
  {
   "cell_type": "code",
   "execution_count": null,
   "id": "89d535f4",
   "metadata": {},
   "outputs": [],
   "source": []
  },
  {
   "cell_type": "code",
   "execution_count": null,
   "id": "0be7338a",
   "metadata": {},
   "outputs": [],
   "source": []
  }
 ],
 "metadata": {
  "kernelspec": {
   "display_name": "base3.10",
   "language": "python",
   "name": "python3"
  },
  "language_info": {
   "codemirror_mode": {
    "name": "ipython",
    "version": 3
   },
   "file_extension": ".py",
   "mimetype": "text/x-python",
   "name": "python",
   "nbconvert_exporter": "python",
   "pygments_lexer": "ipython3",
   "version": "3.10.16"
  }
 },
 "nbformat": 4,
 "nbformat_minor": 5
}
