{
 "cells": [
  {
   "cell_type": "code",
   "execution_count": null,
   "id": "5e8ab907",
   "metadata": {},
   "outputs": [],
   "source": [
    "#using Class Command\n",
    "\n"
   ]
  },
  {
   "cell_type": "code",
   "execution_count": null,
   "id": "99662015",
   "metadata": {},
   "outputs": [],
   "source": []
  },
  {
   "cell_type": "code",
   "execution_count": null,
   "id": "627a8d20",
   "metadata": {},
   "outputs": [],
   "source": [
    "import math\n",
    "\n",
    "math.sq"
   ]
  },
  {
   "cell_type": "code",
   "execution_count": null,
   "id": "b317fba4",
   "metadata": {},
   "outputs": [],
   "source": [
    "class math():\n",
    "    def sqrt(x):\n",
    "        return x ** 0.5\n",
    "    def sin(x):\n",
    "        pass\n",
    "    "
   ]
  },
  {
   "cell_type": "code",
   "execution_count": null,
   "id": "c10dc5e9",
   "metadata": {},
   "outputs": [],
   "source": [
    "class Mouse():\n",
    "    def __init__(self): #init the functin\n",
    "\n",
    "        self.lst = []\n",
    "\n",
    "    def left_click(self):\n",
    "        return 1\n",
    "    \n",
    "    def right_click(self):\n",
    "        return 2\n",
    "    \n",
    "    def middle_click(self):\n",
    "        return 3\n",
    "    \n",
    "    def macro(self):\n",
    "        self.lst.append(self.left_click())\n",
    "        self.lst.append(self.right_click())\n",
    "        self.lst.append(self.middle_click())\n",
    "    \n",
    "    def print_lst(self):\n",
    "        return self.lst"
   ]
  },
  {
   "cell_type": "code",
   "execution_count": null,
   "id": "556fd1e5",
   "metadata": {},
   "outputs": [],
   "source": [
    "startlight = Mouse()"
   ]
  },
  {
   "cell_type": "code",
   "execution_count": null,
   "id": "be3365c2",
   "metadata": {},
   "outputs": [],
   "source": [
    "startlight.left_click()\n",
    "print(123)"
   ]
  },
  {
   "cell_type": "code",
   "execution_count": null,
   "id": "d4b7f572",
   "metadata": {},
   "outputs": [],
   "source": [
    "startlight.right_click()"
   ]
  },
  {
   "cell_type": "code",
   "execution_count": null,
   "id": "29bf53cb",
   "metadata": {},
   "outputs": [],
   "source": [
    "startlight.middle_click()"
   ]
  },
  {
   "cell_type": "code",
   "execution_count": null,
   "id": "fc1595cd",
   "metadata": {},
   "outputs": [],
   "source": [
    "startlight.macro()"
   ]
  },
  {
   "cell_type": "code",
   "execution_count": null,
   "id": "0c2186d1",
   "metadata": {},
   "outputs": [],
   "source": [
    "startlight.print_lst()"
   ]
  },
  {
   "cell_type": "code",
   "execution_count": null,
   "id": "47a47f74",
   "metadata": {},
   "outputs": [],
   "source": [
    "startlight.macro()"
   ]
  },
  {
   "cell_type": "code",
   "execution_count": null,
   "id": "0a395fa5",
   "metadata": {},
   "outputs": [],
   "source": [
    "startlight.lst"
   ]
  },
  {
   "cell_type": "code",
   "execution_count": null,
   "id": "0250656a",
   "metadata": {},
   "outputs": [],
   "source": [
    "class Class_name:\n",
    "    def __init__(self):\n",
    "        pass\n",
    "\n",
    "    @staticmethod\n",
    "    def somefunction(self, x):\n",
    "        pass\n",
    "    \n",
    "    @classmethod\n",
    "    def class_method(self,x):\n",
    "        pass"
   ]
  },
  {
   "cell_type": "code",
   "execution_count": 23,
   "id": "8716a01e",
   "metadata": {},
   "outputs": [],
   "source": [
    "class Class_name:\n",
    "    def __init__(self, smth):\n",
    "        self.dog = \"poppy\"\n",
    "        self.sm = smth\n",
    "        # self.create_age()\n",
    "        \n",
    "    def create_age(self):\n",
    "        self.age = 10\n",
    "\n",
    "    def print(self):\n",
    "        print(self.dog)"
   ]
  },
  {
   "cell_type": "code",
   "execution_count": 24,
   "id": "7820d54e",
   "metadata": {},
   "outputs": [],
   "source": [
    "smt = Class_name('Golden')"
   ]
  },
  {
   "cell_type": "code",
   "execution_count": 25,
   "id": "2ebbb326",
   "metadata": {},
   "outputs": [
    {
     "data": {
      "text/plain": [
       "'poppy'"
      ]
     },
     "execution_count": 25,
     "metadata": {},
     "output_type": "execute_result"
    }
   ],
   "source": [
    "smt.dog"
   ]
  },
  {
   "cell_type": "code",
   "execution_count": 26,
   "id": "ac9a4a1b",
   "metadata": {},
   "outputs": [
    {
     "data": {
      "text/plain": [
       "'Golden'"
      ]
     },
     "execution_count": 26,
     "metadata": {},
     "output_type": "execute_result"
    }
   ],
   "source": [
    "smt.sm"
   ]
  },
  {
   "cell_type": "code",
   "execution_count": 30,
   "id": "2241e1c4",
   "metadata": {},
   "outputs": [
    {
     "data": {
      "text/plain": [
       "10"
      ]
     },
     "execution_count": 30,
     "metadata": {},
     "output_type": "execute_result"
    }
   ],
   "source": [
    "smt.age"
   ]
  },
  {
   "cell_type": "code",
   "execution_count": 29,
   "id": "4a88a78b",
   "metadata": {},
   "outputs": [],
   "source": [
    "smt.create_age()"
   ]
  },
  {
   "cell_type": "code",
   "execution_count": 3,
   "id": "f556e3ee",
   "metadata": {},
   "outputs": [],
   "source": [
    "def smth(a:str=100, b:int=20):\n",
    "    print(a,b)\n",
    "    return a + b"
   ]
  },
  {
   "cell_type": "code",
   "execution_count": 4,
   "id": "00be539b",
   "metadata": {},
   "outputs": [
    {
     "name": "stdout",
     "output_type": "stream",
     "text": [
      "100 1\n"
     ]
    },
    {
     "data": {
      "text/plain": [
       "101"
      ]
     },
     "execution_count": 4,
     "metadata": {},
     "output_type": "execute_result"
    }
   ],
   "source": [
    "smth(b=1)"
   ]
  },
  {
   "cell_type": "code",
   "execution_count": null,
   "id": "b75763fd",
   "metadata": {},
   "outputs": [],
   "source": [
    "smth"
   ]
  },
  {
   "cell_type": "code",
   "execution_count": null,
   "id": "40932282",
   "metadata": {},
   "outputs": [],
   "source": [
    "mat.num1"
   ]
  },
  {
   "cell_type": "code",
   "execution_count": null,
   "id": "3a1ea52e",
   "metadata": {},
   "outputs": [
    {
     "name": "stdout",
     "output_type": "stream",
     "text": [
      "1001\n",
      "500\n",
      "5000\n",
      "100.0\n",
      "ID: 1001, Balance: 4900.00\n"
     ]
    }
   ],
   "source": [
    "class BankAccount:\n",
    "    def __init__(self, accountID: str=\"1001\", balance: float=0.00):\n",
    "        self.accountID = accountID\n",
    "        self.balance = balance\n",
    "\n",
    "    def __\n",
    "\n",
    "    def __str__(self) -> str:\n",
    "        return f\"ID: {self.accountID}, Balance: {self.balance:.2f}\"\n",
    "\n",
    "    def set_accout_ID(self, newID: str):\n",
    "        self.accountID = newID\n",
    "\n",
    "    def set_balance(self, new_balance: float):\n",
    "        self.balance = new_balance\n",
    "\n",
    "    def get_account_ID(self) -> str:\n",
    "        return self.accountID\n",
    "    \n",
    "    def get_balance(self) -> int:\n",
    "        return self.balance\n",
    "    \n",
    "    def deposit(self, amount: float):\n",
    "        self.balance += amount\n",
    "\n",
    "    def withdrawal(self, amount: float):\n",
    "        self.balance -= amount\n",
    "    \n",
    "# test\n",
    "account = BankAccount(\"1001\",500)\n",
    "\n",
    "print(account.get_account_ID())\n",
    "print(account.get_balance())\n",
    "account.set_balance(5000)\n",
    "print(account.get_balance())\n",
    "\n",
    "amount = float(input(\"Enter your deposit amount: \"))\n",
    "account.deposit(amount)\n",
    "print(amount)\n",
    "\n",
    "amount = float(input(\"Enter your withdrawal amount: \"))\n",
    "account.withdrawal(amount)\n",
    "print(account)"
   ]
  },
  {
   "cell_type": "code",
   "execution_count": null,
   "id": "6b1bc144",
   "metadata": {},
   "outputs": [],
   "source": []
  }
 ],
 "metadata": {
  "kernelspec": {
   "display_name": "base3.10",
   "language": "python",
   "name": "python3"
  },
  "language_info": {
   "codemirror_mode": {
    "name": "ipython",
    "version": 3
   },
   "file_extension": ".py",
   "mimetype": "text/x-python",
   "name": "python",
   "nbconvert_exporter": "python",
   "pygments_lexer": "ipython3",
   "version": "3.10.16"
  }
 },
 "nbformat": 4,
 "nbformat_minor": 5
}
