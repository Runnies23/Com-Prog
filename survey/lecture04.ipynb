{
 "cells": [
  {
   "cell_type": "markdown",
   "id": "aab71652",
   "metadata": {},
   "source": [
    "#### Data type"
   ]
  },
  {
   "cell_type": "code",
   "execution_count": null,
   "id": "9d725890",
   "metadata": {},
   "outputs": [],
   "source": [
    "# Python list      \n",
    "# Negative indexing \n",
    "# Slicing of a list\n",
    "\n",
    "# Add elements to a list\n",
    "# Change list items (with index)\n",
    "# Remove\n",
    "# List Method - Operation\n",
    "\n",
    "# Iteration with list"
   ]
  },
  {
   "cell_type": "code",
   "execution_count": null,
   "id": "f7a5bd49",
   "metadata": {},
   "outputs": [],
   "source": [
    "# Tuple \n",
    "# like list but can't change "
   ]
  },
  {
   "cell_type": "code",
   "execution_count": null,
   "id": "a57da719",
   "metadata": {},
   "outputs": [],
   "source": [
    "# String\n",
    "\n",
    "# Negative index and slicing\n",
    "# immutable\n",
    "# Multiline\n",
    "\n",
    "# operations -> compare & join (concat + , join)\n",
    "# iteration\n",
    "# Format string"
   ]
  },
  {
   "cell_type": "markdown",
   "id": "aab68fff",
   "metadata": {},
   "source": [
    "#### String"
   ]
  },
  {
   "cell_type": "code",
   "execution_count": null,
   "id": "784650b4",
   "metadata": {},
   "outputs": [],
   "source": [
    "# String จะใช้ double quotes  && single quotes ครุมตัวอักษร But จะคุมเเค่บรรทัดเดียว only\n",
    "string = \"Hello\" \n",
    "string = 'Hello'\n",
    "\n",
    "\n",
    "#use triple double string to turn text \n",
    "string = \"\"\"Helloworld\n",
    "what is \n",
    "this\"\"\""
   ]
  },
  {
   "cell_type": "code",
   "execution_count": 3,
   "id": "51eb4966",
   "metadata": {},
   "outputs": [
    {
     "data": {
      "text/plain": [
       "'Helloworld\\nwhat is \\nthis'"
      ]
     },
     "execution_count": 3,
     "metadata": {},
     "output_type": "execute_result"
    }
   ],
   "source": [
    "string"
   ]
  },
  {
   "cell_type": "code",
   "execution_count": null,
   "id": "bb9bff0e",
   "metadata": {},
   "outputs": [],
   "source": [
    "\n",
    "string = \"he #จะ init value ไม่ได้ \n",
    "llo\"\n",
    "\n",
    "# case sensitive \n",
    "string = \"Hello \" world \" #string เป็นอันเดียวกันเเล้วไม่ครบจะไม่ได้\n",
    "string = \"Hello\"\" \"\n"
   ]
  },
  {
   "cell_type": "code",
   "execution_count": 4,
   "id": "9587c13b",
   "metadata": {},
   "outputs": [
    {
     "data": {
      "text/plain": [
       "'Hello'"
      ]
     },
     "execution_count": 4,
     "metadata": {},
     "output_type": "execute_result"
    }
   ],
   "source": [
    "#Join - concat string\n",
    "text = \"\"\n",
    "\n",
    "text += \"Hello\"\n",
    "# text = text + \"Hello\"\n",
    "text"
   ]
  },
  {
   "cell_type": "code",
   "execution_count": 5,
   "id": "5c4408ba",
   "metadata": {},
   "outputs": [
    {
     "data": {
      "text/plain": [
       "'123Hello'"
      ]
     },
     "execution_count": 5,
     "metadata": {},
     "output_type": "execute_result"
    }
   ],
   "source": [
    "text = \"123\" + text\n",
    "text"
   ]
  },
  {
   "cell_type": "code",
   "execution_count": 6,
   "id": "fdf6098d",
   "metadata": {},
   "outputs": [
    {
     "data": {
      "text/plain": [
       "'123Hello123'"
      ]
     },
     "execution_count": 6,
     "metadata": {},
     "output_type": "execute_result"
    }
   ],
   "source": [
    "text = text + \"123\" \n",
    "text"
   ]
  },
  {
   "cell_type": "code",
   "execution_count": null,
   "id": "e41cfacd",
   "metadata": {},
   "outputs": [],
   "source": [
    "print(text)\n",
    "len(text) #lenght of text "
   ]
  },
  {
   "cell_type": "code",
   "execution_count": 7,
   "id": "a608b71f",
   "metadata": {},
   "outputs": [
    {
     "name": "stdout",
     "output_type": "stream",
     "text": [
      "1.first 2.Second 3.Third\n"
     ]
    }
   ],
   "source": [
    "#Join string\n",
    "lst_str = [\"1.first\", \"2.Second\",\"3.Third\"] #init list of string\n",
    "# print all the string in the list\n",
    "print(\" \".join(lst_str))"
   ]
  },
  {
   "cell_type": "code",
   "execution_count": 8,
   "id": "a62f9898",
   "metadata": {},
   "outputs": [
    {
     "name": "stdout",
     "output_type": "stream",
     "text": [
      "1.first\n",
      "2.Second\n",
      "3.Third\n"
     ]
    }
   ],
   "source": [
    "print(\"\\n\".join(lst_str))"
   ]
  },
  {
   "cell_type": "code",
   "execution_count": 9,
   "id": "3e0069cf",
   "metadata": {},
   "outputs": [
    {
     "name": "stdout",
     "output_type": "stream",
     "text": [
      "1.first, 2.Second, 3.Third\n"
     ]
    }
   ],
   "source": [
    "print(\", \".join(lst_str))"
   ]
  },
  {
   "cell_type": "code",
   "execution_count": 13,
   "id": "61076d4d",
   "metadata": {},
   "outputs": [
    {
     "data": {
      "text/plain": [
       "['1.first', '2.Second', '3.Third']"
      ]
     },
     "execution_count": 13,
     "metadata": {},
     "output_type": "execute_result"
    }
   ],
   "source": [
    "lst_str"
   ]
  },
  {
   "cell_type": "code",
   "execution_count": 14,
   "id": "733129a0",
   "metadata": {},
   "outputs": [
    {
     "name": "stdout",
     "output_type": "stream",
     "text": [
      "1.first, 2.Second, 3.Third, "
     ]
    }
   ],
   "source": [
    "for i in lst_str:\n",
    "    print(i,end=\", \")\n",
    "# print(lst_str[-1])"
   ]
  },
  {
   "cell_type": "code",
   "execution_count": 15,
   "id": "09b22259",
   "metadata": {},
   "outputs": [
    {
     "name": "stdout",
     "output_type": "stream",
     "text": [
      "0 : M\n",
      "1 : y\n",
      "2 : N\n",
      "3 : a\n",
      "4 : m\n",
      "5 : e\n",
      "6 : I\n",
      "7 : s\n",
      "8 : R\n",
      "9 : u\n",
      "10 : n\n"
     ]
    }
   ],
   "source": [
    "#Slding - indexing\n",
    "String_idx = \"MyNameIsRun\"\n",
    "for index in range(len(String_idx)):\n",
    "    print(f\"{index} : {String_idx[index]}\")"
   ]
  },
  {
   "cell_type": "code",
   "execution_count": 16,
   "id": "f9fcd0e9",
   "metadata": {},
   "outputs": [
    {
     "data": {
      "text/plain": [
       "'Run'"
      ]
     },
     "execution_count": 16,
     "metadata": {},
     "output_type": "execute_result"
    }
   ],
   "source": [
    "String_idx[8:]"
   ]
  },
  {
   "cell_type": "code",
   "execution_count": 17,
   "id": "be84074a",
   "metadata": {},
   "outputs": [
    {
     "data": {
      "text/plain": [
       "'NameIs'"
      ]
     },
     "execution_count": 17,
     "metadata": {},
     "output_type": "execute_result"
    }
   ],
   "source": [
    "# start -> start + 1\n",
    "String_idx[2:8]"
   ]
  },
  {
   "cell_type": "code",
   "execution_count": 20,
   "id": "3e43fb41",
   "metadata": {},
   "outputs": [
    {
     "data": {
      "text/plain": [
       "'nuRsIemaNyM'"
      ]
     },
     "execution_count": 20,
     "metadata": {},
     "output_type": "execute_result"
    }
   ],
   "source": [
    "reversed_string = String_idx[::-1] #also can use with list \n",
    "reversed_string"
   ]
  },
  {
   "cell_type": "code",
   "execution_count": 21,
   "id": "ed795b5b",
   "metadata": {},
   "outputs": [
    {
     "name": "stdout",
     "output_type": "stream",
     "text": [
      "[1, 2, 3, 4, 5, 6, 7]\n",
      "[7, 6, 5, 4, 3, 2, 1]\n"
     ]
    }
   ],
   "source": [
    "lst = [1,2,3,4,5,6,7]\n",
    "print(lst)\n",
    "print(lst[::-1])"
   ]
  },
  {
   "cell_type": "code",
   "execution_count": null,
   "id": "6fd7838a",
   "metadata": {},
   "outputs": [],
   "source": [
    "lst.reverse()\n",
    "lst"
   ]
  },
  {
   "cell_type": "code",
   "execution_count": 25,
   "id": "4a4304de",
   "metadata": {},
   "outputs": [
    {
     "data": {
      "text/plain": [
       "'H[ell]o H[ell]'"
      ]
     },
     "execution_count": 25,
     "metadata": {},
     "output_type": "execute_result"
    }
   ],
   "source": [
    "text = \"Hello Hell\"\n",
    "replace_text = \"ell\"\n",
    "text.replace(\"ell\", '[ell]')"
   ]
  },
  {
   "cell_type": "code",
   "execution_count": 24,
   "id": "4b9a7887",
   "metadata": {},
   "outputs": [
    {
     "name": "stdout",
     "output_type": "stream",
     "text": [
      "MyNameIsRun\n",
      "MyNameIsFrank\n",
      "MyNameIsRun\n"
     ]
    }
   ],
   "source": [
    "print(String_idx)\n",
    "print(String_idx.replace(\"Run\",\"Frank\"))\n",
    "print(String_idx.replace(\"Run.\",\"Frank\"))"
   ]
  },
  {
   "cell_type": "code",
   "execution_count": 26,
   "id": "c31eb9b4",
   "metadata": {},
   "outputs": [
    {
     "name": "stdout",
     "output_type": "stream",
     "text": [
      "dsaddsadasdddsda\n"
     ]
    }
   ],
   "source": [
    "print(\"dsad dsadasdd dsda\".replace(\" \",\"\"))"
   ]
  },
  {
   "cell_type": "code",
   "execution_count": 27,
   "id": "aeb96dbd",
   "metadata": {},
   "outputs": [
    {
     "name": "stdout",
     "output_type": "stream",
     "text": [
      "H\n",
      "e\n",
      "l\n",
      "l\n",
      "o\n",
      " \n",
      "w\n",
      "o\n",
      "r\n",
      "l\n",
      "d\n"
     ]
    }
   ],
   "source": [
    "# for loop with text \n",
    "# concept like for loop in list but each value represent charactor \n",
    "\n",
    "for char in \"Hello world\":\n",
    "    print(char)"
   ]
  },
  {
   "cell_type": "code",
   "execution_count": 28,
   "id": "5c9b844b",
   "metadata": {},
   "outputs": [
    {
     "data": {
      "text/plain": [
       "'e'"
      ]
     },
     "execution_count": 28,
     "metadata": {},
     "output_type": "execute_result"
    }
   ],
   "source": [
    "Charactor_operation = String_idx[5]\n",
    "Charactor_operation"
   ]
  },
  {
   "cell_type": "code",
   "execution_count": null,
   "id": "65408e48",
   "metadata": {},
   "outputs": [],
   "source": [
    "print(Charactor_operation.isalpha()) #alphanumeric\n",
    "print(Charactor_operation.isalnum()) #alphabet\n",
    "print(Charactor_operation.isdecimal()) #decimals\n",
    "print(Charactor_operation.isdigit()) #is number\n",
    "print(Charactor_operation.islower()) #lower case \n",
    "print(Charactor_operation.isupper()) #upper case\n",
    "print(Charactor_operation.isnumeric()) #numeric\n",
    "print(Charactor_operation.isspace()) #space \n",
    "print(Charactor_operation.istitle()) \n",
    "print(Charactor_operation.isascii())#characters\n",
    "print(Charactor_operation.isidentifier())"
   ]
  },
  {
   "cell_type": "code",
   "execution_count": 31,
   "id": "7573a02e",
   "metadata": {},
   "outputs": [
    {
     "data": {
      "text/plain": [
       "'e'"
      ]
     },
     "execution_count": 31,
     "metadata": {},
     "output_type": "execute_result"
    }
   ],
   "source": [
    "Charactor_operation"
   ]
  },
  {
   "cell_type": "code",
   "execution_count": 29,
   "id": "5694558f",
   "metadata": {},
   "outputs": [
    {
     "data": {
      "text/plain": [
       "True"
      ]
     },
     "execution_count": 29,
     "metadata": {},
     "output_type": "execute_result"
    }
   ],
   "source": [
    "Charactor_operation.upper()\n",
    "Charactor_operation.lower()\n",
    "\n",
    "#text \n",
    "Charactor_operation.startswith(\"2\")\n",
    "Charactor_operation.endswith(\"e\")"
   ]
  },
  {
   "cell_type": "code",
   "execution_count": 36,
   "id": "565a086e",
   "metadata": {},
   "outputs": [
    {
     "data": {
      "text/plain": [
       "'HelloHelloHelloHelloHelloHelloHelloHelloHelloHello'"
      ]
     },
     "execution_count": 36,
     "metadata": {},
     "output_type": "execute_result"
    }
   ],
   "source": [
    "# stirng * int \n",
    "\"Hello\" * 10 #repeat 'Hello' 10 time"
   ]
  },
  {
   "cell_type": "code",
   "execution_count": null,
   "id": "9cbf4a6e",
   "metadata": {},
   "outputs": [],
   "source": [
    "text = 'Im Frank, Run, P, J'\n",
    "text.split(\",\")"
   ]
  },
  {
   "cell_type": "code",
   "execution_count": null,
   "id": "e0b96fee",
   "metadata": {},
   "outputs": [],
   "source": [
    "text.strip()\n",
    "# remove beginning and ending space "
   ]
  },
  {
   "cell_type": "code",
   "execution_count": 37,
   "id": "8ce3c0b9",
   "metadata": {},
   "outputs": [],
   "source": [
    "text = \"\"\"\n",
    "Helodsankfgaippgjasgas\n",
    "asgnpasngpasjg[assd\n",
    "dsoa[dko[sadkas]]]\n",
    "\"\"\""
   ]
  },
  {
   "cell_type": "code",
   "execution_count": 38,
   "id": "c66d3a09",
   "metadata": {},
   "outputs": [
    {
     "name": "stdout",
     "output_type": "stream",
     "text": [
      "\n",
      "Helodsankfgaippgjasgas\n",
      "asgnpasngpasjg[assd\n",
      "dsoa[dko[sadkas]]]\n",
      "\n"
     ]
    }
   ],
   "source": [
    "print(text)"
   ]
  },
  {
   "cell_type": "code",
   "execution_count": 39,
   "id": "01c4c9af",
   "metadata": {},
   "outputs": [
    {
     "name": "stdout",
     "output_type": "stream",
     "text": [
      "Helodsankfgaippgjasgas\n",
      "asgnpasngpasjg[assd\n",
      "dsoa[dko[sadkas]]]\n"
     ]
    }
   ],
   "source": [
    "print(text.strip())"
   ]
  },
  {
   "cell_type": "markdown",
   "id": "1b1383c3",
   "metadata": {},
   "source": [
    "#### List"
   ]
  },
  {
   "cell_type": "markdown",
   "id": "a366a72c",
   "metadata": {},
   "source": [
    "# list\n",
    "list_01 = [] #create empty list\n",
    "list_01 "
   ]
  },
  {
   "cell_type": "code",
   "execution_count": null,
   "id": "2261938f",
   "metadata": {},
   "outputs": [],
   "source": [
    "list_01 = list()\n",
    "list_01"
   ]
  },
  {
   "cell_type": "code",
   "execution_count": 40,
   "id": "9419d1bb",
   "metadata": {},
   "outputs": [
    {
     "data": {
      "text/plain": [
       "[1, 2, 3, 4]"
      ]
     },
     "execution_count": 40,
     "metadata": {},
     "output_type": "execute_result"
    }
   ],
   "source": [
    "# list\n",
    "list_02 = [1,2,3,4] #create list with value inside\n",
    "list_02 "
   ]
  },
  {
   "cell_type": "code",
   "execution_count": 41,
   "id": "777425e7",
   "metadata": {},
   "outputs": [
    {
     "data": {
      "text/plain": [
       "3"
      ]
     },
     "execution_count": 41,
     "metadata": {},
     "output_type": "execute_result"
    }
   ],
   "source": [
    "list_02.pop(2)"
   ]
  },
  {
   "cell_type": "code",
   "execution_count": 42,
   "id": "f10d50a8",
   "metadata": {},
   "outputs": [
    {
     "data": {
      "text/plain": [
       "[1, 2, 4]"
      ]
     },
     "execution_count": 42,
     "metadata": {},
     "output_type": "execute_result"
    }
   ],
   "source": [
    "list_02"
   ]
  },
  {
   "cell_type": "code",
   "execution_count": 43,
   "id": "84094c45",
   "metadata": {},
   "outputs": [
    {
     "name": "stdout",
     "output_type": "stream",
     "text": [
      "[]\n"
     ]
    },
    {
     "data": {
      "text/plain": [
       "['Hello']"
      ]
     },
     "execution_count": 43,
     "metadata": {},
     "output_type": "execute_result"
    }
   ],
   "source": [
    "list_01 = [] #create empty list\n",
    "print(list_01 )\n",
    "list_01.append(\"Hello\")\n",
    "list_01"
   ]
  },
  {
   "cell_type": "code",
   "execution_count": 44,
   "id": "6b260ca9",
   "metadata": {},
   "outputs": [
    {
     "data": {
      "text/plain": [
       "['Hello', 'World']"
      ]
     },
     "execution_count": 44,
     "metadata": {},
     "output_type": "execute_result"
    }
   ],
   "source": [
    "list_01.append(\"World\")\n",
    "list_01"
   ]
  },
  {
   "cell_type": "code",
   "execution_count": null,
   "id": "bd80abc2",
   "metadata": {},
   "outputs": [],
   "source": [
    "# remove the default : recent value - last value \n",
    "# remove with index\n",
    "list_01.pop()"
   ]
  },
  {
   "cell_type": "code",
   "execution_count": null,
   "id": "f695ba5b",
   "metadata": {},
   "outputs": [],
   "source": [
    "list_01"
   ]
  },
  {
   "cell_type": "code",
   "execution_count": null,
   "id": "4b1e3f8f",
   "metadata": {},
   "outputs": [],
   "source": []
  },
  {
   "cell_type": "code",
   "execution_count": 45,
   "id": "194451d8",
   "metadata": {},
   "outputs": [],
   "source": [
    "#remove value with specific value\n",
    "list_01.remove(\"Hello\")"
   ]
  },
  {
   "cell_type": "code",
   "execution_count": 46,
   "id": "d918cfa4",
   "metadata": {},
   "outputs": [
    {
     "data": {
      "text/plain": [
       "['World']"
      ]
     },
     "execution_count": 46,
     "metadata": {},
     "output_type": "execute_result"
    }
   ],
   "source": [
    "list_01"
   ]
  },
  {
   "cell_type": "code",
   "execution_count": 47,
   "id": "945683e0",
   "metadata": {},
   "outputs": [
    {
     "data": {
      "text/plain": [
       "[6, 6, 8, 1, 5]"
      ]
     },
     "execution_count": 47,
     "metadata": {},
     "output_type": "execute_result"
    }
   ],
   "source": [
    "#list index\n",
    "list_02 = [6,6,8,1,5]\n",
    "list_02"
   ]
  },
  {
   "cell_type": "code",
   "execution_count": 48,
   "id": "e146b95d",
   "metadata": {},
   "outputs": [
    {
     "data": {
      "text/plain": [
       "8"
      ]
     },
     "execution_count": 48,
     "metadata": {},
     "output_type": "execute_result"
    }
   ],
   "source": [
    "list_02[2]"
   ]
  },
  {
   "cell_type": "code",
   "execution_count": 49,
   "id": "4760c892",
   "metadata": {},
   "outputs": [
    {
     "data": {
      "text/plain": [
       "5"
      ]
     },
     "execution_count": 49,
     "metadata": {},
     "output_type": "execute_result"
    }
   ],
   "source": [
    "len(list_02)"
   ]
  },
  {
   "cell_type": "code",
   "execution_count": 50,
   "id": "f34db668",
   "metadata": {},
   "outputs": [
    {
     "ename": "IndexError",
     "evalue": "list index out of range",
     "output_type": "error",
     "traceback": [
      "\u001b[0;31m---------------------------------------------------------------------------\u001b[0m",
      "\u001b[0;31mIndexError\u001b[0m                                Traceback (most recent call last)",
      "Cell \u001b[0;32mIn[50], line 2\u001b[0m\n\u001b[1;32m      1\u001b[0m \u001b[38;5;66;03m# if call the index that is 5\u001b[39;00m\n\u001b[0;32m----> 2\u001b[0m \u001b[43mlist_02\u001b[49m\u001b[43m[\u001b[49m\u001b[38;5;241;43m5\u001b[39;49m\u001b[43m]\u001b[49m \u001b[38;5;66;03m#out of range\u001b[39;00m\n",
      "\u001b[0;31mIndexError\u001b[0m: list index out of range"
     ]
    }
   ],
   "source": [
    "# if call the index that is 5\n",
    "list_02[5] #out of range"
   ]
  },
  {
   "cell_type": "code",
   "execution_count": 51,
   "id": "9bc61ea6",
   "metadata": {},
   "outputs": [
    {
     "data": {
      "text/plain": [
       "10"
      ]
     },
     "execution_count": 51,
     "metadata": {},
     "output_type": "execute_result"
    }
   ],
   "source": [
    "list_02.append(10)\n",
    "list_02[5] "
   ]
  },
  {
   "cell_type": "code",
   "execution_count": 52,
   "id": "16faddf9",
   "metadata": {},
   "outputs": [],
   "source": [
    "#join 2 list \n",
    "list_01 = [1,2,3,4]\n",
    "list_02 = [5,6,7,8]"
   ]
  },
  {
   "cell_type": "code",
   "execution_count": 53,
   "id": "14c31dbb",
   "metadata": {},
   "outputs": [
    {
     "data": {
      "text/plain": [
       "[1, 2, 3, 4, 5, 6, 7, 8]"
      ]
     },
     "execution_count": 53,
     "metadata": {},
     "output_type": "execute_result"
    }
   ],
   "source": [
    "list_01 + list_02"
   ]
  },
  {
   "cell_type": "code",
   "execution_count": 54,
   "id": "a7e6fd23",
   "metadata": {},
   "outputs": [
    {
     "ename": "TypeError",
     "evalue": "unsupported operand type(s) for -: 'list' and 'list'",
     "output_type": "error",
     "traceback": [
      "\u001b[0;31m---------------------------------------------------------------------------\u001b[0m",
      "\u001b[0;31mTypeError\u001b[0m                                 Traceback (most recent call last)",
      "Cell \u001b[0;32mIn[54], line 1\u001b[0m\n\u001b[0;32m----> 1\u001b[0m \u001b[43mlist_01\u001b[49m\u001b[43m \u001b[49m\u001b[38;5;241;43m-\u001b[39;49m\u001b[43m \u001b[49m\u001b[43mlist_02\u001b[49m\n",
      "\u001b[0;31mTypeError\u001b[0m: unsupported operand type(s) for -: 'list' and 'list'"
     ]
    }
   ],
   "source": [
    "list_01 - list_02"
   ]
  },
  {
   "cell_type": "markdown",
   "id": "81587931",
   "metadata": {},
   "source": [
    "#### Tuple "
   ]
  },
  {
   "cell_type": "code",
   "execution_count": 55,
   "id": "de148d88",
   "metadata": {},
   "outputs": [],
   "source": [
    "#  same as dict but it's inmutable \n",
    "tuple_01 = (1,2,3,4) \n",
    "\n",
    "#for me not often use "
   ]
  },
  {
   "cell_type": "code",
   "execution_count": null,
   "id": "9e7b24ca",
   "metadata": {},
   "outputs": [],
   "source": []
  },
  {
   "cell_type": "code",
   "execution_count": null,
   "id": "ebf8ba5d",
   "metadata": {},
   "outputs": [],
   "source": []
  }
 ],
 "metadata": {
  "kernelspec": {
   "display_name": "base3.10",
   "language": "python",
   "name": "python3"
  },
  "language_info": {
   "codemirror_mode": {
    "name": "ipython",
    "version": 3
   },
   "file_extension": ".py",
   "mimetype": "text/x-python",
   "name": "python",
   "nbconvert_exporter": "python",
   "pygments_lexer": "ipython3",
   "version": "3.10.16"
  }
 },
 "nbformat": 4,
 "nbformat_minor": 5
}
