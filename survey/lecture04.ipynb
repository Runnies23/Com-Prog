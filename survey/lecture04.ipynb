{
 "cells": [
  {
   "cell_type": "markdown",
   "id": "aab71652",
   "metadata": {},
   "source": [
    "#### Data type"
   ]
  },
  {
   "cell_type": "code",
   "execution_count": null,
   "id": "9d725890",
   "metadata": {
    "vscode": {
     "languageId": "plaintext"
    }
   },
   "outputs": [],
   "source": [
    "Python list      \n",
    "Negative indexing \n",
    "Slicing of a list\n",
    "\n",
    "Add elements to a list\n",
    "Change list items (with index)\n",
    "Remove\n",
    "List Method - Operation\n",
    "\n",
    "Iteration with list"
   ]
  },
  {
   "cell_type": "code",
   "execution_count": null,
   "id": "f7a5bd49",
   "metadata": {
    "vscode": {
     "languageId": "plaintext"
    }
   },
   "outputs": [],
   "source": [
    "Tuple \n",
    "like list but can't change "
   ]
  },
  {
   "cell_type": "code",
   "execution_count": null,
   "id": "a57da719",
   "metadata": {
    "vscode": {
     "languageId": "plaintext"
    }
   },
   "outputs": [],
   "source": [
    "String\n",
    "\n",
    "Negative index and slicing\n",
    "immutable\n",
    "Multiline\n",
    "\n",
    "operations -> compare & join (concat + , join)\n",
    "iteration\n",
    "Format string"
   ]
  },
  {
   "cell_type": "code",
   "execution_count": null,
   "id": "784650b4",
   "metadata": {
    "vscode": {
     "languageId": "plaintext"
    }
   },
   "outputs": [],
   "source": []
  },
  {
   "cell_type": "code",
   "execution_count": null,
   "id": "bb9bff0e",
   "metadata": {
    "vscode": {
     "languageId": "plaintext"
    }
   },
   "outputs": [],
   "source": []
  }
 ],
 "metadata": {
  "language_info": {
   "name": "python"
  }
 },
 "nbformat": 4,
 "nbformat_minor": 5
}
