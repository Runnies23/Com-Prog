{
 "cells": [
  {
   "cell_type": "markdown",
   "id": "aab71652",
   "metadata": {},
   "source": [
    "#### Data type"
   ]
  },
  {
   "cell_type": "code",
   "execution_count": null,
   "id": "9d725890",
   "metadata": {},
   "outputs": [],
   "source": [
    "# Python list      \n",
    "# Negative indexing \n",
    "# Slicing of a list\n",
    "\n",
    "# Add elements to a list\n",
    "# Change list items (with index)\n",
    "# Remove\n",
    "# List Method - Operation\n",
    "\n",
    "# Iteration with list"
   ]
  },
  {
   "cell_type": "code",
   "execution_count": null,
   "id": "f7a5bd49",
   "metadata": {},
   "outputs": [],
   "source": [
    "# Tuple \n",
    "# like list but can't change "
   ]
  },
  {
   "cell_type": "code",
   "execution_count": null,
   "id": "a57da719",
   "metadata": {},
   "outputs": [],
   "source": [
    "# String\n",
    "\n",
    "# Negative index and slicing\n",
    "# immutable\n",
    "# Multiline\n",
    "\n",
    "# operations -> compare & join (concat + , join)\n",
    "# iteration\n",
    "# Format string"
   ]
  },
  {
   "cell_type": "markdown",
   "id": "aab68fff",
   "metadata": {},
   "source": [
    "#### String"
   ]
  },
  {
   "cell_type": "code",
   "execution_count": null,
   "id": "784650b4",
   "metadata": {},
   "outputs": [],
   "source": [
    "# String จะใช้ double quotes  && single quotes ครุมตัวอักษร But จะคุมเเค่บรรทัดเดียว only\n",
    "string = \"Hello\"\n",
    "string = 'Hello' \n",
    "\n",
    "\n",
    "#use triple double string to turn text \n",
    "string = \"\"\"Helloworld\n",
    "what is \n",
    "this\"\"\""
   ]
  },
  {
   "cell_type": "code",
   "execution_count": null,
   "id": "bb9bff0e",
   "metadata": {},
   "outputs": [],
   "source": [
    "\n",
    "string = \"he #จะ init value ไม่ได้ \n",
    "llo\"\n",
    "\n",
    "# case sensitive \n",
    "string = \"Hello \" world \" #string เป็นอันเดียวกันเเล้วไม่ครบจะไม่ได้\n",
    "string = \"Hello\"\" \"\n"
   ]
  },
  {
   "cell_type": "code",
   "execution_count": null,
   "id": "9587c13b",
   "metadata": {},
   "outputs": [],
   "source": [
    "#Join - concat string\n",
    "text = \"\"\n",
    "\n",
    "text += \"Hello\"\n",
    "# text = text + \"Hello\"\n",
    "text"
   ]
  },
  {
   "cell_type": "code",
   "execution_count": null,
   "id": "5c4408ba",
   "metadata": {},
   "outputs": [],
   "source": [
    "text = \"123\" + text\n",
    "text"
   ]
  },
  {
   "cell_type": "code",
   "execution_count": null,
   "id": "e41cfacd",
   "metadata": {},
   "outputs": [],
   "source": [
    "print(text)\n",
    "len(text) #lenght of text "
   ]
  },
  {
   "cell_type": "code",
   "execution_count": null,
   "id": "a608b71f",
   "metadata": {},
   "outputs": [],
   "source": [
    "#Join string\n",
    "lst_str = [\"1.first\", \"2.Second\",\"3.Third\"] #init list of string\n",
    "# print all the string in the list\n",
    "print(\" \".join(lst_str))"
   ]
  },
  {
   "cell_type": "code",
   "execution_count": null,
   "id": "a62f9898",
   "metadata": {},
   "outputs": [],
   "source": [
    "print(\"\\n\".join(lst_str))"
   ]
  },
  {
   "cell_type": "code",
   "execution_count": null,
   "id": "3e0069cf",
   "metadata": {},
   "outputs": [],
   "source": [
    "print(\", \".join(lst_str))"
   ]
  },
  {
   "cell_type": "code",
   "execution_count": null,
   "id": "09b22259",
   "metadata": {},
   "outputs": [],
   "source": [
    "#Slding - indexing\n",
    "String_idx = \"MyNameIsRun\"\n",
    "for index in range(len(String_idx)):\n",
    "    print(f\"{index} : {String_idx[index]}\")"
   ]
  },
  {
   "cell_type": "code",
   "execution_count": null,
   "id": "f9fcd0e9",
   "metadata": {},
   "outputs": [],
   "source": [
    "String_idx[8:]"
   ]
  },
  {
   "cell_type": "code",
   "execution_count": null,
   "id": "928629b7",
   "metadata": {},
   "outputs": [],
   "source": [
    "String_idx[8:]"
   ]
  },
  {
   "cell_type": "code",
   "execution_count": null,
   "id": "be84074a",
   "metadata": {},
   "outputs": [],
   "source": [
    "# start -> start + 1\n",
    "String_idx[2:8]"
   ]
  },
  {
   "cell_type": "code",
   "execution_count": null,
   "id": "3e43fb41",
   "metadata": {},
   "outputs": [],
   "source": [
    "reversed_string = String_idx[::-1] #also can use with list \n",
    "reversed_string"
   ]
  },
  {
   "cell_type": "code",
   "execution_count": 1,
   "id": "ed795b5b",
   "metadata": {},
   "outputs": [
    {
     "name": "stdout",
     "output_type": "stream",
     "text": [
      "[1, 2, 3, 4, 5, 6, 7]\n",
      "[7, 6, 5, 4, 3, 2, 1]\n"
     ]
    }
   ],
   "source": [
    "lst = [1,2,3,4,5,6,7]\n",
    "print(lst)\n",
    "print(lst[::-1])"
   ]
  },
  {
   "cell_type": "code",
   "execution_count": null,
   "id": "4b9a7887",
   "metadata": {},
   "outputs": [],
   "source": [
    "print(String_idx)\n",
    "print(String_idx.replace(\"Run\",\"Frank\"))\n",
    "print(String_idx.replace(\"Run.\",\"Frank\"))"
   ]
  },
  {
   "cell_type": "code",
   "execution_count": null,
   "id": "c31eb9b4",
   "metadata": {},
   "outputs": [],
   "source": [
    "print(\"dsad dsadasdd dsda\".replace(\" \",\"\"))"
   ]
  },
  {
   "cell_type": "code",
   "execution_count": null,
   "id": "aeb96dbd",
   "metadata": {},
   "outputs": [],
   "source": [
    "# for loop with text \n",
    "# concept like for loop in list but each value represent charactor \n",
    "\n",
    "for char in \"Hello world\":\n",
    "    print(char)"
   ]
  },
  {
   "cell_type": "code",
   "execution_count": null,
   "id": "5c9b844b",
   "metadata": {},
   "outputs": [],
   "source": [
    "Charactor_operation = String_idx[5]\n",
    "Charactor_operation"
   ]
  },
  {
   "cell_type": "code",
   "execution_count": null,
   "id": "65408e48",
   "metadata": {},
   "outputs": [],
   "source": [
    "print(Charactor_operation.isalpha()) #\talphanumeric\n",
    "print(Charactor_operation.isalnum()) #alphabet\n",
    "print(Charactor_operation.isdecimal()) #decimals\n",
    "print(Charactor_operation.isdigit()) #is number\n",
    "print(Charactor_operation.islower()) #lower case \n",
    "print(Charactor_operation.isupper()) #upper case\n",
    "print(Charactor_operation.isnumeric()) #numeric\n",
    "print(Charactor_operation.isspace()) #space \n",
    "print(Charactor_operation.istitle()) \n",
    "print(Charactor_operation.isascii())#characters\n",
    "print(Charactor_operation.isidentifier())"
   ]
  },
  {
   "cell_type": "code",
   "execution_count": null,
   "id": "5694558f",
   "metadata": {},
   "outputs": [],
   "source": [
    "Charactor_operation.upper()\n",
    "Charactor_operation.lower()\n",
    "\n",
    "Charactor_operation.startswith(\"2\")\n",
    "Charactor_operation.endswith(\"e\")"
   ]
  },
  {
   "cell_type": "code",
   "execution_count": null,
   "id": "565a086e",
   "metadata": {},
   "outputs": [],
   "source": [
    "# stirng * int \n",
    "\"Hello\" * 10 #repeat 'Hello' 10 time"
   ]
  },
  {
   "cell_type": "code",
   "execution_count": null,
   "id": "9cbf4a6e",
   "metadata": {},
   "outputs": [],
   "source": [
    "text = 'Im Frank, Run, P, J'\n",
    "text.split(\",\")"
   ]
  },
  {
   "cell_type": "code",
   "execution_count": null,
   "id": "e0b96fee",
   "metadata": {},
   "outputs": [],
   "source": [
    "text.strip()\n",
    "# remove beginning and ending space "
   ]
  },
  {
   "cell_type": "markdown",
   "id": "1b1383c3",
   "metadata": {},
   "source": [
    "#### List"
   ]
  },
  {
   "cell_type": "markdown",
   "id": "a366a72c",
   "metadata": {},
   "source": [
    "# list\n",
    "list_01 = [] #create empty list\n",
    "list_01 "
   ]
  },
  {
   "cell_type": "code",
   "execution_count": null,
   "id": "2261938f",
   "metadata": {},
   "outputs": [],
   "source": [
    "list_01 = list()\n",
    "list_01"
   ]
  },
  {
   "cell_type": "code",
   "execution_count": null,
   "id": "9419d1bb",
   "metadata": {},
   "outputs": [],
   "source": [
    "# list\n",
    "list_02 = [1,2,3,4] #create list with value inside\n",
    "list_02 "
   ]
  },
  {
   "cell_type": "code",
   "execution_count": null,
   "id": "84094c45",
   "metadata": {},
   "outputs": [],
   "source": [
    "list_01 = [] #create empty list\n",
    "print(list_01 )\n",
    "list_01.append(\"Hello\")\n",
    "list_01"
   ]
  },
  {
   "cell_type": "code",
   "execution_count": null,
   "id": "6b260ca9",
   "metadata": {},
   "outputs": [],
   "source": [
    "list_01.append(\"World\")\n",
    "list_01"
   ]
  },
  {
   "cell_type": "code",
   "execution_count": null,
   "id": "bd80abc2",
   "metadata": {},
   "outputs": [],
   "source": [
    "# remove the default : recent value - last value \n",
    "# remove with index\n",
    "list_01.pop()"
   ]
  },
  {
   "cell_type": "code",
   "execution_count": null,
   "id": "f695ba5b",
   "metadata": {},
   "outputs": [],
   "source": [
    "list_01"
   ]
  },
  {
   "cell_type": "code",
   "execution_count": null,
   "id": "194451d8",
   "metadata": {},
   "outputs": [],
   "source": [
    "#remove value with specific value\n",
    "list_01.remove(\"Hello\")"
   ]
  },
  {
   "cell_type": "code",
   "execution_count": null,
   "id": "d918cfa4",
   "metadata": {},
   "outputs": [],
   "source": [
    "list_01"
   ]
  },
  {
   "cell_type": "code",
   "execution_count": null,
   "id": "945683e0",
   "metadata": {},
   "outputs": [],
   "source": [
    "#list index\n",
    "list_02 = [6,6,8,1,5]\n",
    "list_02"
   ]
  },
  {
   "cell_type": "code",
   "execution_count": null,
   "id": "e146b95d",
   "metadata": {},
   "outputs": [],
   "source": [
    "list_02[2]"
   ]
  },
  {
   "cell_type": "code",
   "execution_count": null,
   "id": "4760c892",
   "metadata": {},
   "outputs": [],
   "source": [
    "len(list_02)"
   ]
  },
  {
   "cell_type": "code",
   "execution_count": null,
   "id": "f34db668",
   "metadata": {},
   "outputs": [],
   "source": [
    "# if call the index that is 5\n",
    "list_02[5] #out of range"
   ]
  },
  {
   "cell_type": "code",
   "execution_count": null,
   "id": "9bc61ea6",
   "metadata": {},
   "outputs": [],
   "source": [
    "list_02.append(10)\n",
    "list_02[5] "
   ]
  },
  {
   "cell_type": "code",
   "execution_count": 3,
   "id": "16faddf9",
   "metadata": {},
   "outputs": [],
   "source": [
    "#join 2 list \n",
    "list_01 = [1,2,3,4]\n",
    "list_02 = [5,6,7,8]"
   ]
  },
  {
   "cell_type": "code",
   "execution_count": 4,
   "id": "14c31dbb",
   "metadata": {},
   "outputs": [
    {
     "data": {
      "text/plain": [
       "[1, 2, 3, 4, 5, 6, 7, 8]"
      ]
     },
     "execution_count": 4,
     "metadata": {},
     "output_type": "execute_result"
    }
   ],
   "source": [
    "list_01 + list_02"
   ]
  },
  {
   "cell_type": "code",
   "execution_count": 5,
   "id": "a7e6fd23",
   "metadata": {},
   "outputs": [
    {
     "ename": "TypeError",
     "evalue": "unsupported operand type(s) for -: 'list' and 'list'",
     "output_type": "error",
     "traceback": [
      "\u001b[0;31m---------------------------------------------------------------------------\u001b[0m",
      "\u001b[0;31mTypeError\u001b[0m                                 Traceback (most recent call last)",
      "Cell \u001b[0;32mIn[5], line 1\u001b[0m\n\u001b[0;32m----> 1\u001b[0m \u001b[43mlist_01\u001b[49m\u001b[43m \u001b[49m\u001b[38;5;241;43m-\u001b[39;49m\u001b[43m \u001b[49m\u001b[43mlist_02\u001b[49m\n",
      "\u001b[0;31mTypeError\u001b[0m: unsupported operand type(s) for -: 'list' and 'list'"
     ]
    }
   ],
   "source": [
    "list_01 - list_02"
   ]
  },
  {
   "cell_type": "markdown",
   "id": "81587931",
   "metadata": {},
   "source": [
    "#### Tuple "
   ]
  },
  {
   "cell_type": "code",
   "execution_count": null,
   "id": "de148d88",
   "metadata": {},
   "outputs": [],
   "source": [
    "#  same as dict but it's inmutable \n",
    "tuple_01 = (1,2,3,4) \n",
    "\n",
    "#for me not often use "
   ]
  }
 ],
 "metadata": {
  "kernelspec": {
   "display_name": "base3.10",
   "language": "python",
   "name": "python3"
  },
  "language_info": {
   "codemirror_mode": {
    "name": "ipython",
    "version": 3
   },
   "file_extension": ".py",
   "mimetype": "text/x-python",
   "name": "python",
   "nbconvert_exporter": "python",
   "pygments_lexer": "ipython3",
   "version": "3.10.16"
  }
 },
 "nbformat": 4,
 "nbformat_minor": 5
}
