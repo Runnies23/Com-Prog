{
 "cells": [
  {
   "cell_type": "markdown",
   "id": "89793859",
   "metadata": {},
   "source": [
    "### Basic Python Print"
   ]
  },
  {
   "cell_type": "code",
   "execution_count": 8,
   "id": "14d326a1",
   "metadata": {},
   "outputs": [
    {
     "name": "stdout",
     "output_type": "stream",
     "text": [
      "Hello world\n"
     ]
    }
   ],
   "source": [
    "#Print \n",
    "print(\"Hello world\")"
   ]
  },
  {
   "cell_type": "code",
   "execution_count": 9,
   "id": "afb2f51e",
   "metadata": {},
   "outputs": [
    {
     "name": "stdout",
     "output_type": "stream",
     "text": [
      "Hello World\n",
      "Hello World Run\n"
     ]
    }
   ],
   "source": [
    "print(\"Hello\", \"World\")\n",
    "print(\"Hello\", \"World\", \"Run\") "
   ]
  },
  {
   "cell_type": "code",
   "execution_count": 10,
   "id": "4944d469",
   "metadata": {},
   "outputs": [
    {
     "name": "stdout",
     "output_type": "stream",
     "text": [
      "HelloHello\n",
      "Hello\tHello"
     ]
    }
   ],
   "source": [
    "print(\"Hello\",end=\"\")\n",
    "print(\"Hello\",end=\"\\n\")\n",
    "print(\"Hello\",end=\"\\t\")\n",
    "print(\"Hello\",end=\"\")"
   ]
  },
  {
   "cell_type": "code",
   "execution_count": 11,
   "id": "203c12fd",
   "metadata": {},
   "outputs": [
    {
     "name": "stdout",
     "output_type": "stream",
     "text": [
      "Helloworld\n",
      "Hellworld\n"
     ]
    }
   ],
   "source": [
    "print(\"Helloworld\") #using double quote \n",
    "print('Hellworld') #using single quote"
   ]
  },
  {
   "cell_type": "code",
   "execution_count": 12,
   "id": "04726b1c",
   "metadata": {},
   "outputs": [
    {
     "name": "stdout",
     "output_type": "stream",
     "text": [
      "Hello, \\/\\/KU68\\/\\/\n",
      "Hello, \\/\\/KU68\\/\\/\n"
     ]
    }
   ],
   "source": [
    "# raws string -> special type of string that allows you to include backslashes\n",
    "\n",
    "print(\"Hello, \\\\/\\\\/KU68\\\\/\\\\/\")\n",
    "print(r\"Hello, \\/\\/KU68\\/\\/\")"
   ]
  },
  {
   "cell_type": "markdown",
   "id": "83ebc322",
   "metadata": {},
   "source": [
    "#### Escape sequence"
   ]
  },
  {
   "cell_type": "code",
   "execution_count": null,
   "id": "93027318",
   "metadata": {},
   "outputs": [],
   "source": [
    "print(\"\\\")\n",
    "print(\"/\")"
   ]
  },
  {
   "cell_type": "code",
   "execution_count": 13,
   "id": "507d2ab9",
   "metadata": {},
   "outputs": [
    {
     "name": "stdout",
     "output_type": "stream",
     "text": [
      "\\\n"
     ]
    }
   ],
   "source": [
    "print(\"\\\\\")"
   ]
  },
  {
   "cell_type": "code",
   "execution_count": 14,
   "id": "dd88e611",
   "metadata": {},
   "outputs": [
    {
     "name": "stdout",
     "output_type": "stream",
     "text": [
      "\\\n",
      "'\n",
      "\"\n",
      "\n",
      "\n",
      "\t\n"
     ]
    }
   ],
   "source": [
    "print(\"\\\\\")\n",
    "print(\"\\'\")\n",
    "print(\"\\\"\")\n",
    "print(\"\\n\")\n",
    "print(\"\\t\")\n"
   ]
  },
  {
   "cell_type": "code",
   "execution_count": 15,
   "id": "d8eb6c84",
   "metadata": {},
   "outputs": [
    {
     "name": "stdout",
     "output_type": "stream",
     "text": [
      "Hello my name is Run\n"
     ]
    }
   ],
   "source": [
    "# Format string \n",
    "# formats the specified value(s) and insert them inside the string's placeholder. \n",
    "\n",
    "name = 'Run'\n",
    "print(f\"Hello my name is {name}\")"
   ]
  },
  {
   "cell_type": "code",
   "execution_count": 16,
   "id": "30aa6bbd",
   "metadata": {},
   "outputs": [
    {
     "name": "stdout",
     "output_type": "stream",
     "text": [
      "Hello my name is Run\n"
     ]
    }
   ],
   "source": [
    "print(\"Hello my name is\", name)"
   ]
  },
  {
   "cell_type": "code",
   "execution_count": 17,
   "id": "24b7eb67",
   "metadata": {},
   "outputs": [
    {
     "name": "stdout",
     "output_type": "stream",
     "text": [
      "Pi value is 3.141592\n",
      "Pi value is 3.14\n",
      "Pi value is  12\n",
      "Pi value is 012\n",
      "|Arthur              |\n",
      "|       Arthur       |\n",
      "|              Arthur|\n"
     ]
    }
   ],
   "source": [
    "pi = 3.141592\n",
    "print(f\"Pi value is {pi}\")\n",
    "print(f\"Pi value is {pi:.2f}\") #ปัดทศนิยมตามหลักเลขนัย \n",
    "\n",
    "\n",
    "smth_val = 12\n",
    "print(f\"Pi value is {smth_val:3d}\")\n",
    "print(f\"Pi value is {smth_val:03d}\")\n",
    "\n",
    "name = \"Arthur\"\n",
    "print(f\"|{name:<20}|\")\n",
    "print(f\"|{name:^20}|\")\n",
    "print(f\"|{name:>20}|\")"
   ]
  },
  {
   "cell_type": "code",
   "execution_count": 18,
   "id": "858f03c3",
   "metadata": {},
   "outputs": [
    {
     "name": "stdout",
     "output_type": "stream",
     "text": [
      "Pi value is |        3.14        |\n"
     ]
    }
   ],
   "source": [
    "print(f\"Pi value is |{pi:^20.2f}|\")"
   ]
  },
  {
   "cell_type": "markdown",
   "id": "8a3d43c5",
   "metadata": {},
   "source": [
    "#### Input "
   ]
  },
  {
   "cell_type": "code",
   "execution_count": 19,
   "id": "6237eac7",
   "metadata": {},
   "outputs": [],
   "source": [
    "a = input() #base value is on base 10 charactor "
   ]
  },
  {
   "cell_type": "code",
   "execution_count": null,
   "id": "fe321a6e",
   "metadata": {},
   "outputs": [],
   "source": [
    "a = input(\"Some text for descript the input\")\n",
    "type(a)"
   ]
  },
  {
   "cell_type": "code",
   "execution_count": null,
   "id": "b61ab115",
   "metadata": {},
   "outputs": [],
   "source": [
    "radius = int(input(\"Radius of circle\")) #turn base 10 into int - number\n",
    "type(radius)"
   ]
  },
  {
   "cell_type": "markdown",
   "id": "7df7963d",
   "metadata": {},
   "source": [
    "#### Init valuable\n",
    "1. ต้องขึ้นต้นด้วยตัวอักษร A-Z, a-z หรือเครื่องหมาย _ (Underscore) เท่านั้น \n",
    "2. ภายในชื่อตัวแปรสามารถใช้ตัวอักษร A-Z, a-z, 0-9 หรือเครื่องหมาย  _ (Underscore)\n",
    "3. ภายในชื่อห้ามเว้นช่องว่างหรืออักษรพิเศษ \n",
    "4. Case Sensititive – ตัวอักษรพิมพ์ใหญ่และพิมพ์เล็กจะมีความหมายต่างกัน \n",
    "Ex. HEllO != HELLO\n",
    "5. คำที่เป็น command ของ python : if else False True or while for with class list "
   ]
  },
  {
   "cell_type": "code",
   "execution_count": 20,
   "id": "a857f036",
   "metadata": {},
   "outputs": [
    {
     "data": {
      "text/plain": [
       "(123, 3)"
      ]
     },
     "execution_count": 20,
     "metadata": {},
     "output_type": "execute_result"
    }
   ],
   "source": [
    "A = 123\n",
    "a = 3\n",
    "A, a  # 4 case sensitive"
   ]
  },
  {
   "cell_type": "code",
   "execution_count": null,
   "id": "518db891",
   "metadata": {},
   "outputs": [],
   "source": [
    "1B = 5 #valuable ขึ้นต้นด้วยตัวเลขไม่ได้\n",
    "hello world = \"dsad\"\n",
    "Hello()wor = 123\n",
    "Myname-is-run = 'Runnies'\n",
    "if = 5 #value เป็น command python mai dai"
   ]
  },
  {
   "cell_type": "markdown",
   "id": "d1e38d67",
   "metadata": {},
   "source": [
    "#### Data Type \n",
    "1. Int (inmutable)\n",
    "2. Float (inmutable)\n",
    "3. String (inmutable)\n",
    "4. List (mutable)\n",
    "5. Tuple (inmutable)\n",
    "6. Dict (mutable)\n",
    "7. Sets (mutable)\n",
    "8. Boolean (inmutable)"
   ]
  },
  {
   "cell_type": "code",
   "execution_count": 21,
   "id": "74588da8",
   "metadata": {},
   "outputs": [
    {
     "data": {
      "text/plain": [
       "float"
      ]
     },
     "execution_count": 21,
     "metadata": {},
     "output_type": "execute_result"
    }
   ],
   "source": [
    "x = 3.13\n",
    "type(x) #check the type of valueable"
   ]
  },
  {
   "cell_type": "code",
   "execution_count": 22,
   "id": "f4d7d91d",
   "metadata": {},
   "outputs": [
    {
     "data": {
      "text/plain": [
       "float"
      ]
     },
     "execution_count": 22,
     "metadata": {},
     "output_type": "execute_result"
    }
   ],
   "source": [
    "type(3.13) #check the type of valueable"
   ]
  },
  {
   "cell_type": "code",
   "execution_count": 23,
   "id": "b277bfb0",
   "metadata": {},
   "outputs": [
    {
     "name": "stdout",
     "output_type": "stream",
     "text": [
      "3.14\n",
      "3\n"
     ]
    }
   ],
   "source": [
    "x = 3.14\n",
    "print(x) #3.14 \n",
    "print(int(x)) #turn into int -> not have decimal "
   ]
  },
  {
   "cell_type": "code",
   "execution_count": 24,
   "id": "b2ff57d7",
   "metadata": {},
   "outputs": [
    {
     "data": {
      "text/plain": [
       "list"
      ]
     },
     "execution_count": 24,
     "metadata": {},
     "output_type": "execute_result"
    }
   ],
   "source": [
    "type([1,2,3,4])"
   ]
  },
  {
   "cell_type": "markdown",
   "id": "312d2721",
   "metadata": {},
   "source": [
    "#### Archimetric"
   ]
  },
  {
   "cell_type": "code",
   "execution_count": 25,
   "id": "f7eae9ef",
   "metadata": {},
   "outputs": [
    {
     "name": "stdout",
     "output_type": "stream",
     "text": [
      "10\n",
      "1\n",
      "60\n",
      "32\n",
      "3.0\n",
      "2\n",
      "2\n",
      "12\n"
     ]
    }
   ],
   "source": [
    "# + - * / \n",
    "print(5+5)\n",
    "print(6-5)\n",
    "print(12*5)\n",
    "print(2**5)\n",
    "print(12/4) \n",
    "print(12 // 5)\n",
    "print(12 % 5)\n",
    "print( (10 - 4) * 2)"
   ]
  },
  {
   "cell_type": "code",
   "execution_count": 26,
   "id": "5049b37d",
   "metadata": {},
   "outputs": [
    {
     "data": {
      "text/plain": [
       "256"
      ]
     },
     "execution_count": 26,
     "metadata": {},
     "output_type": "execute_result"
    }
   ],
   "source": [
    "2 ** 2 ** 3 #exponential order from right to left "
   ]
  },
  {
   "cell_type": "code",
   "execution_count": 27,
   "id": "ebf27ca7",
   "metadata": {},
   "outputs": [
    {
     "name": "stdout",
     "output_type": "stream",
     "text": [
      "256\n",
      "64\n"
     ]
    }
   ],
   "source": [
    "print(2 ** (2 ** 3))\n",
    "print((2 ** 2) ** 3 )"
   ]
  },
  {
   "cell_type": "markdown",
   "id": "f1f1b7bf",
   "metadata": {},
   "source": [
    "##### Reference Value (mutable vs inmutable)"
   ]
  },
  {
   "cell_type": "code",
   "execution_count": null,
   "id": "40379995",
   "metadata": {},
   "outputs": [],
   "source": [
    "# Python, integers are immutable\n",
    "# If you want x and y to share the same mutable value (like a list, dict, set)"
   ]
  },
  {
   "cell_type": "code",
   "execution_count": 28,
   "id": "f199ee31",
   "metadata": {},
   "outputs": [
    {
     "data": {
      "text/plain": [
       "(11, 10)"
      ]
     },
     "execution_count": 28,
     "metadata": {},
     "output_type": "execute_result"
    }
   ],
   "source": [
    "# integer (inmutable)\n",
    "x = 10 \n",
    "y = x \n",
    "x += 1 \n",
    "x, y"
   ]
  },
  {
   "cell_type": "code",
   "execution_count": 29,
   "id": "1f7f89b6",
   "metadata": {},
   "outputs": [
    {
     "data": {
      "text/plain": [
       "([11], [11])"
      ]
     },
     "execution_count": 29,
     "metadata": {},
     "output_type": "execute_result"
    }
   ],
   "source": [
    "x = [10] #mutable \n",
    "y = x\n",
    "x[0] += 1 \n",
    "x, y"
   ]
  },
  {
   "cell_type": "code",
   "execution_count": null,
   "id": "034ece9c",
   "metadata": {},
   "outputs": [],
   "source": []
  },
  {
   "cell_type": "code",
   "execution_count": null,
   "id": "a1d70c4d",
   "metadata": {},
   "outputs": [],
   "source": []
  },
  {
   "cell_type": "code",
   "execution_count": 6,
   "id": "e00cf1c0",
   "metadata": {},
   "outputs": [
    {
     "data": {
      "text/plain": [
       "3"
      ]
     },
     "execution_count": 6,
     "metadata": {},
     "output_type": "execute_result"
    }
   ],
   "source": [
    "3 % 5"
   ]
  },
  {
   "cell_type": "code",
   "execution_count": 7,
   "id": "17e86aa3",
   "metadata": {},
   "outputs": [
    {
     "data": {
      "text/plain": [
       "1"
      ]
     },
     "execution_count": 7,
     "metadata": {},
     "output_type": "execute_result"
    }
   ],
   "source": [
    " 10 // 3 % 5 // 2"
   ]
  },
  {
   "cell_type": "code",
   "execution_count": 4,
   "id": "b04ce6a3",
   "metadata": {},
   "outputs": [
    {
     "data": {
      "text/plain": [
       "3"
      ]
     },
     "execution_count": 4,
     "metadata": {},
     "output_type": "execute_result"
    }
   ],
   "source": [
    "10 //3"
   ]
  },
  {
   "cell_type": "code",
   "execution_count": 3,
   "id": "484ea919",
   "metadata": {},
   "outputs": [
    {
     "data": {
      "text/plain": [
       "2"
      ]
     },
     "execution_count": 3,
     "metadata": {},
     "output_type": "execute_result"
    }
   ],
   "source": [
    "5 // 2"
   ]
  },
  {
   "cell_type": "code",
   "execution_count": null,
   "id": "fe8441d2",
   "metadata": {},
   "outputs": [],
   "source": []
  }
 ],
 "metadata": {
  "kernelspec": {
   "display_name": "base3.10",
   "language": "python",
   "name": "python3"
  },
  "language_info": {
   "codemirror_mode": {
    "name": "ipython",
    "version": 3
   },
   "file_extension": ".py",
   "mimetype": "text/x-python",
   "name": "python",
   "nbconvert_exporter": "python",
   "pygments_lexer": "ipython3",
   "version": "3.10.16"
  }
 },
 "nbformat": 4,
 "nbformat_minor": 5
}
