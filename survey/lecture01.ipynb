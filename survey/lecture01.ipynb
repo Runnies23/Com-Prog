{
 "cells": [
  {
   "cell_type": "markdown",
   "id": "89793859",
   "metadata": {},
   "source": [
    "### Basic Python Print"
   ]
  },
  {
   "cell_type": "code",
   "execution_count": null,
   "id": "14d326a1",
   "metadata": {},
   "outputs": [],
   "source": [
    "#Print \n",
    "print(\"Hello world\")"
   ]
  },
  {
   "cell_type": "code",
   "execution_count": null,
   "id": "afb2f51e",
   "metadata": {},
   "outputs": [],
   "source": [
    "print(\"Hello\", \"World\")\n",
    "print(\"Hello\", \"World\", \"Run\")"
   ]
  },
  {
   "cell_type": "code",
   "execution_count": null,
   "id": "4944d469",
   "metadata": {},
   "outputs": [],
   "source": [
    "print(\"Hello\",end=\"\")\n",
    "print(\"Hello\",end=\"\\n\")\n",
    "print(\"Hello\",end=\"\\t\")\n",
    "print(\"Hello\",end=\"\")"
   ]
  },
  {
   "cell_type": "code",
   "execution_count": null,
   "id": "203c12fd",
   "metadata": {},
   "outputs": [],
   "source": [
    "print(\"Helloworld\") #using double quote \n",
    "print('Hellworld') #using single quote"
   ]
  },
  {
   "cell_type": "markdown",
   "id": "83ebc322",
   "metadata": {},
   "source": [
    "#### Escape sequence "
   ]
  },
  {
   "cell_type": "code",
   "execution_count": 2,
   "id": "93027318",
   "metadata": {},
   "outputs": [
    {
     "name": "stdout",
     "output_type": "stream",
     "text": [
      "/\n"
     ]
    }
   ],
   "source": [
    "print(\"\\\")\n"
   ]
  },
  {
   "cell_type": "code",
   "execution_count": null,
   "id": "507d2ab9",
   "metadata": {},
   "outputs": [],
   "source": [
    "print(\"\\\\\")\n",
    "print(\"\\'\")\n",
    "print(\"\\\"\")\n",
    "print(\"\\n\")\n",
    "print(\"\\t\")\n"
   ]
  },
  {
   "cell_type": "markdown",
   "id": "bb7b75e8",
   "metadata": {},
   "source": [
    "#### Input"
   ]
  },
  {
   "cell_type": "code",
   "execution_count": null,
   "id": "6e466dde",
   "metadata": {},
   "outputs": [],
   "source": [
    "a = input() #base value is on base 10 charactor "
   ]
  },
  {
   "cell_type": "code",
   "execution_count": null,
   "id": "b26ed2b6",
   "metadata": {},
   "outputs": [],
   "source": [
    "a = input(\"Some text for descript the input\")\n",
    "type(a)"
   ]
  },
  {
   "cell_type": "code",
   "execution_count": null,
   "id": "0decf308",
   "metadata": {},
   "outputs": [],
   "source": [
    "radius = int(input(\"Radius of circle\")) #turn base 10 into int - number\n",
    "type(radius)"
   ]
  },
  {
   "cell_type": "markdown",
   "id": "f0b9f298",
   "metadata": {},
   "source": [
    "#### Init valuable\n",
    "1. ต้องขึ้นต้นด้วยตัวอักษร A-Z, a-z หรือเครื่องหมาย _ (Underscore) เท่านั้น \n",
    "2. ภายในชื่อตัวแปรสามารถใช้ตัวอักษร A-Z, a-z, 0-9 หรือเครื่องหมาย  _ (Underscore)\n",
    "3. ภายในชื่อห้ามเว้นช่องว่างหรืออักษรพิเศษ \n",
    "4. Case Sensititive – ตัวอักษรพิมพ์ใหญ่และพิมพ์เล็กจะมีความหมายต่างกัน \n",
    "Ex. HEllO != HELLO\n",
    "5. คำที่เป็น command ของ python : if else False True or while for with class list "
   ]
  },
  {
   "cell_type": "code",
   "execution_count": null,
   "id": "dd88e611",
   "metadata": {},
   "outputs": [],
   "source": [
    "A = 123\n",
    "a = 3\n",
    "A, a  # 4 case sensitive"
   ]
  },
  {
   "cell_type": "code",
   "execution_count": null,
   "id": "42d80192",
   "metadata": {},
   "outputs": [],
   "source": [
    "1B = 5 #valuable ขึ้นต้นด้วยตัวเลขไม่ได้\n",
    "hello world = \"dsad\"\n",
    "Hello()wor = 123\n",
    "Myname-is-run = 'Runnies'\n",
    "if = 5 #value เป็น command python mai dai"
   ]
  },
  {
   "cell_type": "markdown",
   "id": "0ea24bcb",
   "metadata": {},
   "source": [
    "#### Data Type \n",
    "1. Int \n",
    "2. Float\n",
    "3. String\n",
    "4. List\n",
    "5. Tuple\n",
    "6. Dict \n",
    "7. Sets"
   ]
  },
  {
   "cell_type": "code",
   "execution_count": 3,
   "id": "3399dd22",
   "metadata": {},
   "outputs": [
    {
     "data": {
      "text/plain": [
       "float"
      ]
     },
     "execution_count": 3,
     "metadata": {},
     "output_type": "execute_result"
    }
   ],
   "source": [
    "x = 3.13\n",
    "type(x) #check the type of valueable"
   ]
  },
  {
   "cell_type": "code",
   "execution_count": 4,
   "id": "3f2911dc",
   "metadata": {},
   "outputs": [
    {
     "data": {
      "text/plain": [
       "float"
      ]
     },
     "execution_count": 4,
     "metadata": {},
     "output_type": "execute_result"
    }
   ],
   "source": [
    "type(3.13) #check the type of valueable"
   ]
  },
  {
   "cell_type": "code",
   "execution_count": null,
   "id": "4877ff48",
   "metadata": {},
   "outputs": [],
   "source": [
    "x = 3.14\n",
    "print(x) #3.14 \n",
    "print(int(x)) #turn into int -> not have decimal "
   ]
  },
  {
   "cell_type": "code",
   "execution_count": 5,
   "id": "1f2d304e",
   "metadata": {},
   "outputs": [
    {
     "data": {
      "text/plain": [
       "list"
      ]
     },
     "execution_count": 5,
     "metadata": {},
     "output_type": "execute_result"
    }
   ],
   "source": [
    "type([1,2,3,4])"
   ]
  },
  {
   "cell_type": "markdown",
   "id": "aa1f1acf",
   "metadata": {},
   "source": [
    "#### Archimetric"
   ]
  },
  {
   "cell_type": "code",
   "execution_count": null,
   "id": "ef750937",
   "metadata": {},
   "outputs": [],
   "source": [
    "+ - * / "
   ]
  },
  {
   "cell_type": "code",
   "execution_count": null,
   "id": "442eb328",
   "metadata": {},
   "outputs": [],
   "source": [
    "print(5+5)\n",
    "print(6-5)\n",
    "print(12*5)\n",
    "print(2**5)\n",
    "print(12/4) \n",
    "print(12 // 5)\n",
    "print(12 % 5)\n",
    "print( (10 - 4) * 2)"
   ]
  },
  {
   "cell_type": "code",
   "execution_count": null,
   "id": "2ffa316a",
   "metadata": {},
   "outputs": [
    {
     "data": {
      "text/plain": [
       "256"
      ]
     },
     "execution_count": 6,
     "metadata": {},
     "output_type": "execute_result"
    }
   ],
   "source": [
    "2 ** 2 ** 3 #exponential order from right to left "
   ]
  },
  {
   "cell_type": "code",
   "execution_count": null,
   "id": "fb4a0f74",
   "metadata": {},
   "outputs": [
    {
     "data": {
      "text/plain": [
       "256"
      ]
     },
     "execution_count": 7,
     "metadata": {},
     "output_type": "execute_result"
    }
   ],
   "source": [
    "print(2 ** (2 ** 3))\n",
    "print((2 ** 2) ** 3 )"
   ]
  },
  {
   "cell_type": "markdown",
   "id": "f685279c",
   "metadata": {},
   "source": [
    "#### Reference Value "
   ]
  },
  {
   "cell_type": "code",
   "execution_count": null,
   "id": "0a68ee16",
   "metadata": {},
   "outputs": [],
   "source": []
  },
  {
   "cell_type": "code",
   "execution_count": null,
   "id": "d6781861",
   "metadata": {},
   "outputs": [],
   "source": []
  },
  {
   "cell_type": "code",
   "execution_count": null,
   "id": "ebadffde",
   "metadata": {},
   "outputs": [],
   "source": []
  },
  {
   "cell_type": "code",
   "execution_count": null,
   "id": "673a40c6",
   "metadata": {},
   "outputs": [],
   "source": []
  },
  {
   "cell_type": "code",
   "execution_count": null,
   "id": "3d03353c",
   "metadata": {},
   "outputs": [],
   "source": []
  },
  {
   "cell_type": "code",
   "execution_count": null,
   "id": "bcdb3a4c",
   "metadata": {},
   "outputs": [],
   "source": [
    "# Reference value \n",
    "# Mention to bug fix\n",
    "# Error \n",
    "# turtle"
   ]
  },
  {
   "cell_type": "code",
   "execution_count": null,
   "id": "219da120",
   "metadata": {},
   "outputs": [],
   "source": []
  },
  {
   "cell_type": "code",
   "execution_count": null,
   "id": "32d66ca0",
   "metadata": {},
   "outputs": [],
   "source": []
  }
 ],
 "metadata": {
  "kernelspec": {
   "display_name": "base3.10",
   "language": "python",
   "name": "python3"
  },
  "language_info": {
   "codemirror_mode": {
    "name": "ipython",
    "version": 3
   },
   "file_extension": ".py",
   "mimetype": "text/x-python",
   "name": "python",
   "nbconvert_exporter": "python",
   "pygments_lexer": "ipython3",
   "version": "3.10.16"
  }
 },
 "nbformat": 4,
 "nbformat_minor": 5
}
