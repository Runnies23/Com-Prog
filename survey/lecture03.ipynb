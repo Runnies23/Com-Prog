{
 "cells": [
  {
   "cell_type": "markdown",
   "id": "0734810b",
   "metadata": {},
   "source": [
    "### Function"
   ]
  },
  {
   "cell_type": "code",
   "execution_count": null,
   "id": "2477ca57",
   "metadata": {},
   "outputs": [],
   "source": [
    "# function is Ablockofcodethatperformsaspecifictask\n",
    "# PEP 8 Format\n",
    "# component \n",
    "# def func_name paramter return : set the keyword, type, default\n",
    "\n",
    "#benefit of function\n",
    "# Recursion Pro con \n",
    "# factorial\n",
    "\n",
    "#lambda \n",
    "\n",
    "#global value \n",
    "# Nonlocal value \n",
    "# Changing global variable inside a function"
   ]
  },
  {
   "cell_type": "code",
   "execution_count": null,
   "id": "6daf9d07",
   "metadata": {},
   "outputs": [],
   "source": []
  },
  {
   "cell_type": "code",
   "execution_count": null,
   "id": "c83a26d2",
   "metadata": {},
   "outputs": [],
   "source": []
  }
 ],
 "metadata": {
  "language_info": {
   "name": "python"
  }
 },
 "nbformat": 4,
 "nbformat_minor": 5
}
