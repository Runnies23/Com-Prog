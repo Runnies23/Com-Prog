{
 "cells": [
  {
   "cell_type": "markdown",
   "id": "0734810b",
   "metadata": {},
   "source": [
    "### Function"
   ]
  },
  {
   "cell_type": "code",
   "execution_count": null,
   "id": "2477ca57",
   "metadata": {},
   "outputs": [],
   "source": [
    "# function is A block of code that performs as pecific task\n",
    "# PEP 8 Format\n",
    "# component \n",
    "# def func_name paramter return : set the keyword, type, default\n",
    "\n",
    "#benefit of function\n",
    "# Recursion Pro con \n",
    "# factorial\n",
    "\n",
    "#lambda \n",
    "\n",
    "#global value \n",
    "# Nonlocal value \n",
    "# Changing global variable inside a function"
   ]
  },
  {
   "cell_type": "code",
   "execution_count": 43,
   "id": "6daf9d07",
   "metadata": {},
   "outputs": [],
   "source": [
    "## Function in python\n",
    "def Name(param, param2):\n",
    "    pass\n",
    "\n",
    "    return "
   ]
  },
  {
   "cell_type": "code",
   "execution_count": 44,
   "id": "99b8da65",
   "metadata": {},
   "outputs": [],
   "source": [
    "#pep 8 format # example\n",
    "def PEP8(numbers):\n",
    "    \"\"\"\n",
    "    docs string \n",
    "    explain the function \n",
    "    input output - parameter\n",
    "    \"\"\"\n",
    "\n",
    "    #code \n",
    "\n",
    "    return "
   ]
  },
  {
   "cell_type": "code",
   "execution_count": 1,
   "id": "c83a26d2",
   "metadata": {},
   "outputs": [],
   "source": [
    "#simple add\n",
    "def Add(num1:int=5, num2:int=10) -> int:\n",
    "    return num1 + num2"
   ]
  },
  {
   "cell_type": "code",
   "execution_count": null,
   "id": "68a5e950",
   "metadata": {},
   "outputs": [
    {
     "data": {
      "text/plain": [
       "15"
      ]
     },
     "execution_count": 2,
     "metadata": {},
     "output_type": "execute_result"
    }
   ],
   "source": [
    "Add()"
   ]
  },
  {
   "cell_type": "code",
   "execution_count": 5,
   "id": "147f48f0",
   "metadata": {},
   "outputs": [
    {
     "data": {
      "text/plain": [
       "8.14"
      ]
     },
     "execution_count": 5,
     "metadata": {},
     "output_type": "execute_result"
    }
   ],
   "source": [
    "Add(3.14,5)"
   ]
  },
  {
   "cell_type": "code",
   "execution_count": 6,
   "id": "37e2d38e",
   "metadata": {},
   "outputs": [
    {
     "ename": "TypeError",
     "evalue": "can only concatenate list (not \"int\") to list",
     "output_type": "error",
     "traceback": [
      "\u001b[0;31m---------------------------------------------------------------------------\u001b[0m",
      "\u001b[0;31mTypeError\u001b[0m                                 Traceback (most recent call last)",
      "Cell \u001b[0;32mIn[6], line 1\u001b[0m\n\u001b[0;32m----> 1\u001b[0m \u001b[43mAdd\u001b[49m\u001b[43m(\u001b[49m\u001b[43m[\u001b[49m\u001b[38;5;241;43m1\u001b[39;49m\u001b[43m]\u001b[49m\u001b[43m,\u001b[49m\u001b[38;5;241;43m5\u001b[39;49m\u001b[43m)\u001b[49m\n",
      "Cell \u001b[0;32mIn[1], line 3\u001b[0m, in \u001b[0;36mAdd\u001b[0;34m(num1, num2)\u001b[0m\n\u001b[1;32m      2\u001b[0m \u001b[38;5;28;01mdef\u001b[39;00m\u001b[38;5;250m \u001b[39m\u001b[38;5;21mAdd\u001b[39m(num1:\u001b[38;5;28mint\u001b[39m\u001b[38;5;241m=\u001b[39m\u001b[38;5;241m5\u001b[39m, num2:\u001b[38;5;28mint\u001b[39m\u001b[38;5;241m=\u001b[39m\u001b[38;5;241m10\u001b[39m) \u001b[38;5;241m-\u001b[39m\u001b[38;5;241m>\u001b[39m \u001b[38;5;28mint\u001b[39m:\n\u001b[0;32m----> 3\u001b[0m     \u001b[38;5;28;01mreturn\u001b[39;00m \u001b[43mnum1\u001b[49m\u001b[43m \u001b[49m\u001b[38;5;241;43m+\u001b[39;49m\u001b[43m \u001b[49m\u001b[43mnum2\u001b[49m\n",
      "\u001b[0;31mTypeError\u001b[0m: can only concatenate list (not \"int\") to list"
     ]
    }
   ],
   "source": [
    "Add([1],5)"
   ]
  },
  {
   "cell_type": "code",
   "execution_count": 4,
   "id": "319d6038",
   "metadata": {},
   "outputs": [],
   "source": [
    "lambda_fn = lambda x : x + 1\n",
    "#lambda (input) : (return output)"
   ]
  },
  {
   "cell_type": "code",
   "execution_count": 48,
   "id": "5b8863d4",
   "metadata": {},
   "outputs": [
    {
     "data": {
      "text/plain": [
       "6"
      ]
     },
     "execution_count": 48,
     "metadata": {},
     "output_type": "execute_result"
    }
   ],
   "source": [
    "lambda_fn(5)"
   ]
  },
  {
   "cell_type": "code",
   "execution_count": null,
   "id": "2a396ece",
   "metadata": {},
   "outputs": [],
   "source": [
    "def function_smth(x):\n",
    "    return x + 1 "
   ]
  },
  {
   "cell_type": "code",
   "execution_count": 7,
   "id": "5ca5d3a8",
   "metadata": {},
   "outputs": [
    {
     "name": "stderr",
     "output_type": "stream",
     "text": [
      "/opt/anaconda3/envs/base3.10/lib/python3.10/site-packages/tqdm/auto.py:21: TqdmWarning: IProgress not found. Please update jupyter and ipywidgets. See https://ipywidgets.readthedocs.io/en/stable/user_install.html\n",
      "  from .autonotebook import tqdm as notebook_tqdm\n"
     ]
    }
   ],
   "source": [
    "from transformers import Trainer"
   ]
  },
  {
   "cell_type": "code",
   "execution_count": null,
   "id": "5ffaf0b9",
   "metadata": {},
   "outputs": [
    {
     "data": {
      "text/plain": [
       "transformers.trainer.Trainer"
      ]
     },
     "execution_count": 2,
     "metadata": {},
     "output_type": "execute_result"
    }
   ],
   "source": [
    "Trainer()"
   ]
  },
  {
   "cell_type": "code",
   "execution_count": 49,
   "id": "92bff1c9",
   "metadata": {},
   "outputs": [],
   "source": [
    "#global - local \n",
    "# global = value that use in all the code \n",
    "# local = value in side the function - object "
   ]
  },
  {
   "cell_type": "code",
   "execution_count": null,
   "id": "6707eb4b",
   "metadata": {},
   "outputs": [],
   "source": []
  },
  {
   "cell_type": "code",
   "execution_count": 50,
   "id": "7fbfa039",
   "metadata": {},
   "outputs": [],
   "source": [
    "value = 1"
   ]
  },
  {
   "cell_type": "code",
   "execution_count": 34,
   "id": "acb59273",
   "metadata": {},
   "outputs": [],
   "source": [
    "def view_global_value():\n",
    "    return value\n",
    "\n",
    "def init_local_global_value():\n",
    "    value = 5\n",
    "    value += 1 \n",
    "    return value\n",
    "\n",
    "def edit_global_value():\n",
    "    global value \n",
    "    value += 1\n",
    "    return value"
   ]
  },
  {
   "cell_type": "code",
   "execution_count": 35,
   "id": "05459ebe",
   "metadata": {},
   "outputs": [
    {
     "data": {
      "text/plain": [
       "1"
      ]
     },
     "execution_count": 35,
     "metadata": {},
     "output_type": "execute_result"
    }
   ],
   "source": [
    "view_global_value()"
   ]
  },
  {
   "cell_type": "code",
   "execution_count": 36,
   "id": "c535dae0",
   "metadata": {},
   "outputs": [
    {
     "data": {
      "text/plain": [
       "6"
      ]
     },
     "execution_count": 36,
     "metadata": {},
     "output_type": "execute_result"
    }
   ],
   "source": [
    "init_local_global_value()"
   ]
  },
  {
   "cell_type": "code",
   "execution_count": 39,
   "id": "fad6d273",
   "metadata": {},
   "outputs": [
    {
     "data": {
      "text/plain": [
       "4"
      ]
     },
     "execution_count": 39,
     "metadata": {},
     "output_type": "execute_result"
    }
   ],
   "source": [
    "edit_global_value()"
   ]
  },
  {
   "cell_type": "code",
   "execution_count": 40,
   "id": "10212b18",
   "metadata": {},
   "outputs": [
    {
     "data": {
      "text/plain": [
       "4"
      ]
     },
     "execution_count": 40,
     "metadata": {},
     "output_type": "execute_result"
    }
   ],
   "source": []
  },
  {
   "cell_type": "code",
   "execution_count": null,
   "id": "514a1822",
   "metadata": {},
   "outputs": [],
   "source": []
  }
 ],
 "metadata": {
  "kernelspec": {
   "display_name": "base3.10",
   "language": "python",
   "name": "python3"
  },
  "language_info": {
   "codemirror_mode": {
    "name": "ipython",
    "version": 3
   },
   "file_extension": ".py",
   "mimetype": "text/x-python",
   "name": "python",
   "nbconvert_exporter": "python",
   "pygments_lexer": "ipython3",
   "version": "3.10.16"
  }
 },
 "nbformat": 4,
 "nbformat_minor": 5
}
