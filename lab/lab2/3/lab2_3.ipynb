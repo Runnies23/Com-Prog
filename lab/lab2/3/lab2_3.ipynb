{
 "cells": [
  {
   "cell_type": "code",
   "execution_count": 1,
   "id": "cefc0350",
   "metadata": {},
   "outputs": [
    {
     "name": "stdout",
     "output_type": "stream",
     "text": [
      "|12345678901234567890|\n",
      "|--------------------|\n",
      "|Arthur              |\n"
     ]
    }
   ],
   "source": [
    "# |12345678901234567890|\n",
    "# |--------------------|\n",
    "# |Arthur              |\n",
    "\n",
    "name = \"Arthur\"\n",
    "print(f\"|12345678901234567890|\")\n",
    "print(f\"|--------------------|\")\n",
    "print(f\"|{name:<20}|\")"
   ]
  },
  {
   "cell_type": "code",
   "execution_count": 2,
   "id": "cd667d9f",
   "metadata": {},
   "outputs": [
    {
     "name": "stdout",
     "output_type": "stream",
     "text": [
      "|12345678901234567890|\n",
      "|--------------------|\n",
      "|              Arthur|\n"
     ]
    }
   ],
   "source": [
    "# |12345678901234567890|\n",
    "# |--------------------|\n",
    "# |              Arthur|\n",
    "\n",
    "name = \"Arthur\"\n",
    "print(f\"|12345678901234567890|\")\n",
    "print(f\"|--------------------|\")\n",
    "print(f\"|{name:>20}|\")"
   ]
  },
  {
   "cell_type": "code",
   "execution_count": 3,
   "id": "4978b549",
   "metadata": {},
   "outputs": [
    {
     "name": "stdout",
     "output_type": "stream",
     "text": [
      "|12345678901234567890|\n",
      "|--------------------|\n",
      "|       Arthur       |\n"
     ]
    }
   ],
   "source": [
    "# |12345678901234567890|\n",
    "# |--------------------|\n",
    "# |       Arthur       |\n",
    "\n",
    "name = \"Arthur\"\n",
    "print(f\"|12345678901234567890|\")\n",
    "print(f\"|--------------------|\")\n",
    "print(f\"|{name:^20}|\")"
   ]
  },
  {
   "cell_type": "code",
   "execution_count": null,
   "id": "5a025cef",
   "metadata": {},
   "outputs": [
    {
     "name": "stdout",
     "output_type": "stream",
     "text": [
      "|12345678901234567890|\n",
      "|--------------------|\n",
      "|              12.346|\n"
     ]
    }
   ],
   "source": [
    "# |12345678901234567890|\n",
    "# |--------------------|\n",
    "# |              12.346|\n",
    "\n",
    "x = 12.3456789\n",
    "print(f\"|12345678901234567890|\")\n",
    "print(f\"|--------------------|\")\n",
    "print(f\"|{x:>20.3f}|\")"
   ]
  },
  {
   "cell_type": "code",
   "execution_count": 6,
   "id": "72dc5ef2",
   "metadata": {},
   "outputs": [
    {
     "name": "stdout",
     "output_type": "stream",
     "text": [
      "3.122\n"
     ]
    }
   ],
   "source": [
    "val = 3.122222\n",
    "print(f\"{val:.3f}\")"
   ]
  },
  {
   "cell_type": "code",
   "execution_count": null,
   "id": "4cbfea04",
   "metadata": {},
   "outputs": [],
   "source": []
  }
 ],
 "metadata": {
  "kernelspec": {
   "display_name": "base3.10",
   "language": "python",
   "name": "python3"
  },
  "language_info": {
   "codemirror_mode": {
    "name": "ipython",
    "version": 3
   },
   "file_extension": ".py",
   "mimetype": "text/x-python",
   "name": "python",
   "nbconvert_exporter": "python",
   "pygments_lexer": "ipython3",
   "version": "3.10.16"
  }
 },
 "nbformat": 4,
 "nbformat_minor": 5
}
