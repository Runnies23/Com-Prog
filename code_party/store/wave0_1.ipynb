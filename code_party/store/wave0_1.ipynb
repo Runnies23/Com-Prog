{
 "cells": [
  {
   "cell_type": "code",
   "execution_count": null,
   "id": "fb6912db",
   "metadata": {},
   "outputs": [],
   "source": [
    "import pandas as pd \n",
    "import numpy as np \n",
    "from matplotlib.pyplot as plt \n"
   ]
  },
  {
   "cell_type": "code",
   "execution_count": 2,
   "id": "c33dab4a",
   "metadata": {},
   "outputs": [
    {
     "name": "stdout",
     "output_type": "stream",
     "text": [
      "583000\n"
     ]
    }
   ],
   "source": [
    "x = \"348234 234766\".split()\n",
    "\n",
    "print(sum(map(int,x )))"
   ]
  },
  {
   "cell_type": "code",
   "execution_count": 74,
   "id": "a6499281",
   "metadata": {},
   "outputs": [],
   "source": [
    "## collect\n",
    "\n",
    "data = open(\"./file/collect.txt\").read().splitlines()\n",
    "\n",
    "size = data[0]\n",
    "data = [int(i) for i in data]"
   ]
  },
  {
   "cell_type": "code",
   "execution_count": 75,
   "id": "cc26cb2c",
   "metadata": {},
   "outputs": [
    {
     "data": {
      "text/plain": [
       "525"
      ]
     },
     "execution_count": 75,
     "metadata": {},
     "output_type": "execute_result"
    }
   ],
   "source": [
    "data[-1]"
   ]
  },
  {
   "cell_type": "code",
   "execution_count": 80,
   "id": "a2a69d3d",
   "metadata": {},
   "outputs": [
    {
     "name": "stdout",
     "output_type": "stream",
     "text": [
      "start 25\n",
      "-25 6 31 56\n",
      "6 16 10 66\n",
      "16 39 23 89\n",
      "39 78 39 128\n",
      "78 89 11 139\n",
      "89 -157 -246 385\n",
      "-157 -165 -8 393\n",
      "-165 -123 42 435\n",
      "-123 -155 -32 467\n",
      "-155 -202 -47 514\n",
      "-202 -220 -18 532\n",
      "-220 -189 31 563\n",
      "-189 -238 -49 612\n",
      "-238 -277 -39 651\n",
      "-277 -262 15 666\n",
      "-262 -291 -29 695\n",
      "-291 -299 -8 703\n",
      "-299 -558 -259 962\n",
      "-558 -571 -13 975\n",
      "-571 -173 398 1373\n",
      "-173 -200 -27 1400\n",
      "-200 -237 -37 1437\n",
      "-237 -625 -388 1825\n",
      "-625 -665 -40 1865\n",
      "-665 -780 -115 1980\n",
      "-780 -808 -28 2008\n",
      "-808 -804 4 2012\n",
      "-804 -818 -14 2026\n",
      "-818 -845 -27 2053\n",
      "-845 124 969 3022\n",
      "124 141 17 3039\n",
      "141 139 -2 3041\n",
      "139 151 12 3053\n",
      "151 140 -11 3064\n",
      "140 189 49 3113\n",
      "189 212 23 3136\n",
      "212 219 7 3143\n",
      "219 866 647 3790\n",
      "866 837 -29 3819\n",
      "837 872 35 3854\n",
      "872 872 0 3854\n",
      "872 848 -24 3878\n",
      "848 813 -35 3913\n",
      "813 369 -444 4357\n",
      "369 324 -45 4402\n",
      "324 329 5 4407\n",
      "329 347 18 4425\n",
      "347 370 23 4448\n",
      "370 -173 -543 4991\n",
      "-173 -855 -682 5673\n",
      "-855 -892 -37 5710\n",
      "-892 -939 -47 5757\n",
      "-939 -289 650 6407\n",
      "-289 -269 20 6427\n",
      "-269 -265 4 6431\n",
      "-265 -245 20 6451\n",
      "-245 -629 -384 6835\n",
      "-629 -637 -8 6843\n",
      "-637 -590 47 6890\n",
      "-590 -568 22 6912\n",
      "-568 -569 -1 6913\n",
      "-569 546 1115 8028\n",
      "546 552 6 8034\n",
      "552 545 -7 8041\n",
      "545 574 29 8070\n",
      "574 534 -40 8110\n",
      "534 486 -48 8158\n",
      "486 486 0 8158\n",
      "486 -263 -749 8907\n",
      "-263 -215 48 8955\n",
      "-215 -259 -44 8999\n",
      "-259 -222 37 9036\n",
      "-222 651 873 9909\n",
      "651 649 -2 9911\n",
      "649 684 35 9946\n",
      "684 657 -27 9973\n",
      "657 -721 -1378 11351\n",
      "-721 133 854 12205\n",
      "133 133 0 12205\n",
      "133 147 14 12219\n",
      "147 176 29 12248\n",
      "176 189 13 12261\n",
      "189 164 -25 12286\n",
      "164 186 22 12308\n",
      "186 215 29 12337\n",
      "215 214 -1 12338\n",
      "214 638 424 12762\n",
      "638 677 39 12801\n",
      "677 -120 -797 13598\n",
      "-120 -145 -25 13623\n",
      "-145 -112 33 13656\n",
      "-112 -151 -39 13695\n",
      "-151 456 607 14302\n",
      "456 448 -8 14310\n",
      "448 480 32 14342\n",
      "480 501 21 14363\n",
      "501 550 49 14412\n",
      "550 559 9 14421\n",
      "559 525 -34 14455\n"
     ]
    }
   ],
   "source": [
    "## collect\n",
    "\n",
    "data = open(\"./file/collect.txt\").read().splitlines()\n",
    "# data = [4,1,2,3,4]\n",
    "# data = [5,10,5,10,5,20]\n",
    "\n",
    "size = data[0]\n",
    "data = [int(i) for i in data]\n",
    "base = abs(data[1])\n",
    "previous = data[1]\n",
    "\n",
    "print(\"start\", base)\n",
    "\n",
    "for i in data[2:]:\n",
    "    if abs(i) <= 1000:\n",
    "        base += abs(i - previous)\n",
    "        print(previous, i,i - previous,base)\n",
    "        previous = i"
   ]
  },
  {
   "cell_type": "code",
   "execution_count": 81,
   "id": "da4fd1ab",
   "metadata": {},
   "outputs": [
    {
     "data": {
      "text/plain": [
       "14455"
      ]
     },
     "execution_count": 81,
     "metadata": {},
     "output_type": "execute_result"
    }
   ],
   "source": [
    "base"
   ]
  },
  {
   "cell_type": "code",
   "execution_count": null,
   "id": "63d25368",
   "metadata": {},
   "outputs": [],
   "source": []
  },
  {
   "cell_type": "code",
   "execution_count": null,
   "id": "75b831ec",
   "metadata": {},
   "outputs": [],
   "source": []
  },
  {
   "cell_type": "code",
   "execution_count": null,
   "id": "4d037b9f",
   "metadata": {},
   "outputs": [],
   "source": []
  },
  {
   "cell_type": "code",
   "execution_count": null,
   "id": "b57c73ee",
   "metadata": {},
   "outputs": [],
   "source": []
  },
  {
   "cell_type": "markdown",
   "id": "74a907c6",
   "metadata": {},
   "source": [
    "### Futher"
   ]
  },
  {
   "cell_type": "code",
   "execution_count": null,
   "id": "3540d9a3",
   "metadata": {},
   "outputs": [
    {
     "ename": "ValueError",
     "evalue": "invalid literal for int() with base 10: '4567 7241'",
     "output_type": "error",
     "traceback": [
      "\u001b[0;31m---------------------------------------------------------------------------\u001b[0m",
      "\u001b[0;31mValueError\u001b[0m                                Traceback (most recent call last)",
      "Cell \u001b[0;32mIn[43], line 6\u001b[0m\n\u001b[1;32m      3\u001b[0m data \u001b[38;5;241m=\u001b[39m \u001b[38;5;28mopen\u001b[39m(\u001b[38;5;124m\"\u001b[39m\u001b[38;5;124m./file/furthest.txt\u001b[39m\u001b[38;5;124m\"\u001b[39m)\u001b[38;5;241m.\u001b[39mread()\u001b[38;5;241m.\u001b[39msplitlines()\n\u001b[1;32m      5\u001b[0m size \u001b[38;5;241m=\u001b[39m data[\u001b[38;5;241m0\u001b[39m]\n\u001b[0;32m----> 6\u001b[0m data \u001b[38;5;241m=\u001b[39m [\u001b[38;5;28mint\u001b[39m(i) \u001b[38;5;28;01mfor\u001b[39;00m i \u001b[38;5;129;01min\u001b[39;00m data]\n",
      "Cell \u001b[0;32mIn[43], line 6\u001b[0m, in \u001b[0;36m<listcomp>\u001b[0;34m(.0)\u001b[0m\n\u001b[1;32m      3\u001b[0m data \u001b[38;5;241m=\u001b[39m \u001b[38;5;28mopen\u001b[39m(\u001b[38;5;124m\"\u001b[39m\u001b[38;5;124m./file/furthest.txt\u001b[39m\u001b[38;5;124m\"\u001b[39m)\u001b[38;5;241m.\u001b[39mread()\u001b[38;5;241m.\u001b[39msplitlines()\n\u001b[1;32m      5\u001b[0m size \u001b[38;5;241m=\u001b[39m data[\u001b[38;5;241m0\u001b[39m]\n\u001b[0;32m----> 6\u001b[0m data \u001b[38;5;241m=\u001b[39m [\u001b[38;5;28;43mint\u001b[39;49m\u001b[43m(\u001b[49m\u001b[43mi\u001b[49m\u001b[43m)\u001b[49m \u001b[38;5;28;01mfor\u001b[39;00m i \u001b[38;5;129;01min\u001b[39;00m data]\n",
      "\u001b[0;31mValueError\u001b[0m: invalid literal for int() with base 10: '4567 7241'"
     ]
    }
   ],
   "source": [
    "## collect\n",
    "\n",
    "data = open(\"./file/furthest.txt\").read().splitlines()\n",
    "\n",
    "size = data[0]\n",
    "# data = [int(i) for i in data]"
   ]
  },
  {
   "cell_type": "code",
   "execution_count": null,
   "id": "b673c89e",
   "metadata": {},
   "outputs": [
    {
     "ename": "NameError",
     "evalue": "name 'sie' is not defined",
     "output_type": "error",
     "traceback": [
      "\u001b[0;31m---------------------------------------------------------------------------\u001b[0m",
      "\u001b[0;31mNameError\u001b[0m                                 Traceback (most recent call last)",
      "Cell \u001b[0;32mIn[44], line 1\u001b[0m\n\u001b[0;32m----> 1\u001b[0m \u001b[43msie\u001b[49m\n",
      "\u001b[0;31mNameError\u001b[0m: name 'sie' is not defined"
     ]
    }
   ],
   "source": [
    "size"
   ]
  },
  {
   "cell_type": "code",
   "execution_count": null,
   "id": "61da57a5",
   "metadata": {},
   "outputs": [],
   "source": []
  }
 ],
 "metadata": {
  "kernelspec": {
   "display_name": "Python 3",
   "language": "python",
   "name": "python3"
  },
  "language_info": {
   "codemirror_mode": {
    "name": "ipython",
    "version": 3
   },
   "file_extension": ".py",
   "mimetype": "text/x-python",
   "name": "python",
   "nbconvert_exporter": "python",
   "pygments_lexer": "ipython3",
   "version": "3.10.16"
  }
 },
 "nbformat": 4,
 "nbformat_minor": 5
}
