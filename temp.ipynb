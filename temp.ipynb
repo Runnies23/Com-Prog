{
 "cells": [
  {
   "cell_type": "code",
   "execution_count": null,
   "id": "9e3d3653",
   "metadata": {},
   "outputs": [],
   "source": [
    "# missing case shift minus like -1, -2 \n",
    "\n",
    "horizontal = int(input(\"Enter horizontal shift size: \"))\n",
    "vertical = int(input(\"Enter vertical shift size: \"))\n",
    "padding_text = \"0\"\n",
    "\n",
    "#get image input \n",
    "print(\"Enter image: \")\n",
    "text_image = []\n",
    "status = True\n",
    "while status:\n",
    "    input_text = input()\n",
    "    if input_text == '-1':\n",
    "        status = False\n",
    "        continue\n",
    "    text_image.append(input_text)\n",
    "\n",
    "#detail about size image that is width and height\n",
    "image_detail_h_w = [len(text_image), len(text_image[0])]\n",
    "\n",
    "\n",
    "#add case when horizontal < 0 \n",
    "horizontal_image = []\n",
    "if horizontal > 0:\n",
    "    for rows in text_image[:-vertical]:\n",
    "        horizontal_image.append((\"0\" * horizontal) + rows[:-horizontal])\n",
    "else: \n",
    "    for rows in text_image[-vertical:]:\n",
    "        horizontal_image.append(rows[-horizontal:] + (\"0\" * abs(horizontal)))\n",
    "\n",
    "\n",
    "#add image padding on vertical \n",
    "new_image = [None] * image_detail_h_w[0]\n",
    "#add case when vertical is < 0\n",
    "if vertical > 0:\n",
    "    # new_image[:vertical] = [\"0\" * image_detail_h_w[1] for _ in range(vertical)]\n",
    "    vertical_image = [\"0\" * image_detail_h_w[1] for _ in range(vertical)]\n",
    "    new_image = vertical_image + horizontal_image\n",
    "\n",
    "else: \n",
    "    vertical_image = [\"0\" * image_detail_h_w[1] for _ in range(vertical,0,1)]\n",
    "    new_image = horizontal_image + vertical_image\n",
    "\n",
    "print(\"After shift:\")\n",
    "#print the padding image text\n",
    "for i in new_image:\n",
    "    print(i)\n"
   ]
  },
  {
   "cell_type": "code",
   "execution_count": null,
   "id": "338adaa3",
   "metadata": {},
   "outputs": [],
   "source": []
  },
  {
   "cell_type": "code",
   "execution_count": null,
   "id": "7f64d42f",
   "metadata": {},
   "outputs": [],
   "source": [
    "# missing case shift minus like -1, -2 \n"
   ]
  },
  {
   "cell_type": "code",
   "execution_count": null,
   "id": "8ebda65f",
   "metadata": {},
   "outputs": [],
   "source": []
  },
  {
   "cell_type": "code",
   "execution_count": null,
   "id": "af819237",
   "metadata": {},
   "outputs": [],
   "source": []
  },
  {
   "cell_type": "code",
   "execution_count": null,
   "id": "19dd254d",
   "metadata": {},
   "outputs": [],
   "source": [
    "# input_val = input(\"ป้อนรหัสลับ: \")\n",
    "input_val = 'a1b2c3'\n",
    "# input_val = 'no_numbers here'\n",
    "# input_val = 'x5y10z15 0'\n",
    "\n",
    "current = 0\n",
    "next_val = 0\n",
    "rst = []\n",
    "\n",
    "current_val = \"\"\n",
    "while current + next_val < len(input_val):\n",
    "    index = current+next_val\n",
    "    item = input_val[current+next_val]\n",
    "    print(index, item)\n",
    "\n",
    "    if next_val > 0:\n",
    "        if item.isdigit():\n",
    "            next_val += 1\n",
    "            current_val += str(item)\n",
    "        else: \n",
    "            # print(\"add\")\n",
    "            rst.append(current_val)\n",
    "            current_val = \"\"\n",
    "            current += next_val\n",
    "            next_val = 0\n",
    "\n",
    "    if item.isdigit():\n",
    "        current_val += str(item)\n",
    "        next_val += 1\n",
    "\n",
    "    else:\n",
    "        current += 1\n",
    "\n",
    "print(f\"ผลลัพธ์: {sum([int(i) for i in rst])}\")"
   ]
  },
  {
   "cell_type": "code",
   "execution_count": null,
   "id": "1aa4d7a9",
   "metadata": {},
   "outputs": [],
   "source": [
    "# input_val = 'a1b2c3'\n",
    "input_val = 'x5y10z15 0'\n",
    "\n",
    "\n",
    "Sum = 0\n",
    "current = 0\n",
    "\n",
    "for i in range(len(input_val)):\n",
    "    item = input_val[i]\n",
    "    if item.isdigit():\n",
    "        if current != 0:\n",
    "            current *= 10\n",
    "            current += int(item)\n",
    "        else:\n",
    "            Sum += current\n",
    "            current = 0\n",
    "\n",
    "        current += int(item)\n",
    "        # print(item)\n",
    "        # Sum += int(item)\n",
    "\n",
    "    else:\n",
    "        Sum += current\n",
    "        current = 0"
   ]
  },
  {
   "cell_type": "code",
   "execution_count": null,
   "id": "154ba1c3",
   "metadata": {},
   "outputs": [],
   "source": []
  },
  {
   "cell_type": "code",
   "execution_count": null,
   "id": "a93bcc1d",
   "metadata": {},
   "outputs": [],
   "source": [
    "# input_val = 'a1b2c3'\n",
    "input_val = 'x5y10z15 0'\n",
    "\n",
    "\n",
    "Sum = 0\n",
    "current = 0\n",
    "\n",
    "for i in range(len(input_val)):\n",
    "    item = input_val[i]\n",
    "    if item.isdigit():\n",
    "        current += int(item)\n",
    "    else:\n",
    "        Sum += current\n",
    "        current = 0"
   ]
  },
  {
   "cell_type": "code",
   "execution_count": null,
   "id": "e7da6ed7",
   "metadata": {},
   "outputs": [],
   "source": [
    "Sum"
   ]
  },
  {
   "cell_type": "code",
   "execution_count": null,
   "id": "b54b0901",
   "metadata": {},
   "outputs": [],
   "source": []
  },
  {
   "cell_type": "code",
   "execution_count": null,
   "id": "61deabed",
   "metadata": {},
   "outputs": [],
   "source": []
  },
  {
   "cell_type": "code",
   "execution_count": null,
   "id": "48db1858",
   "metadata": {},
   "outputs": [],
   "source": [
    "Sum"
   ]
  },
  {
   "cell_type": "code",
   "execution_count": null,
   "id": "18f394e5",
   "metadata": {},
   "outputs": [],
   "source": [
    "current"
   ]
  },
  {
   "cell_type": "code",
   "execution_count": null,
   "id": "1f37ce89",
   "metadata": {},
   "outputs": [],
   "source": []
  },
  {
   "cell_type": "code",
   "execution_count": null,
   "id": "bdaf885b",
   "metadata": {},
   "outputs": [],
   "source": []
  },
  {
   "cell_type": "code",
   "execution_count": null,
   "id": "6a31b428",
   "metadata": {},
   "outputs": [],
   "source": []
  },
  {
   "cell_type": "code",
   "execution_count": null,
   "id": "4409f5c0",
   "metadata": {},
   "outputs": [],
   "source": [
    "#brute force \n",
    "from collections import defaultdict\n",
    "print(\"Parse a long paragraph (or text) below, following an ENTER as needed:\")\n",
    "\n",
    "count_dict = defaultdict(int)\n",
    "text = text.split('\\n')\n",
    "text = \" \".join(text).lower()#.replace(',','')\n",
    "\n",
    "\n",
    "text = text.split(' ')\n",
    "print(text)\n",
    "\n",
    "for i in text:\n",
    "    if i not in count_dict:\n",
    "        count_dict[i] = 1\n",
    "    else: \n",
    "        count_dict[i] += 1\n",
    "\n",
    "topk = 4\n",
    "for i in sorted(set(count_dict.values()))[::-1][:topk]:\n",
    "    text = []\n",
    "    for key, value in count_dict.items():\n",
    "        if value == i:\n",
    "            text.append(f\"{key}: {value}\")\n",
    "    print(\", \".join(text))"
   ]
  },
  {
   "cell_type": "code",
   "execution_count": null,
   "id": "3630e42b",
   "metadata": {},
   "outputs": [],
   "source": []
  },
  {
   "cell_type": "code",
   "execution_count": null,
   "id": "34c7d122",
   "metadata": {},
   "outputs": [],
   "source": [
    "val = input(\"ข้อมูล: \")\n",
    "target = int(input(\"ค่าที่ต้องการหา: \"))\n",
    "\n",
    "val = [int(i) for i in val.split(\", \")]\n",
    "\n",
    "n = len(val)\n",
    "\n",
    "total = 0\n",
    "l = 0\n",
    "r = n - 1\n",
    "while l <= r:\n",
    "    total += 1\n",
    "    mid = (l + r) // 2\n",
    "    item = val[mid]\n",
    "    if item == target:\n",
    "        print(f\"จำนวนครั้งที่ค้นหา: {total}\")\n",
    "        break\n",
    "    if item > target:\n",
    "        r = mid - 1\n",
    "    else: \n",
    "        l = mid + 1\n"
   ]
  },
  {
   "cell_type": "code",
   "execution_count": null,
   "id": "d5a4ec9b",
   "metadata": {},
   "outputs": [],
   "source": []
  },
  {
   "cell_type": "code",
   "execution_count": null,
   "id": "edcdbfd9",
   "metadata": {},
   "outputs": [],
   "source": [
    "mine"
   ]
  },
  {
   "cell_type": "code",
   "execution_count": null,
   "id": "0e7dad2a",
   "metadata": {},
   "outputs": [],
   "source": [
    "for i in mine:\n",
    "    print(i)"
   ]
  },
  {
   "cell_type": "code",
   "execution_count": null,
   "id": "56500e05",
   "metadata": {},
   "outputs": [],
   "source": []
  },
  {
   "cell_type": "code",
   "execution_count": null,
   "id": "3ad58b9d",
   "metadata": {},
   "outputs": [],
   "source": []
  },
  {
   "cell_type": "code",
   "execution_count": null,
   "id": "978cfe36",
   "metadata": {},
   "outputs": [],
   "source": []
  },
  {
   "cell_type": "code",
   "execution_count": null,
   "id": "bb8306d2",
   "metadata": {},
   "outputs": [],
   "source": [
    "matrix"
   ]
  },
  {
   "cell_type": "code",
   "execution_count": null,
   "id": "a2a1c993",
   "metadata": {},
   "outputs": [],
   "source": []
  },
  {
   "cell_type": "code",
   "execution_count": null,
   "id": "ce716189",
   "metadata": {},
   "outputs": [],
   "source": [
    "# 1, 3, 5, 7, 9, 11, 13, 15, 17, 19"
   ]
  },
  {
   "cell_type": "code",
   "execution_count": null,
   "id": "fc578a6b",
   "metadata": {},
   "outputs": [],
   "source": [
    "s = input('ข้อมูล: ')\n",
    "f = int(input('ค่าที่ต้องการหา: '))\n",
    "s= s.split(\",\")\n",
    "t = []\n",
    "for i in s :\n",
    "   x = int(i)\n",
    "   t.append(x)\n",
    "mid_index = len(t)//2\n",
    "mid_value = t[mid_index]"
   ]
  },
  {
   "cell_type": "code",
   "execution_count": null,
   "id": "8b00e08e",
   "metadata": {},
   "outputs": [
    {
     "name": "stdout",
     "output_type": "stream",
     "text": [
      "จำนวนครั้งที่ค้นหา: 4\n"
     ]
    }
   ],
   "source": []
  },
  {
   "cell_type": "code",
   "execution_count": null,
   "id": "3bdd4a93",
   "metadata": {},
   "outputs": [],
   "source": []
  },
  {
   "cell_type": "code",
   "execution_count": 83,
   "id": "5713f022",
   "metadata": {},
   "outputs": [
    {
     "name": "stdout",
     "output_type": "stream",
     "text": [
      "Debug : bs(7,[1, 3, 5, 7, 9, 11, 13, 15, 17, 19],1)\n",
      "Debug : bs(7,[1, 3, 5, 7, 9],2)\n",
      "Debug : bs(7,[7, 9],3)\n",
      "Debug : bs(7,[7],4)\n",
      "rst : 4\n",
      "====================\n",
      "Debug : bs(16,[2, 4, 6, 8, 10, 12, 14, 16, 18, 20],1)\n",
      "Debug : bs(16,[14, 16, 18, 20],2)\n",
      "Debug : bs(16,[14, 16],3)\n",
      "rst : 3\n"
     ]
    }
   ],
   "source": [
    "# Labels ===================================\n",
    "def bs(k:int, m:list, c=0):\n",
    "    # if m:\n",
    "        mid = len(m) // 2\n",
    "        c +=1 \n",
    "        print(f\"Debug : bs({k},{m},{c})\")\n",
    "        if m[mid] == k: return c\n",
    "        if k > m[mid] : return bs(k, m[mid+1:],c)\n",
    "        return bs(k,m[:mid],c)\n",
    "    # else:\n",
    "    #     return 1\n",
    "\n",
    "# count = bs(7, [1, 3, 5, 7, 9, 11, 13, 15, 17, 19])\n",
    "# print(count)\n",
    "\n",
    "\n",
    "print(f\"rst : {bs(7,[1, 3, 5, 7, 9, 11, 13, 15, 17, 19])}\")\n",
    "print(\"=\" * 20)\n",
    "print(f\"rst : {bs(16,[2, 4, 6, 8, 10, 12, 14, 16, 18, 20])}\")\n"
   ]
  },
  {
   "cell_type": "code",
   "execution_count": 94,
   "id": "bbf7f680",
   "metadata": {},
   "outputs": [
    {
     "name": "stdout",
     "output_type": "stream",
     "text": [
      "7 : [1, 3, 5, 7, 9, 11, 13, 15, 17, 19] : 1\n",
      "Middle : 5\n",
      "want left\n",
      "7 : [1, 3, 5, 7] : 2\n",
      "Middle : 2\n",
      "want right\n",
      "7 : [5, 7] : 3\n",
      "Middle : 1\n",
      "rst : 3\n",
      "====================\n",
      "16 : [2, 4, 6, 8, 10, 12, 14, 16, 18, 20] : 1\n",
      "Middle : 5\n",
      "want right\n",
      "16 : [12, 14, 16, 18, 20] : 2\n",
      "Middle : 2\n",
      "rst : 2\n"
     ]
    }
   ],
   "source": [
    "def binary_search(array, value, count:int = 1):\n",
    "    if not array:\n",
    "        return -1\n",
    "    middle_idx = (len(array)) // 2\n",
    "    middle_val = array[middle_idx]\n",
    "\n",
    "    print(f\"{value} : {array} : {count}\")\n",
    "    print(f\"Middle : {middle_idx}\")\n",
    "\n",
    "    if middle_val == value:\n",
    "        return count\n",
    "    if middle_val > value:\n",
    "        print(\"want left\")\n",
    "        return binary_search(array[:middle_idx - 1], value, count + 1)\n",
    "    else: \n",
    "        print(\"want right\")\n",
    "        return binary_search(array[middle_idx:], value, count + 1)\n",
    "\n",
    "print(f\"rst : {binary_search([1, 3, 5, 7, 9, 11, 13, 15, 17, 19], 7, 1)}\")\n",
    "print(\"=\" * 20)\n",
    "print(f\"rst : {binary_search([2, 4, 6, 8, 10, 12, 14, 16, 18, 20], 16, 1)}\")\n"
   ]
  },
  {
   "cell_type": "code",
   "execution_count": 1,
   "id": "39cec5f2",
   "metadata": {},
   "outputs": [
    {
     "name": "stdout",
     "output_type": "stream",
     "text": [
      "rst : 4\n",
      "====================\n",
      "rst : 2\n"
     ]
    }
   ],
   "source": [
    "def recursive_binary(target, array, left:int = 0, right=None, count:int=0):\n",
    "    # left, right = 0,len(array) - 1\n",
    "    if right is None: \n",
    "        right = len(array) - 1\n",
    "\n",
    "    middle = (left+right)//2\n",
    "    middle_val = array[middle]\n",
    "    if middle_val == target:\n",
    "        return count + 1\n",
    "    if middle_val > target:\n",
    "        return recursive_binary(target, array, left, middle-1, count + 1)\n",
    "    else: \n",
    "        return recursive_binary(target, array, middle + 1, right, count + 1)\n",
    "    \n",
    "\n",
    "print(f\"rst : {recursive_binary(target=7, array=[1, 3, 5, 7, 9, 11, 13, 15, 17, 19])}\")\n",
    "print(\"=\" * 20)\n",
    "print(f\"rst : {recursive_binary(target=16, array=[2, 4, 6, 8, 10, 12, 14, 16, 18, 20])}\")\n"
   ]
  },
  {
   "cell_type": "code",
   "execution_count": null,
   "id": "52e098c8",
   "metadata": {},
   "outputs": [
    {
     "name": "stdout",
     "output_type": "stream",
     "text": [
      "[1, 3, 5, 7, 9, 11, 13, 15, 17, 19]\n",
      "[1, 3, 5, 7]\n",
      "[5, 7]\n",
      "[7]\n",
      "จำนวนครั้งที่ค้นหา: 4\n",
      "rst : 4\n",
      "====================\n",
      "[2, 4, 6, 8, 10, 12, 14, 16, 18, 20]\n",
      "[12, 14, 16, 18, 20]\n",
      "จำนวนครั้งที่ค้นหา: 2\n",
      "rst : 2\n"
     ]
    }
   ],
   "source": [
    "\n",
    "def binary(val, target, count:int=0):\n",
    "    n = len(val)\n",
    "\n",
    "    l = 0\n",
    "    r = n - 1\n",
    "    while l <= r:\n",
    "        count += 1\n",
    "        print(val[l: r + 1])\n",
    "        mid = (l + r) // 2\n",
    "        item = val[mid]\n",
    "        if item == target:\n",
    "            print(f\"จำนวนครั้งที่ค้นหา: {count}\")\n",
    "            break\n",
    "        if item > target:\n",
    "            r = mid - 1\n",
    "        else: \n",
    "            l = mid + 1\n",
    "\n",
    "    return count\n",
    "\n",
    "print(f\"rst : {binary([1, 3, 5, 7, 9, 11, 13, 15, 17, 19], 7, 0)}\")\n",
    "print(\"=\" * 20)\n",
    "print(f\"rst : {binary([2, 4, 6, 8, 10, 12, 14, 16, 18, 20], 16, 0)}\")\n"
   ]
  },
  {
   "cell_type": "code",
   "execution_count": null,
   "id": "34bd1c36",
   "metadata": {},
   "outputs": [],
   "source": [
    "text = \"\"\"When the night has come\n",
    "And the land is dark\n",
    "And the moon is the only light we'll see\n",
    "No I won't be afraid\n",
    "Oh, I won't be afraid\n",
    "Just as long as you stand, stand by me\n",
    "So darling, darling\n",
    "Stand by me, oh stand by me\n",
    "Oh stand, stand by me\n",
    "Stand by me\n",
    "If the sky that we look upon\n",
    "Should tumble and fall\n",
    "Or the mountain should crumble to the sea\n",
    "I won't cry, I won't cry\n",
    "No, I won't shed a tear\n",
    "Just as long as you stand, stand by me\n",
    "And darling, darling\n",
    "Stand by me, oh stand by me\n",
    "Oh stand now, stand by me\n",
    "Stand by me\n",
    "Darling, darling\n",
    "Stand by me, oh stand by me\n",
    "Oh stand now, stand by me, stand by me\n",
    "Whenever you're in trouble won't you stand by me\n",
    "Oh stand by me, oh won't you stand now, stand\n",
    "Stand by me\"\"\""
   ]
  },
  {
   "cell_type": "code",
   "execution_count": 2,
   "id": "89492e5c",
   "metadata": {},
   "outputs": [
    {
     "name": "stdout",
     "output_type": "stream",
     "text": [
      "Parse a long paragraph (or text) below, following an ENTER as needed:\n",
      "come: 1, has: 1, night: 1, the: 1, when: 1\n"
     ]
    }
   ],
   "source": [
    "def getMultilinesInput():\n",
    "    text = \"\"\n",
    "    while True:\n",
    "        line = input()\n",
    "        if not line:\n",
    "            break\n",
    "        text += line + ' '\n",
    "    return text\n",
    "\n",
    "print(\"Parse a long paragraph (or text) below, following an ENTER as needed:\")\n",
    "ss = getMultilinesInput()\n",
    "\n",
    "cleaned_text = ''\n",
    "for ch in ss:\n",
    "    if ch.isalpha():\n",
    "        cleaned_text += ch.lower()\n",
    "    else:\n",
    "        cleaned_text += ' '\n",
    "\n",
    "words = cleaned_text.split()\n",
    "k = int(input(\"Top K rank: \"))\n",
    "\n",
    "num = {}\n",
    "for word in words:\n",
    "    if word in num:\n",
    "        num[word] += 1\n",
    "    else:\n",
    "        num[word] = 1\n",
    "\n",
    "sorted_items = sorted(num.items(), key=lambda x: x[1], reverse=True)\n",
    "\n",
    "rank = 0\n",
    "i = 0\n",
    "while rank < k and i < len(sorted_items):\n",
    "    current_count = sorted_items[i][1]\n",
    "    same_count_words = []\n",
    "\n",
    "    while i < len(sorted_items) and sorted_items[i][1] == current_count:\n",
    "        same_count_words.append(sorted_items[i][0])\n",
    "        i += 1\n",
    "\n",
    "    same_count_words.sort()\n",
    "\n",
    "    if len(same_count_words) == 1:\n",
    "        print(f\"{same_count_words[0]}: {current_count}\")\n",
    "    else:\n",
    "        output_parts = []\n",
    "        for word in same_count_words:\n",
    "            output_parts.append(f\"{word}: {current_count}\")\n",
    "        print(\", \".join(output_parts))\n",
    "\n",
    "    rank += 1"
   ]
  },
  {
   "cell_type": "code",
   "execution_count": null,
   "id": "6a0af209",
   "metadata": {},
   "outputs": [],
   "source": []
  },
  {
   "cell_type": "code",
   "execution_count": null,
   "id": "37f6c511",
   "metadata": {},
   "outputs": [],
   "source": []
  },
  {
   "cell_type": "code",
   "execution_count": null,
   "id": "4abc8913",
   "metadata": {},
   "outputs": [],
   "source": []
  }
 ],
 "metadata": {
  "kernelspec": {
   "display_name": "base3.10",
   "language": "python",
   "name": "python3"
  },
  "language_info": {
   "codemirror_mode": {
    "name": "ipython",
    "version": 3
   },
   "file_extension": ".py",
   "mimetype": "text/x-python",
   "name": "python",
   "nbconvert_exporter": "python",
   "pygments_lexer": "ipython3",
   "version": "3.10.16"
  }
 },
 "nbformat": 4,
 "nbformat_minor": 5
}
