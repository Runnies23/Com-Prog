{
 "cells": [
  {
   "cell_type": "code",
   "execution_count": null,
   "id": "9e3d3653",
   "metadata": {},
   "outputs": [
    {
     "name": "stdout",
     "output_type": "stream",
     "text": [
      "Enter image: \n",
      "After shift:\n",
      "-\n",
      "-\n",
      "-\n"
     ]
    }
   ],
   "source": [
    "# missing case shift minus like -1, -2 \n",
    "\n",
    "horizontal = int(input(\"Enter horizontal shift size: \"))\n",
    "vertical = int(input(\"Enter vertical shift size: \"))\n",
    "padding_text = \"0\"\n",
    "\n",
    "#get image input \n",
    "print(\"Enter image: \")\n",
    "text_image = []\n",
    "status = True\n",
    "while status:\n",
    "    input_text = input()\n",
    "    if input_text == '-1':\n",
    "        status = False\n",
    "        continue\n",
    "    text_image.append(input_text)\n",
    "\n",
    "#detail about size image that is width and height\n",
    "image_detail_h_w = [len(text_image), len(text_image[0])]\n",
    "\n",
    "\n",
    "#add case when horizontal < 0 \n",
    "horizontal_image = []\n",
    "if horizontal > 0:\n",
    "    for rows in text_image[:-vertical]:\n",
    "        horizontal_image.append((\"0\" * horizontal) + rows[:-horizontal])\n",
    "else: \n",
    "    for rows in text_image[-vertical:]:\n",
    "        horizontal_image.append(rows[-horizontal:] + (\"0\" * abs(horizontal)))\n",
    "\n",
    "\n",
    "#add image padding on vertical \n",
    "new_image = [None] * image_detail_h_w[0]\n",
    "#add case when vertical is < 0\n",
    "if vertical > 0:\n",
    "    # new_image[:vertical] = [\"0\" * image_detail_h_w[1] for _ in range(vertical)]\n",
    "    vertical_image = [\"0\" * image_detail_h_w[1] for _ in range(vertical)]\n",
    "    new_image = vertical_image + horizontal_image\n",
    "\n",
    "else: \n",
    "    vertical_image = [\"0\" * image_detail_h_w[1] for _ in range(vertical,0,1)]\n",
    "    new_image = horizontal_image + vertical_image\n",
    "\n",
    "print(\"After shift:\")\n",
    "#print the padding image text\n",
    "for i in new_image:\n",
    "    print(i)\n"
   ]
  },
  {
   "cell_type": "code",
   "execution_count": null,
   "id": "338adaa3",
   "metadata": {},
   "outputs": [
    {
     "data": {
      "text/plain": [
       "['tttttttttttttt',\n",
       " 'tt----tt----tt',\n",
       " 'tt----tt----tt',\n",
       " 'tt----tt----tt',\n",
       " 'tttttttttttttt',\n",
       " 'tttttttttttttt',\n",
       " 'tttttt--tttttt',\n",
       " 'tttttttttttttt',\n",
       " 'tttttttttttttt']"
      ]
     },
     "execution_count": 77,
     "metadata": {},
     "output_type": "execute_result"
    }
   ],
   "source": []
  },
  {
   "cell_type": "code",
   "execution_count": null,
   "id": "7f64d42f",
   "metadata": {},
   "outputs": [
    {
     "name": "stdout",
     "output_type": "stream",
     "text": [
      "After shift:\n",
      "----tt----tt00\n",
      "----tt----tt00\n",
      "tttttttttttt00\n",
      "tttttttttttt00\n",
      "tttt--tttttt00\n",
      "tttttttttttt00\n",
      "tttttttttttt00\n",
      "00000000000000\n",
      "00000000000000\n"
     ]
    }
   ],
   "source": [
    "# missing case shift minus like -1, -2 \n"
   ]
  },
  {
   "cell_type": "code",
   "execution_count": null,
   "id": "8ebda65f",
   "metadata": {},
   "outputs": [],
   "source": []
  },
  {
   "cell_type": "code",
   "execution_count": null,
   "id": "af819237",
   "metadata": {},
   "outputs": [],
   "source": []
  },
  {
   "cell_type": "code",
   "execution_count": null,
   "id": "19dd254d",
   "metadata": {},
   "outputs": [],
   "source": []
  }
 ],
 "metadata": {
  "kernelspec": {
   "display_name": "base3.10",
   "language": "python",
   "name": "python3"
  },
  "language_info": {
   "codemirror_mode": {
    "name": "ipython",
    "version": 3
   },
   "file_extension": ".py",
   "mimetype": "text/x-python",
   "name": "python",
   "nbconvert_exporter": "python",
   "pygments_lexer": "ipython3",
   "version": "3.10.16"
  }
 },
 "nbformat": 4,
 "nbformat_minor": 5
}
